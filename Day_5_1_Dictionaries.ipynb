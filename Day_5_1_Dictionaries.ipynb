{
  "nbformat": 4,
  "nbformat_minor": 0,
  "metadata": {
    "colab": {
      "provenance": []
    },
    "kernelspec": {
      "name": "python3",
      "display_name": "Python 3"
    },
    "language_info": {
      "name": "python"
    }
  },
  "cells": [
    {
      "cell_type": "markdown",
      "metadata": {
        "id": "3G8wlzFJKE6d"
      },
      "source": [
        "# <font color = \"Lime\"> Python Dictionary  </font>"
      ]
    },
    {
      "cell_type": "markdown",
      "metadata": {
        "id": "a_2wbg22KWUR"
      },
      "source": [
        "A dictionary is a built-in data structure that allows you to store and retrieve data in a flexible manner.\n",
        "\n",
        "Dictionaries are ordered* collections of <font color = \"Lime\"> key:value pairs</font>, where each key is unique and associated with a corresponding value.\n",
        "\n",
        "The keys in a dictionary are used to access and retrieve the corresponding values.\n",
        "\n",
        "<font color = \"aqua\">**Note:** As of Python version 3.7, dictionaries are ordered. In Python 3.6 and earlier, dictionaries are unordered."
      ]
    },
    {
      "cell_type": "code",
      "source": [
        "my_dict = {\n",
        "    'name': 'Ramu',\n",
        "    'age': 25,\n",
        "    'country': 'India'\n",
        "}\n",
        "print(my_dict)"
      ],
      "metadata": {
        "id": "GhwBNFGN2BZZ"
      },
      "execution_count": null,
      "outputs": []
    },
    {
      "cell_type": "code",
      "source": [
        "#You can access the values in a dictionary using the keys\n",
        "print(my_dict['name'])      # Output: 'Ramu'\n",
        "print(my_dict['age'])       # Output: 25\n",
        "print(my_dict['country'])   # Output: 'India'"
      ],
      "metadata": {
        "id": "wKuCRLrx2VcG"
      },
      "execution_count": null,
      "outputs": []
    },
    {
      "cell_type": "code",
      "source": [
        "#dict()--predefined function to create an dictionary\n",
        "name = dict()#empty dictionary\n",
        "key = [1,2,3,4]\n",
        "value = [\"one\",\"two\",\"three\",\"four\"]\n",
        "x = dict(zip(key,value))#using zip function to zip key and values\n",
        "#print(x)\n",
        "z = dict([(1,\"one\"),(2,\"two\")]) #use list and tuple (key,value) pair\n",
        "print(z)\n",
        "#print(type(name))"
      ],
      "metadata": {
        "id": "5TyVhCet_hAD"
      },
      "execution_count": null,
      "outputs": []
    },
    {
      "cell_type": "code",
      "source": [
        "#Data type--Values in the dictionary items can be any data type\n",
        "student={\n",
        "    \"Name\":\"raja\",\n",
        "    \"Roll No\": 1,\n",
        "    \"Dept\":\"CSE\"\n",
        "    }\n",
        "print(type(student))"
      ],
      "metadata": {
        "id": "MHhJPA1D8wKe"
      },
      "execution_count": null,
      "outputs": []
    },
    {
      "cell_type": "code",
      "metadata": {
        "colab": {
          "base_uri": "https://localhost:8080/"
        },
        "id": "n4qX7zpRNR9y",
        "outputId": "1e03d197-555a-4ef3-f9d1-161c2baa28bb"
      },
      "source": [
        "#iterate usinf for loop\n",
        "my_dict1 = {1:1, 2:4, 3:9, 4:16, 5:25}\n",
        "\n",
        "my_dict2 = {} #empty dictonary\n",
        "\n",
        "for i in range(1,6):\n",
        "  my_dict2[i] = i ** 2\n",
        "\n",
        "print(my_dict2)"
      ],
      "execution_count": 4,
      "outputs": [
        {
          "output_type": "stream",
          "name": "stdout",
          "text": [
            "{1: 1, 2: 4, 3: 9, 4: 16, 5: 25}\n"
          ]
        }
      ]
    },
    {
      "cell_type": "markdown",
      "source": [
        "## **<font color = greem> KeyError: </font>**\n",
        "\n",
        "If you try to access a key that doesn't exist in the dictionary, it will raise a **<font color = Magenta> KeyError </font>**.\n",
        "\n",
        "To avoid this, you can use the <font color = Magenta> **get()** </font> method, which allows you to provide a default value if the key is not found:"
      ],
      "metadata": {
        "id": "u0XCy9-p25q9"
      }
    },
    {
      "cell_type": "code",
      "metadata": {
        "colab": {
          "base_uri": "https://localhost:8080/",
          "height": 241
        },
        "outputId": "974524b6-fa0b-45a4-efd6-bafb85a429f9",
        "id": "2dn-CXbm3wlS"
      },
      "source": [
        "my_dict = {\n",
        "    'name': 'Ramu',\n",
        "    'age': 25,\n",
        "    'country': 'India'\n",
        "}\n",
        "print(my_dict['city'])\n",
        "#print(my_dict.get('city'))          # Output: None\n",
        "#print(my_dict.get('city', 'N/A'))   # Output: 'N/A'"
      ],
      "execution_count": 7,
      "outputs": [
        {
          "output_type": "error",
          "ename": "KeyError",
          "evalue": "ignored",
          "traceback": [
            "\u001b[0;31m---------------------------------------------------------------------------\u001b[0m",
            "\u001b[0;31mKeyError\u001b[0m                                  Traceback (most recent call last)",
            "\u001b[0;32m<ipython-input-7-d1b3875b93e9>\u001b[0m in \u001b[0;36m<cell line: 8>\u001b[0;34m()\u001b[0m\n\u001b[1;32m      6\u001b[0m     \u001b[0;34m'country'\u001b[0m\u001b[0;34m:\u001b[0m \u001b[0;34m'India'\u001b[0m\u001b[0;34m\u001b[0m\u001b[0;34m\u001b[0m\u001b[0m\n\u001b[1;32m      7\u001b[0m }\n\u001b[0;32m----> 8\u001b[0;31m \u001b[0mprint\u001b[0m\u001b[0;34m(\u001b[0m\u001b[0mmy_dict\u001b[0m\u001b[0;34m[\u001b[0m\u001b[0;34m'city'\u001b[0m\u001b[0;34m]\u001b[0m\u001b[0;34m)\u001b[0m\u001b[0;34m\u001b[0m\u001b[0;34m\u001b[0m\u001b[0m\n\u001b[0m\u001b[1;32m      9\u001b[0m \u001b[0;31m#print(my_dict.get('city'))          # Output: None\u001b[0m\u001b[0;34m\u001b[0m\u001b[0;34m\u001b[0m\u001b[0m\n\u001b[1;32m     10\u001b[0m \u001b[0;31m#print(my_dict.get('city', 'N/A'))   # Output: 'N/A'\u001b[0m\u001b[0;34m\u001b[0m\u001b[0;34m\u001b[0m\u001b[0m\n",
            "\u001b[0;31mKeyError\u001b[0m: 'city'"
          ]
        }
      ]
    },
    {
      "cell_type": "markdown",
      "source": [
        "## **<font color = greem> Modify Dictionary:**\n",
        "You can modify the values of a dictionary by assigning a new value to a specific key."
      ],
      "metadata": {
        "id": "HlfawRU04VZL"
      }
    },
    {
      "cell_type": "code",
      "source": [
        "my_dict['age'] = 30\n",
        "print(my_dict['age'])   # Output: 30"
      ],
      "metadata": {
        "id": "VOWWK6X14RkP"
      },
      "execution_count": null,
      "outputs": []
    },
    {
      "cell_type": "markdown",
      "source": [
        "## **<font color = greem> Add new value  to Dictionary:**\n",
        "To add a new key-value pair to a dictionary, you can simply assign a value to a new key:"
      ],
      "metadata": {
        "id": "OX2rlDnd4_-j"
      }
    },
    {
      "cell_type": "code",
      "source": [
        "my_dict['occupation'] = 'Engineer'\n",
        "print(my_dict)"
      ],
      "metadata": {
        "colab": {
          "base_uri": "https://localhost:8080/"
        },
        "id": "tFJmlXtR5JZb",
        "outputId": "3423cad8-808f-4441-bd37-931fdfe74039"
      },
      "execution_count": 8,
      "outputs": [
        {
          "output_type": "stream",
          "name": "stdout",
          "text": [
            "{'name': 'Ramu', 'age': 25, 'country': 'India', 'occupation': 'Engineer'}\n"
          ]
        }
      ]
    },
    {
      "cell_type": "markdown",
      "source": [
        "## <font color = greem> **Membership:**\n",
        "\n",
        "You can check if a key exists in a dictionary using the in operator:"
      ],
      "metadata": {
        "id": "tWKcjBCh4_4Y"
      }
    },
    {
      "cell_type": "code",
      "source": [
        "print('age' in my_dict)   # Output: True\n",
        "print('city' in my_dict)  # Output: False"
      ],
      "metadata": {
        "id": "Jivti44f5TWC"
      },
      "execution_count": null,
      "outputs": []
    },
    {
      "cell_type": "markdown",
      "metadata": {
        "id": "Q8vuvj2sN3ps"
      },
      "source": [
        "## <font color = greem> **Data Duplication:**\n",
        "Dictionary doesnot allow duplicates. <font color = magenta>It doesnt shows any error</font> but while printing it only <font color = magenta>display recently updated value."
      ]
    },
    {
      "cell_type": "code",
      "metadata": {
        "colab": {
          "base_uri": "https://localhost:8080/"
        },
        "id": "7F0835xBN-X8",
        "outputId": "fbb97aa8-1237-4e92-e746-4aee6bfe41cb"
      },
      "source": [
        "my_dict['occupation'] = 'Engineer'\n",
        "my_dict['occupation'] = 'Professor'\n",
        "print(my_dict)"
      ],
      "execution_count": 9,
      "outputs": [
        {
          "output_type": "stream",
          "name": "stdout",
          "text": [
            "{'name': 'Ramu', 'age': 25, 'country': 'India', 'occupation': 'Professor'}\n"
          ]
        }
      ]
    },
    {
      "cell_type": "markdown",
      "source": [
        "## <font color = greem> **Methods for Dictionaries:**</font>\n",
        "\n",
        "1. <font color = magenta>**keys():** </font> This method returns a view object that contains all the keys of the dictionary."
      ],
      "metadata": {
        "id": "n8Jt_AP-6li2"
      }
    },
    {
      "cell_type": "code",
      "source": [
        "my_dict = {'name': 'Ramu', 'age': 25, 'country': 'India'}\n",
        "print(my_dict.keys())"
      ],
      "metadata": {
        "colab": {
          "base_uri": "https://localhost:8080/"
        },
        "id": "rqIBnuT37NyK",
        "outputId": "9e03033a-8347-4ca0-d079-37352965686e"
      },
      "execution_count": 10,
      "outputs": [
        {
          "output_type": "stream",
          "name": "stdout",
          "text": [
            "dict_keys(['name', 'age', 'country'])\n"
          ]
        }
      ]
    },
    {
      "cell_type": "markdown",
      "source": [
        "2. <font color = magenta>**values():** </font>  This method returns a view object that contains all the values of the dictionary."
      ],
      "metadata": {
        "id": "QRs1pI6O7Vu9"
      }
    },
    {
      "cell_type": "code",
      "source": [
        "my_dict = {'name': 'Ramu', 'age': 25, 'country': 'India'}\n",
        "print(my_dict.values())"
      ],
      "metadata": {
        "id": "r6MsPu_a7gsr"
      },
      "execution_count": null,
      "outputs": []
    },
    {
      "cell_type": "markdown",
      "source": [
        "3. <font color = magenta>**items():** </font> This method returns a view object that contains all the key-value pairs as tuples."
      ],
      "metadata": {
        "id": "YCmFe-ZD7lUS"
      }
    },
    {
      "cell_type": "code",
      "source": [
        "my_dict = {'name': 'Ramu', 'age': 25, 'country': 'India'}\n",
        "print(my_dict.items())"
      ],
      "metadata": {
        "id": "OdMaGk047t7W"
      },
      "execution_count": null,
      "outputs": []
    },
    {
      "cell_type": "markdown",
      "source": [
        "4. <font color = magenta>**get():** </font> If you try to access a key that doesn't exist in the dictionary, it will raise a KeyError.\n",
        "To avoid this, you can use the **get()** method, which allows you to provide a default value if the key is not found:"
      ],
      "metadata": {
        "id": "Mk9iQOTX7yMz"
      }
    },
    {
      "cell_type": "code",
      "source": [
        "my_dict = {'name': 'Ramu', 'age': 25, 'country': 'India'}\n",
        "print(my_dict.get('name'))\n",
        "print(my_dict['city'])\n",
        "#print(my_dict.get('city'))          # Output: None\n",
        "#print(my_dict.get('city', 'N/A'))   # Output: 'N/A'"
      ],
      "metadata": {
        "id": "QU8-RWXM7ylH"
      },
      "execution_count": null,
      "outputs": []
    },
    {
      "cell_type": "markdown",
      "source": [
        "5. <font color = magenta>**pop():** </font> This method removes and returns the value associated with a specified key."
      ],
      "metadata": {
        "id": "YfblPjga85J-"
      }
    },
    {
      "cell_type": "code",
      "source": [
        "my_dict = {'name': 'Ramu', 'age': 25, 'country': 'India'}\n",
        "value = my_dict.pop('age')\n",
        "print(value)\n",
        "print(my_dict)"
      ],
      "metadata": {
        "colab": {
          "base_uri": "https://localhost:8080/"
        },
        "id": "T9PVUUaH84zy",
        "outputId": "b6cbea59-784c-4853-8215-d214ee8a1283"
      },
      "execution_count": 13,
      "outputs": [
        {
          "output_type": "stream",
          "name": "stdout",
          "text": [
            "25\n",
            "{'name': 'Ramu', 'country': 'India'}\n"
          ]
        }
      ]
    },
    {
      "cell_type": "markdown",
      "metadata": {
        "id": "z-lYRAzoAYAc"
      },
      "source": [
        "6. <font color = magenta>**popitem():** </font> Removes the last inserted key-value pair"
      ]
    },
    {
      "cell_type": "code",
      "metadata": {
        "id": "u3mJwZf9Aiqh"
      },
      "source": [
        "my_dict = {'name': 'Ramu', 'age': 25, 'country': 'India'}\n",
        "my_dict1 = my_dict.popitem()\n",
        "print(my_dict1)\n",
        "print(my_dict)"
      ],
      "execution_count": null,
      "outputs": []
    },
    {
      "cell_type": "markdown",
      "metadata": {
        "id": "9dCtfFnv9A4S"
      },
      "source": [
        "7. <font color = magenta>**copy():** </font> Returns a copy of the dictionary"
      ]
    },
    {
      "cell_type": "code",
      "metadata": {
        "id": "1tPQbb_-9L4q"
      },
      "source": [
        "my_dict = {'name': 'Ramu', 'age': 25, 'country': 'India'}\n",
        "\n",
        "my_dict1 = my_dict.copy()\n",
        "\n",
        "print(my_dict1)"
      ],
      "execution_count": null,
      "outputs": []
    },
    {
      "cell_type": "markdown",
      "metadata": {
        "id": "T5GMhKxS92ob"
      },
      "source": [
        "8. <font color = magenta>**clear():** </font> Removes all the elements from the dictionary"
      ]
    },
    {
      "cell_type": "code",
      "metadata": {
        "id": "YYrUePpH9-Ld"
      },
      "source": [
        "my_dict1.clear()\n",
        "print(my_dict1)"
      ],
      "execution_count": null,
      "outputs": []
    },
    {
      "cell_type": "markdown",
      "metadata": {
        "id": "cI8TLSj3BARw"
      },
      "source": [
        "9. <font color = magenta>**update():** </font> Updates the dictionary with the specified key-value pairs"
      ]
    },
    {
      "cell_type": "code",
      "metadata": {
        "id": "MkVziFiVBFoC"
      },
      "source": [
        "student = {\n",
        "    \"Name\":\"raja\",\n",
        "    \"Roll No\": 1,\n",
        "    \"Dept\":\"CSE\"\n",
        "    }\n",
        "student.update({\"address\":\"Coimbatore\"})\n",
        "print(student)"
      ],
      "execution_count": null,
      "outputs": []
    },
    {
      "cell_type": "markdown",
      "source": [
        "## <font color = greem>**Functions for Dictionaries:** </font>\n",
        "\n",
        "1. <font color = magenta>**len():** </font> This function returns the number of key-value pairs in the dictionary."
      ],
      "metadata": {
        "id": "5pDQ35-jAE3v"
      }
    },
    {
      "cell_type": "code",
      "source": [
        "my_dict = {'name': 'Ramu', 'age': 25, 'country': 'India'}\n",
        "print(len(my_dict))"
      ],
      "metadata": {
        "id": "k5T7ya-6ANLt"
      },
      "execution_count": null,
      "outputs": []
    },
    {
      "cell_type": "markdown",
      "source": [
        "2. <font color = magenta>**sorted():** </font> This function returns a new list containing all the keys of the dictionary in sorted order."
      ],
      "metadata": {
        "id": "UFZYb0LwNSDJ"
      }
    },
    {
      "cell_type": "code",
      "source": [
        "my_dict = {'name': 'Ramu', 'age': 25, 'country': 'India'}\n",
        "sorted_keys = sorted(my_dict)\n",
        "print(sorted_keys)"
      ],
      "metadata": {
        "id": "Z_b6GsnrNRwS"
      },
      "execution_count": null,
      "outputs": []
    },
    {
      "cell_type": "markdown",
      "source": [
        "3. <font color = magenta>**max():** </font> This function returns the key with the maximum value in the dictionary."
      ],
      "metadata": {
        "id": "l3J1PZ40NdNJ"
      }
    },
    {
      "cell_type": "code",
      "source": [
        "my_dict = {'name': 'Ramu', 'age': 25, 'country': 'India'}\n",
        "max_key = max(my_dict)\n",
        "print(max_key)"
      ],
      "metadata": {
        "id": "5rFQdcJLNc9C"
      },
      "execution_count": null,
      "outputs": []
    },
    {
      "cell_type": "markdown",
      "source": [
        "4. <font color = magenta>**min():** </font> This function returns the key with the minimum value in the dictionary."
      ],
      "metadata": {
        "id": "NrsDhNnyNrnC"
      }
    },
    {
      "cell_type": "code",
      "source": [
        "my_dict = {'name': 'Ramu', 'age': 25, 'country': 'India'}\n",
        "min_key = min(my_dict)\n",
        "print(min_key)\n"
      ],
      "metadata": {
        "id": "hK75q7H3N0I2"
      },
      "execution_count": null,
      "outputs": []
    },
    {
      "cell_type": "markdown",
      "metadata": {
        "id": "NBMHAgWiVGpT"
      },
      "source": [
        "# <font color = \"Lime\"> Problem Statement 1: </font>\n",
        "Write a python program to print following values using dictionary\n",
        "\n",
        "{1: 1,\n",
        " 2: 4,\n",
        " 3: 9,\n",
        " 4: 16,\n",
        " 5: 25,\n",
        " 6: 36,\n",
        " 7: 49,\n",
        " 8: 64,\n",
        " 9: 81,\n",
        " 10: 100}"
      ]
    },
    {
      "cell_type": "code",
      "metadata": {
        "id": "Afs434Z_VsSd"
      },
      "source": [
        "numbers=dict()\n",
        "for i in range(1,11):\n",
        "    numbers[i]=i*i#square\n",
        "\n",
        "print(numbers)"
      ],
      "execution_count": null,
      "outputs": []
    },
    {
      "cell_type": "markdown",
      "metadata": {
        "id": "ibK4Y0lOfpKJ"
      },
      "source": [
        "# <font color = \"Lime\"> Problem Statement:2</font>\n",
        "\n",
        "Write a python progrm to update the price(increase by 2Rs)\n",
        "\n",
        "value of items old_price = {'milk': 40, 'coffee': 20, 'bread': 25} and store it in another dictionary"
      ]
    },
    {
      "cell_type": "code",
      "metadata": {
        "colab": {
          "base_uri": "https://localhost:8080/"
        },
        "id": "ixH9G1b1nRZE",
        "outputId": "bd767cf6-33bf-44c6-ef3a-dc2c469cd89a"
      },
      "source": [
        "old_price = {\"milk\":40, \"Tea\":12, \"Cofee\":20}\n",
        "new_price = {item:value + 3 for (item,value) in old_price.items()}\n",
        "print(new_price)\n"
      ],
      "execution_count": null,
      "outputs": [
        {
          "output_type": "stream",
          "name": "stdout",
          "text": [
            "{'milk': 43, 'Tea': 15, 'Cofee': 23}\n"
          ]
        }
      ]
    },
    {
      "cell_type": "markdown",
      "metadata": {
        "id": "buILeWqwpU1i"
      },
      "source": [
        "# <font color = \"Lime\"> Problem Statement:3</font> Dictionary Range printing\n",
        "Write a Python script to generate and print a dictionary that contains a number (between 1 and n) in the form (x, x*x).\n",
        "Input1:\n",
        "Enter the range:\n",
        "5\n",
        "Output1:\n",
        "{1: 1, 2: 4, 3: 9, 4: 16, 5: 25}\n"
      ]
    },
    {
      "cell_type": "code",
      "metadata": {
        "colab": {
          "base_uri": "https://localhost:8080/"
        },
        "id": "7l0PYXD_p2zA",
        "outputId": "7508547a-7e91-44b0-e00b-a57e2be79c12"
      },
      "source": [
        "#using loop\n",
        "x=dict()\n",
        "n=int(input(\"Enter n value\"))\n",
        "for i in range(1,n+1):\n",
        "  x[i]=i*i\n",
        "print(x)\n",
        "\n"
      ],
      "execution_count": null,
      "outputs": [
        {
          "output_type": "stream",
          "name": "stdout",
          "text": [
            "Enter n value6\n",
            "{1: 1, 2: 4, 3: 9, 4: 16, 5: 25, 6: 36}\n"
          ]
        }
      ]
    },
    {
      "cell_type": "code",
      "metadata": {
        "colab": {
          "base_uri": "https://localhost:8080/"
        },
        "id": "M-uD5LyWqxt8",
        "outputId": "0344361c-aeea-4f66-c14e-44f54147f8b3"
      },
      "source": [
        "#using dict comprehension\n",
        "n=int(input(\"Enter n value\"))\n",
        "x={i:i*i for i in range(1,n+1)}\n",
        "print(x)"
      ],
      "execution_count": null,
      "outputs": [
        {
          "output_type": "stream",
          "name": "stdout",
          "text": [
            "Enter n value6\n",
            "{1: 1, 2: 4, 3: 9, 4: 16, 5: 25, 6: 36}\n"
          ]
        }
      ]
    },
    {
      "cell_type": "markdown",
      "metadata": {
        "id": "HliWHwnCrI4j"
      },
      "source": [
        "# <font color = \"Lime\"> Problem Statement:4</font>  Iterating Dictionary\n",
        "Write a Python script to generate and print the dictionary using for loop as given in the output\n",
        "Input1:\n",
        "Enter the range:\n",
        "5\n",
        "Output1:\n",
        "1->3\n",
        "2->6\n",
        "3->9\n",
        "4->12\n",
        "5->15"
      ]
    },
    {
      "cell_type": "code",
      "metadata": {
        "colab": {
          "base_uri": "https://localhost:8080/"
        },
        "id": "vBjvp9LMrQn4",
        "outputId": "a7b762d5-ef61-48c5-9320-570a73503528"
      },
      "source": [
        "x=dict()\n",
        "n=int(input(\"Enter the range\"))\n",
        "for i in range(1,n+1):\n",
        "  x[i]=i*3\n",
        "for (key,value) in x.items():\n",
        "  print(key,\"->\",value)"
      ],
      "execution_count": null,
      "outputs": [
        {
          "output_type": "stream",
          "name": "stdout",
          "text": [
            "Enter the range5\n",
            "1 -> 3\n",
            "2 -> 6\n",
            "3 -> 9\n",
            "4 -> 12\n",
            "5 -> 15\n"
          ]
        }
      ]
    },
    {
      "cell_type": "markdown",
      "metadata": {
        "id": "vKTmgDcmyiR2"
      },
      "source": [
        "# <font color = \"Lime\"> Get input from the User</font>\n",
        "Get (key,value) from the User and store that into the dictionary"
      ]
    },
    {
      "cell_type": "code",
      "metadata": {
        "colab": {
          "base_uri": "https://localhost:8080/"
        },
        "id": "HuGIzDg-vfGB",
        "outputId": "9cab605e-707b-4b88-e5e2-0915382f4bbe"
      },
      "source": [
        "x={}\n",
        "n=int(input(\"Enter n values\"))\n",
        "for i in range(n):\n",
        "  print(\"Enter key for item\",i+1)\n",
        "  keys=input()\n",
        "  print(\"Enter value for item\",i+1)\n",
        "  values=int(input())\n",
        "  x[keys]=values\n",
        "print(x)"
      ],
      "execution_count": null,
      "outputs": [
        {
          "output_type": "stream",
          "name": "stdout",
          "text": [
            "Enter n values1\n",
            "Enter key for item 1\n",
            "raja\n",
            "Enter value for item 1\n",
            "1\n",
            "{'raja': 1}\n"
          ]
        }
      ]
    }
  ]
}