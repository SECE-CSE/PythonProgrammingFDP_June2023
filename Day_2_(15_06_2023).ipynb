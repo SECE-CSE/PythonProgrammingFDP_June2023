{
  "nbformat": 4,
  "nbformat_minor": 0,
  "metadata": {
    "colab": {
      "provenance": [],
      "authorship_tag": "ABX9TyP1ix5Ry713APCrFkmdyF8c",
      "include_colab_link": true
    },
    "kernelspec": {
      "name": "python3",
      "display_name": "Python 3"
    },
    "language_info": {
      "name": "python"
    }
  },
  "cells": [
    {
      "cell_type": "markdown",
      "metadata": {
        "id": "view-in-github",
        "colab_type": "text"
      },
      "source": [
        "<a href=\"https://colab.research.google.com/github/thegeeksam/PythonProgrammingFDP_June2023/blob/main/Day_2_(15_06_2023).ipynb\" target=\"_parent\"><img src=\"https://colab.research.google.com/assets/colab-badge.svg\" alt=\"Open In Colab\"/></a>"
      ]
    },
    {
      "cell_type": "markdown",
      "metadata": {
        "id": "xszY0T5VHqx2"
      },
      "source": [
        "# <font color=\"lime\"> Assignment Statements"
      ]
    },
    {
      "cell_type": "code",
      "metadata": {
        "id": "SxPL7W_rHrHN",
        "colab": {
          "base_uri": "https://localhost:8080/"
        },
        "outputId": "8795c043-99d5-4aca-9cce-f58cfc5079c7"
      },
      "source": [
        "x = 1       # Assign 1 to x\n",
        "print(x)\n",
        "# a+b = 1\n",
        "# 1 is added with x and new content is stored back in x\n",
        "x = x + 1\n",
        "print(x)\n",
        "\n",
        "x += 1  # Interpreted as: x = x + 1\n",
        "print(x)\n",
        "\n",
        "# A value is assigned to multiple variables\n",
        "a = b = c = 100 # this statement assign 100 to c, b and a.\n",
        "print(a, b, c)"
      ],
      "execution_count": null,
      "outputs": [
        {
          "output_type": "stream",
          "name": "stdout",
          "text": [
            "1\n",
            "2\n",
            "3\n",
            "100 100 100\n"
          ]
        }
      ]
    },
    {
      "cell_type": "code",
      "source": [
        "#x  = int(input(\"enter a number: \"))\n",
        "x  = input(\"enter a number: \")\n",
        "print(type(x))\n",
        "print(x)"
      ],
      "metadata": {
        "id": "YqcIZFOxbxZt",
        "colab": {
          "base_uri": "https://localhost:8080/"
        },
        "outputId": "231d560b-66a3-49f1-af7c-87204910c86b"
      },
      "execution_count": 2,
      "outputs": [
        {
          "output_type": "stream",
          "name": "stdout",
          "text": [
            "enter a number: 6\n",
            "<class 'str'>\n",
            "6\n"
          ]
        }
      ]
    },
    {
      "cell_type": "markdown",
      "metadata": {
        "id": "9Efj5KKnI8W4"
      },
      "source": [
        "# <font color=\"lime\"> Expression\n",
        "\n",
        "An expression represents a computation involving values, variables, and operators that, taken together, evaluate to a value."
      ]
    },
    {
      "cell_type": "code",
      "metadata": {
        "id": "mpoHAR3SJtkg",
        "colab": {
          "base_uri": "https://localhost:8080/"
        },
        "outputId": "6ed54eb8-c03d-4ba4-b850-22cd5da3e3a8"
      },
      "source": [
        "y = 1             # Assign 1 to variable y\n",
        "radius = 1.0      # Assign 1.0 to variable radius\n",
        "\n",
        "# Assign the value of the expression to x\n",
        "x = 5 * (3 / 2) + 3 * 2\n",
        "print(x)\n",
        "\n",
        "#x = 2.0 * 2\n",
        "#print(x)\n",
        "x = y + 1     # Assign the addition of y and 1 to x\n",
        "print(x)\n",
        "\n",
        "area = radius * radius * 3.14159 # Compute area\n",
        "print(area)"
      ],
      "execution_count": null,
      "outputs": [
        {
          "output_type": "stream",
          "name": "stdout",
          "text": [
            "13.5\n",
            "2\n",
            "3.14159\n"
          ]
        }
      ]
    },
    {
      "cell_type": "markdown",
      "metadata": {
        "id": "wzQNyoGdKYO_"
      },
      "source": [
        "# <font color=\"lime\"> Simultaneous Assignment\n"
      ]
    },
    {
      "cell_type": "code",
      "metadata": {
        "id": "cCZrVkWWKlnm",
        "colab": {
          "base_uri": "https://localhost:8080/"
        },
        "outputId": "e172ec75-109e-4aaf-b00b-dcf7cd8e6c13"
      },
      "source": [
        "x, y, z = 1,\"Two\", 3.0\n",
        "print(x, y, z)"
      ],
      "execution_count": null,
      "outputs": [
        {
          "output_type": "stream",
          "name": "stdout",
          "text": [
            "1 Two 3.0\n"
          ]
        }
      ]
    },
    {
      "cell_type": "code",
      "metadata": {
        "id": "1Wce-yCjwhNW",
        "colab": {
          "base_uri": "https://localhost:8080/"
        },
        "outputId": "823472ee-3f14-4838-9dd0-1bd176e097b5"
      },
      "source": [
        "one = \"11\"\n",
        "two = \"21\"\n",
        "three = one + two\n",
        "print(three)\n",
        "print(three * 5)"
      ],
      "execution_count": 6,
      "outputs": [
        {
          "output_type": "stream",
          "name": "stdout",
          "text": [
            "11Ganesh\n",
            "11Ganesh11Ganesh11Ganesh11Ganesh11Ganesh\n"
          ]
        }
      ]
    },
    {
      "cell_type": "code",
      "metadata": {
        "id": "fDz0LPN6xH8D",
        "colab": {
          "base_uri": "https://localhost:8080/"
        },
        "outputId": "0d7ab3a6-be23-49f8-e3f8-279d0b630ae6"
      },
      "source": [
        "sA = \"Welcome\"\n",
        "sB = \"World\"\n",
        "\n",
        "sConc1 = sA + \" \" + sB\n",
        "print(sConc1)\n",
        "\n",
        "a = 5\n",
        "b = 5 ** 200\n",
        "print(b)\n",
        "\n",
        "print(sA * 2)"
      ],
      "execution_count": null,
      "outputs": [
        {
          "output_type": "stream",
          "name": "stdout",
          "text": [
            "Welcome World\n",
            "62230152778611417071440640537801242405902521687211671331011166147896988340353834411839448231257136169569665895551224821247160434722900390625\n",
            "WelcomeWelcome\n"
          ]
        }
      ]
    },
    {
      "cell_type": "code",
      "metadata": {
        "id": "aOSRx5JcxOmH",
        "colab": {
          "base_uri": "https://localhost:8080/"
        },
        "outputId": "3c3ff291-116b-4b02-82f0-7575c85d43b2"
      },
      "source": [
        "print(\" \\\"Hello\\\" \")"
      ],
      "execution_count": null,
      "outputs": [
        {
          "output_type": "stream",
          "name": "stdout",
          "text": [
            " \"Hello\" \n"
          ]
        }
      ]
    },
    {
      "cell_type": "code",
      "metadata": {
        "id": "MNTK7xAsnqpK",
        "colab": {
          "base_uri": "https://localhost:8080/"
        },
        "outputId": "7201f8ca-751e-4f99-8c3f-f5b3b51986d0"
      },
      "source": [
        "#input() will return string even we enter an integer\n",
        "age = input(\"Enter your age: \")\n",
        "print(type(age))"
      ],
      "execution_count": null,
      "outputs": [
        {
          "output_type": "stream",
          "name": "stdout",
          "text": [
            "Enter your age: 20\n",
            "<class 'str'>\n"
          ]
        }
      ]
    },
    {
      "cell_type": "code",
      "source": [
        "age = int(input(\"Enter your age: \"))\n",
        "print(type(age))"
      ],
      "metadata": {
        "id": "IvvdWMTYRdW5"
      },
      "execution_count": null,
      "outputs": []
    },
    {
      "cell_type": "code",
      "metadata": {
        "id": "epkf4piGnqrn"
      },
      "source": [
        "#to convert it to integer we must use int()\n",
        "age = float(input(\"Enter a number: \"))\n",
        "print(type(age))"
      ],
      "execution_count": null,
      "outputs": []
    },
    {
      "cell_type": "code",
      "metadata": {
        "id": "eRVZ92len6yZ",
        "colab": {
          "base_uri": "https://localhost:8080/"
        },
        "outputId": "76fa1643-4772-4b21-9d8b-6beec225491c"
      },
      "source": [
        "#Boolean Data Type\n",
        "print(type(True))\n",
        "print(type(False))"
      ],
      "execution_count": 7,
      "outputs": [
        {
          "output_type": "stream",
          "name": "stdout",
          "text": [
            "<class 'str'>\n",
            "<class 'bool'>\n"
          ]
        }
      ]
    },
    {
      "cell_type": "code",
      "metadata": {
        "id": "wy8wRlPP0iA_",
        "colab": {
          "base_uri": "https://localhost:8080/"
        },
        "outputId": "1d838aed-72b5-40ba-897c-cf19045ed062"
      },
      "source": [
        "text1 = \"Some string, with some stuff.\"\n",
        "text2 = \"Yet, another string here.\"\n",
        "text3 = \"Concatenation combines strings like \\\"\" + text1 + \"\\\" and \\\"\" + text2  + \"\\\"\"\n",
        "print(text3)"
      ],
      "execution_count": null,
      "outputs": [
        {
          "output_type": "stream",
          "name": "stdout",
          "text": [
            "Concatenation combines strings like \"Some string, with some stuff.\" and \"Yet, another string here.\"\n"
          ]
        }
      ]
    },
    {
      "cell_type": "code",
      "metadata": {
        "id": "AYnG4Sk_oEIR",
        "colab": {
          "base_uri": "https://localhost:8080/"
        },
        "outputId": "6424498b-6f45-4c96-c4bf-014951015c78"
      },
      "source": [
        "#Import Keywords\n",
        "import keyword\n",
        "#totally there are 33 keywords in python\n",
        "#list all python keywords\n",
        "print(keyword.kwlist)\n",
        "\n",
        "#How to check if a string is a valid keyword in Python\n",
        "keyword.iskeyword('if')"
      ],
      "execution_count": null,
      "outputs": [
        {
          "output_type": "stream",
          "name": "stdout",
          "text": [
            "['False', 'None', 'True', 'and', 'as', 'assert', 'async', 'await', 'break', 'class', 'continue', 'def', 'del', 'elif', 'else', 'except', 'finally', 'for', 'from', 'global', 'if', 'import', 'in', 'is', 'lambda', 'nonlocal', 'not', 'or', 'pass', 'raise', 'return', 'try', 'while', 'with', 'yield']\n"
          ]
        },
        {
          "output_type": "execute_result",
          "data": {
            "text/plain": [
              "True"
            ]
          },
          "metadata": {},
          "execution_count": 64
        }
      ]
    },
    {
      "cell_type": "markdown",
      "source": [
        "# <font color=\"lime\"> # **Numbers**"
      ],
      "metadata": {
        "id": "Kg26T8bLtCGO"
      }
    },
    {
      "cell_type": "code",
      "source": [
        "2 + 2"
      ],
      "metadata": {
        "id": "kzZj4EjMvdh1",
        "colab": {
          "base_uri": "https://localhost:8080/"
        },
        "outputId": "ad53e01f-1e2c-4618-eb1e-9815b1961868"
      },
      "execution_count": null,
      "outputs": [
        {
          "output_type": "execute_result",
          "data": {
            "text/plain": [
              "4"
            ]
          },
          "metadata": {},
          "execution_count": 21
        }
      ]
    },
    {
      "cell_type": "code",
      "source": [
        "50 - 5 * 6"
      ],
      "metadata": {
        "id": "2RqHe0Apve_q",
        "colab": {
          "base_uri": "https://localhost:8080/"
        },
        "outputId": "63aac097-a26d-4539-97b6-8c60c6c07604"
      },
      "execution_count": null,
      "outputs": [
        {
          "output_type": "execute_result",
          "data": {
            "text/plain": [
              "20"
            ]
          },
          "metadata": {},
          "execution_count": 22
        }
      ]
    },
    {
      "cell_type": "code",
      "source": [
        "(50 - 5 * 6) / 4"
      ],
      "metadata": {
        "id": "sNtIH8lSvhXK"
      },
      "execution_count": null,
      "outputs": []
    },
    {
      "cell_type": "code",
      "source": [
        "8 / 4  # division always returns a floating point number"
      ],
      "metadata": {
        "id": "6O0vCTAZvjKs",
        "colab": {
          "base_uri": "https://localhost:8080/"
        },
        "outputId": "89a031c9-75d6-4bdc-e18d-842eed22241a"
      },
      "execution_count": null,
      "outputs": [
        {
          "output_type": "execute_result",
          "data": {
            "text/plain": [
              "2.0"
            ]
          },
          "metadata": {},
          "execution_count": 24
        }
      ]
    },
    {
      "cell_type": "code",
      "source": [
        "width = 20\n",
        "height = 5 * 9\n",
        "width * height"
      ],
      "metadata": {
        "id": "57uiFYsAvnq9",
        "colab": {
          "base_uri": "https://localhost:8080/"
        },
        "outputId": "3b34636d-c699-4729-bb84-5bc9eb2a55f4"
      },
      "execution_count": null,
      "outputs": [
        {
          "output_type": "execute_result",
          "data": {
            "text/plain": [
              "900"
            ]
          },
          "metadata": {},
          "execution_count": 25
        }
      ]
    },
    {
      "cell_type": "markdown",
      "source": [
        "There is full support for floating point; operators with mixed type operands convert the integer operand to floating point:"
      ],
      "metadata": {
        "id": "5CX0-HB6vtxw"
      }
    },
    {
      "cell_type": "code",
      "source": [
        "print(4 * 3.75 - 1)"
      ],
      "metadata": {
        "id": "c83pPembvsfI",
        "colab": {
          "base_uri": "https://localhost:8080/"
        },
        "outputId": "451c9573-f82e-4de5-eeab-15b9e20e57de"
      },
      "execution_count": null,
      "outputs": [
        {
          "output_type": "execute_result",
          "data": {
            "text/plain": [
              "14.0"
            ]
          },
          "metadata": {},
          "execution_count": 27
        }
      ]
    },
    {
      "cell_type": "markdown",
      "source": [
        "In interactive mode, the last printed expression is assigned to the variable _. This means that when you are using Python as a desk calculator, it is somewhat easier to continue calculations, for example:"
      ],
      "metadata": {
        "id": "BLudXYCOv3EM"
      }
    },
    {
      "cell_type": "code",
      "source": [
        "tax = 12.5 / 100\n",
        "tax\n",
        "price = 100.50\n",
        "price * tax\n",
        "#tax"
      ],
      "metadata": {
        "id": "oizwD7x4v4ol",
        "colab": {
          "base_uri": "https://localhost:8080/"
        },
        "outputId": "b2f007c2-78b2-4b7d-c48b-fc68d697cc53"
      },
      "execution_count": null,
      "outputs": [
        {
          "output_type": "execute_result",
          "data": {
            "text/plain": [
              "12.5625"
            ]
          },
          "metadata": {},
          "execution_count": 28
        }
      ]
    },
    {
      "cell_type": "code",
      "source": [
        "price + _"
      ],
      "metadata": {
        "id": "X4WezE4wv8ro",
        "colab": {
          "base_uri": "https://localhost:8080/"
        },
        "outputId": "e18dcb69-1c86-45ef-b297-8d9f14c344aa"
      },
      "execution_count": null,
      "outputs": [
        {
          "output_type": "execute_result",
          "data": {
            "text/plain": [
              "113.0625"
            ]
          },
          "metadata": {},
          "execution_count": 29
        }
      ]
    },
    {
      "cell_type": "code",
      "source": [
        "round(100.2343456354635,5)"
      ],
      "metadata": {
        "id": "xBsfcakzwj9L",
        "colab": {
          "base_uri": "https://localhost:8080/"
        },
        "outputId": "b2be95a1-6963-4e2f-c5fc-9082a226ba8d"
      },
      "execution_count": null,
      "outputs": [
        {
          "output_type": "execute_result",
          "data": {
            "text/plain": [
              "100.23435"
            ]
          },
          "metadata": {},
          "execution_count": 31
        }
      ]
    },
    {
      "cell_type": "code",
      "source": [
        "a = 10\n",
        "b = 20\n",
        "a + b"
      ],
      "metadata": {
        "id": "n-BmDsrywlMy",
        "colab": {
          "base_uri": "https://localhost:8080/"
        },
        "outputId": "33716bfb-0874-455d-eeb2-a0edbadf64a3"
      },
      "execution_count": null,
      "outputs": [
        {
          "output_type": "execute_result",
          "data": {
            "text/plain": [
              "30"
            ]
          },
          "metadata": {},
          "execution_count": 32
        }
      ]
    },
    {
      "cell_type": "code",
      "source": [
        "_ * 2"
      ],
      "metadata": {
        "id": "ReE4l8gXwnYC",
        "colab": {
          "base_uri": "https://localhost:8080/"
        },
        "outputId": "4974fd43-cbef-4284-d873-1230ca7339f4"
      },
      "execution_count": null,
      "outputs": [
        {
          "output_type": "execute_result",
          "data": {
            "text/plain": [
              "60"
            ]
          },
          "metadata": {},
          "execution_count": 33
        }
      ]
    },
    {
      "cell_type": "code",
      "source": [
        "_ / 2"
      ],
      "metadata": {
        "id": "Gvcf08FewouK",
        "colab": {
          "base_uri": "https://localhost:8080/"
        },
        "outputId": "434fd54e-9b05-4bce-fa32-f1fe543770d4"
      },
      "execution_count": null,
      "outputs": [
        {
          "output_type": "execute_result",
          "data": {
            "text/plain": [
              "30.0"
            ]
          },
          "metadata": {},
          "execution_count": 34
        }
      ]
    },
    {
      "cell_type": "markdown",
      "source": [
        "## <font color=\"lime\">  **Python Operators**"
      ],
      "metadata": {
        "id": "iZLla0SMwq-B"
      }
    },
    {
      "cell_type": "markdown",
      "source": [
        "**Python divides the operators in the following groups:**\n",
        "\n",
        "1.   Arithmetic operators\n",
        "2.   Assignment operators\n",
        "3.   Comparison operators\n",
        "4.   Logical operators\n",
        "5.   Identity operators\n",
        "6.   Membership operators\n",
        "7.   Bitwise operators\n"
      ],
      "metadata": {
        "id": "5hADGSq1wsgr"
      }
    },
    {
      "cell_type": "markdown",
      "source": [
        "<font color=\"Yellow\"> 1. **Arithmetic operators** are used to perform mathematical operations like addition, subtraction, multiplication and division.</font>\n",
        "\n",
        "There are 7 arithmetic operators in Python :\n",
        "\n",
        "1.   Addition\n",
        "2.   Subtraction\n",
        "3.   Multiplication\n",
        "4.   Division\n",
        "5.   Modulus\n",
        "6.   Exponentiation\n",
        "7.   Floor division"
      ],
      "metadata": {
        "id": "FTYQ2OCcwudO"
      }
    },
    {
      "cell_type": "markdown",
      "source": [
        "<font color=\"Yellow\"> **1.1. Addition Operator** : </font> In Python, \"+\" is the addition operator. It is used to add 2 values.\n",
        "Example :"
      ],
      "metadata": {
        "id": "iL7xDp7yxNG1"
      }
    },
    {
      "cell_type": "code",
      "source": [
        "val1 = 2\n",
        "val2 = 3\n",
        "\n",
        "# using the addition operator\n",
        "res = val1 + val2\n",
        "print(res)"
      ],
      "metadata": {
        "id": "KM3LVulKxN02",
        "colab": {
          "base_uri": "https://localhost:8080/"
        },
        "outputId": "bede148d-e05a-40f1-fcca-de470fd2eaa0"
      },
      "execution_count": null,
      "outputs": [
        {
          "output_type": "stream",
          "name": "stdout",
          "text": [
            "5\n"
          ]
        }
      ]
    },
    {
      "cell_type": "code",
      "source": [
        "val1 = int(input(\"Enter number1\\n\"))\n",
        "val2 = int(input(\"Enter number2\\n\"))\n",
        "print(\"Result is: \",(val1 + val2))"
      ],
      "metadata": {
        "id": "D75bFPqQxQ2R",
        "colab": {
          "base_uri": "https://localhost:8080/"
        },
        "outputId": "fd7d8497-e88c-48ce-9b8c-a7455f73b5cf"
      },
      "execution_count": null,
      "outputs": [
        {
          "output_type": "stream",
          "name": "stdout",
          "text": [
            "Enter number1\n",
            "45\n",
            "Enter number2\n",
            "43\n",
            "Result is:  88\n"
          ]
        }
      ]
    },
    {
      "cell_type": "markdown",
      "source": [
        "<font color=\"Yellow\"> **1.2.Subtraction Operator** :</font> In Python, – is the subtraction operator. It is used to subtract the second value from the first value.</font>\n"
      ],
      "metadata": {
        "id": "PPKrb6FKxU-0"
      }
    },
    {
      "cell_type": "code",
      "source": [
        "val1 = 2.5\n",
        "val2 = 1.234\n",
        "\n",
        "# using the subtraction operator\n",
        "res = val1 - val2\n",
        "print(res)"
      ],
      "metadata": {
        "id": "jtTLWGeNxUtB",
        "colab": {
          "base_uri": "https://localhost:8080/"
        },
        "outputId": "82204d50-987e-4bce-db44-b6711e0e1df2"
      },
      "execution_count": null,
      "outputs": [
        {
          "output_type": "stream",
          "name": "stdout",
          "text": [
            "1.266\n"
          ]
        }
      ]
    },
    {
      "cell_type": "code",
      "source": [
        "val1 = int(input(\"Enter number1\\n\"))\n",
        "val2 = int(input(\"Enter number2\\n\"))\n",
        "print(\"Result is: \",(val1 - val2))"
      ],
      "metadata": {
        "id": "dAtVB-NQxZMl",
        "colab": {
          "base_uri": "https://localhost:8080/"
        },
        "outputId": "7ebd7648-9803-4d80-e572-81570f7c67a6"
      },
      "execution_count": null,
      "outputs": [
        {
          "output_type": "stream",
          "name": "stdout",
          "text": [
            "Enter number1\n",
            "54\n",
            "Enter number2\n",
            "45\n",
            "Result is:  9\n"
          ]
        }
      ]
    },
    {
      "cell_type": "markdown",
      "source": [
        "<font color=\"Yellow\"> **1.3. Multiplication Operator** :</font> In Python, **\"*\"** is the multiplication operator. It is used to find the product of 2 values."
      ],
      "metadata": {
        "id": "U9X7OdFJxbwe"
      }
    },
    {
      "cell_type": "code",
      "source": [
        "val1 = 2\n",
        "val2 = -3.6\n",
        "\n",
        "# using the multiplication operator\n",
        "res = val1 * val2\n",
        "print(res)"
      ],
      "metadata": {
        "id": "3_hJmFldxdgH",
        "colab": {
          "base_uri": "https://localhost:8080/"
        },
        "outputId": "41678a07-c218-4703-bd02-99b4b9db1ceb"
      },
      "execution_count": null,
      "outputs": [
        {
          "output_type": "stream",
          "name": "stdout",
          "text": [
            "-7.2\n"
          ]
        }
      ]
    },
    {
      "cell_type": "markdown",
      "source": [
        "**Simple Interest = (P x T x R)/100**\n",
        "Where,\n",
        "P is the principal amount ,\n",
        "T is the time and\n",
        "R is the rate"
      ],
      "metadata": {
        "id": "9RX3GRFzxg3I"
      }
    },
    {
      "cell_type": "code",
      "source": [
        "P = 1000\n",
        "R = 1\n",
        "T = 2\n",
        "# simple interest\n",
        "SI = (P * R * T) / 100\n",
        "print(\"simple interest is\", SI)"
      ],
      "metadata": {
        "id": "3qnx0myBxhwN",
        "colab": {
          "base_uri": "https://localhost:8080/"
        },
        "outputId": "bb34cfa0-0816-4b0a-b70f-f33e85b08a68"
      },
      "execution_count": null,
      "outputs": [
        {
          "output_type": "stream",
          "name": "stdout",
          "text": [
            "simple interest is 20.0\n"
          ]
        }
      ]
    },
    {
      "cell_type": "markdown",
      "source": [
        "<font color=\"Yellow\"> **1.4. Division Operator** : </font> In Python, **\"/\"** is the division operator. It is used to find the quotient when first operand is divided by the second."
      ],
      "metadata": {
        "id": "Z8FsYtwqxxHe"
      }
    },
    {
      "cell_type": "code",
      "source": [
        "val1 = 22\n",
        "val2 = 7\n",
        "\n",
        "# using the division operator\n",
        "res1 = val1 / val2\n",
        "print(round(res1,3))"
      ],
      "metadata": {
        "id": "YWTx2An-xyh2",
        "colab": {
          "base_uri": "https://localhost:8080/"
        },
        "outputId": "20d1fa8a-4934-41bd-ba9f-b9bced582a4c"
      },
      "execution_count": null,
      "outputs": [
        {
          "output_type": "stream",
          "name": "stdout",
          "text": [
            "3.143\n"
          ]
        }
      ]
    },
    {
      "cell_type": "code",
      "source": [
        "print (5.0 / 2)\n",
        "print (-5.0 / 2)"
      ],
      "metadata": {
        "id": "ngpAnqgfx5Ei",
        "colab": {
          "base_uri": "https://localhost:8080/"
        },
        "outputId": "0e817029-c12e-4613-8463-93b3b6df4003"
      },
      "execution_count": null,
      "outputs": [
        {
          "output_type": "stream",
          "name": "stdout",
          "text": [
            "2.5\n",
            "-2.5\n"
          ]
        }
      ]
    },
    {
      "cell_type": "markdown",
      "source": [
        "<font color=\"Yellow\"> **1.5. Modulus Operator** : </font> In Python, \"%\" is the modulus operator. It is used to find the remainder when first operand is divided by the second."
      ],
      "metadata": {
        "id": "pKfwX2Gfy7iF"
      }
    },
    {
      "cell_type": "code",
      "source": [
        "val1 = 19\n",
        "val2 = 5\n",
        "\n",
        "# using the modulus operator\n",
        "res = val1 % val2\n",
        "print(res)"
      ],
      "metadata": {
        "id": "7LIL3WWFy8ET",
        "colab": {
          "base_uri": "https://localhost:8080/"
        },
        "outputId": "c9857623-e00c-4e4c-f080-0bfe9a117ffd"
      },
      "execution_count": null,
      "outputs": [
        {
          "output_type": "stream",
          "name": "stdout",
          "text": [
            "4\n"
          ]
        }
      ]
    },
    {
      "cell_type": "markdown",
      "source": [
        "<font color=\"Yellow\"> **1.6. Exponentiation Operator** : </font> In Python, ** is the exponentiation operator. It is used to raise the first operand to power of second."
      ],
      "metadata": {
        "id": "wFhAzdPdy9yU"
      }
    },
    {
      "cell_type": "code",
      "source": [
        "val1 = 2\n",
        "val2 = 3\n",
        "\n",
        "# using the exponentiation operator\n",
        "res = val1 ** val2\n",
        "print(res)"
      ],
      "metadata": {
        "id": "EKuxBvxwy_Q1"
      },
      "execution_count": null,
      "outputs": []
    },
    {
      "cell_type": "markdown",
      "source": [
        "<font color=\"Yellow\"> **1.7. Floor division** : </font> In Python, \"//\" is used to conduct the floor division. It is used to find the floor of the quotient when first operand is divided by the second."
      ],
      "metadata": {
        "id": "hpqf6BcwzCL0"
      }
    },
    {
      "cell_type": "code",
      "source": [
        "val1 = 21\n",
        "val2 = 5\n",
        "\n",
        "# using the floor division\n",
        "res = val1 // val2\n",
        "print(res)"
      ],
      "metadata": {
        "id": "Z11Dv2V-zDK9",
        "colab": {
          "base_uri": "https://localhost:8080/"
        },
        "outputId": "26b301fc-6e19-4afa-b607-884db0e25349"
      },
      "execution_count": null,
      "outputs": [
        {
          "output_type": "stream",
          "name": "stdout",
          "text": [
            "4\n"
          ]
        }
      ]
    },
    {
      "cell_type": "code",
      "source": [
        "# Examples of Arithmetic Operator\n",
        "a = 9\n",
        "b = 4\n",
        "\n",
        "# Addition of numbers\n",
        "add = a + b\n",
        "\n",
        "# Subtraction of numbers\n",
        "sub = a - b\n",
        "\n",
        "# Multiplication of number\n",
        "mul = a * b\n",
        "\n",
        "# Division(float) of number\n",
        "div1 = a / b\n",
        "\n",
        "# Division(floor) of number\n",
        "div2 = a // b\n",
        "\n",
        "# Modulo of both number\n",
        "mod = a % b\n",
        "\n",
        "# Power\n",
        "pow = a ** b\n",
        "\n",
        "# print results\n",
        "print(add)\n",
        "print(sub)\n",
        "print(mul)\n",
        "print(div1)\n",
        "print(div2)\n",
        "print(mod)\n",
        "print(pow)"
      ],
      "metadata": {
        "id": "NlsdHCbDzGfA",
        "colab": {
          "base_uri": "https://localhost:8080/"
        },
        "outputId": "8a32796e-051f-49c8-ace1-1d7f2db2c17e"
      },
      "execution_count": null,
      "outputs": [
        {
          "output_type": "stream",
          "name": "stdout",
          "text": [
            "13\n",
            "5\n",
            "36\n",
            "2.25\n",
            "2\n",
            "1\n",
            "6561\n"
          ]
        }
      ]
    },
    {
      "cell_type": "markdown",
      "source": [
        "<font color=\"Yellow\"> **2. Assignment Operators in Python**  </font>\n",
        "Operators are used to perform operations on values and variables. These are the special symbols that carry out arithmetic, logical, bitwise computations. The value the operator operates on is known as **Operand**.\n",
        "\n",
        "Here, we will cover Assignment Operators in Python. So, Assignment Operators are used to assigning values to variables."
      ],
      "metadata": {
        "id": "xOCgdYE5zWZf"
      }
    },
    {
      "cell_type": "markdown",
      "source": [
        "<font color=\"Yellow\"> **2.1) Assign:** </font> This operator is used to assign the value of the right side of the expression to the left side operand."
      ],
      "metadata": {
        "id": "8EAE7FNezegj"
      }
    },
    {
      "cell_type": "code",
      "source": [
        "a = 3\n",
        "b = 5\n",
        "\n",
        "# Output\n",
        "print(a)\n",
        "print(b)"
      ],
      "metadata": {
        "id": "62DZpK5Jzd2g"
      },
      "execution_count": null,
      "outputs": []
    },
    {
      "cell_type": "markdown",
      "source": [
        "<font color=\"Yellow\"> **2.2) Add and Assign:**</font>  This operator is used to add the right side operand with the left side operand and then assigning the result to the left operand."
      ],
      "metadata": {
        "id": "a-FnsOoRzwrd"
      }
    },
    {
      "cell_type": "code",
      "source": [
        "a = 3\n",
        "b = 5\n",
        "\n",
        "# a = a + b\n",
        "a += b\n",
        "\n",
        "# Output\n",
        "print(a)"
      ],
      "metadata": {
        "id": "aw3xeJ_vz0Cu",
        "colab": {
          "base_uri": "https://localhost:8080/"
        },
        "outputId": "059853dc-3682-4eb4-ccbe-9cebe816af92"
      },
      "execution_count": null,
      "outputs": [
        {
          "output_type": "stream",
          "name": "stdout",
          "text": [
            "8\n"
          ]
        }
      ]
    },
    {
      "cell_type": "markdown",
      "source": [
        "<font color=\"Yellow\"> **2.3) Subtract and Assign:** </font> This operator is used to subtract the right operand from the left operand and then assigning the result to the left operand."
      ],
      "metadata": {
        "id": "dRKSm-ftz2Hu"
      }
    },
    {
      "cell_type": "code",
      "source": [
        "a = 3\n",
        "b = 5\n",
        "\n",
        "# a = a - b\n",
        "a -= b\n",
        "\n",
        "# Output\n",
        "print(a)"
      ],
      "metadata": {
        "id": "KnH71METz9Hr",
        "colab": {
          "base_uri": "https://localhost:8080/"
        },
        "outputId": "b7a9e395-7d23-4a7b-9ba7-72ffd8fc5c7c"
      },
      "execution_count": null,
      "outputs": [
        {
          "output_type": "stream",
          "name": "stdout",
          "text": [
            "-2\n"
          ]
        }
      ]
    },
    {
      "cell_type": "markdown",
      "source": [
        "<font color=\"Yellow\"> **2.4) Multiply and Assign:** </font> This operator is used to multiply the right operand with the left operand and then assigning the result to the left operand."
      ],
      "metadata": {
        "id": "UQeU4RJDz-u1"
      }
    },
    {
      "cell_type": "code",
      "source": [
        "a = 3\n",
        "b = 5\n",
        "\n",
        "#a = a * b\n",
        "a *= b\n",
        "\n",
        "# Output\n",
        "print(a)"
      ],
      "metadata": {
        "id": "HNOKi_U30DEF",
        "colab": {
          "base_uri": "https://localhost:8080/"
        },
        "outputId": "985acc3c-238d-482c-c4e9-836ab7051d0c"
      },
      "execution_count": null,
      "outputs": [
        {
          "output_type": "stream",
          "name": "stdout",
          "text": [
            "15\n"
          ]
        }
      ]
    },
    {
      "cell_type": "markdown",
      "source": [
        "<font color=\"Yellow\"> **2.5) Divide and Assign:** </font> This operator is used to divide the left operand with the right operand and then assigning the result to the left operand."
      ],
      "metadata": {
        "id": "aaHtc3rT0FoG"
      }
    },
    {
      "cell_type": "code",
      "source": [
        "a = 3\n",
        "b = 5\n",
        "\n",
        "# a = a / b\n",
        "a /= b\n",
        "\n",
        "# Output\n",
        "print(a)"
      ],
      "metadata": {
        "id": "iU3m6Kkn0Fjw",
        "colab": {
          "base_uri": "https://localhost:8080/"
        },
        "outputId": "599c60b2-5a26-4542-a555-0ab17817fd5c"
      },
      "execution_count": null,
      "outputs": [
        {
          "output_type": "stream",
          "name": "stdout",
          "text": [
            "0.6\n"
          ]
        }
      ]
    },
    {
      "cell_type": "markdown",
      "source": [
        "<font color=\"Yellow\"> **2.6) Modulus and Assign:** </font> This operator is used to take the modulus using the left and the right operands and then assigning the result to the left operand."
      ],
      "metadata": {
        "id": "Q9F1tKty0LEo"
      }
    },
    {
      "cell_type": "code",
      "source": [
        "a = 13\n",
        "b = 5\n",
        "\n",
        "# a = a % b\n",
        "a %= b\n",
        "\n",
        "# Output\n",
        "print(a)"
      ],
      "metadata": {
        "id": "a40dfODh0NFt",
        "colab": {
          "base_uri": "https://localhost:8080/"
        },
        "outputId": "f22838ee-7570-4a45-9020-95e3f5d1f260"
      },
      "execution_count": null,
      "outputs": [
        {
          "output_type": "stream",
          "name": "stdout",
          "text": [
            "3\n"
          ]
        }
      ]
    },
    {
      "cell_type": "markdown",
      "source": [
        "<font color=\"Yellow\"> **2.7) Divide (floor) and Assign:** </font>  This operator is used to divide the left operand with the right operand and then assigning the result(floor) to the left operand."
      ],
      "metadata": {
        "id": "2R_fbjRl0Onz"
      }
    },
    {
      "cell_type": "code",
      "source": [
        "a = 13\n",
        "b = 5\n",
        "\n",
        "# a = a // b\n",
        "a //= b\n",
        "\n",
        "# Output\n",
        "print(a)"
      ],
      "metadata": {
        "id": "g3icc2EM0Q47"
      },
      "execution_count": null,
      "outputs": []
    },
    {
      "cell_type": "markdown",
      "source": [
        "<font color=\"Yellow\"> **2.8) Exponent and Assign:** </font> This operator is used to calculate the exponent(raise power) value using operands and then assigning the result to the left operand."
      ],
      "metadata": {
        "id": "CO9yJsJf0SSv"
      }
    },
    {
      "cell_type": "code",
      "source": [
        "a = 3\n",
        "b = 5\n",
        "\n",
        "# a = a ** b\n",
        "a **= b\n",
        "\n",
        "# Output\n",
        "print(a)"
      ],
      "metadata": {
        "id": "A132wQgg0Ul6"
      },
      "execution_count": null,
      "outputs": []
    },
    {
      "cell_type": "markdown",
      "source": [
        "<font color=\"Yellow\"> **2.9) Bitwise AND and Assign:** </font> This operator is used to perform Bitwise AND on both operands and then assigning the result to the left operand."
      ],
      "metadata": {
        "id": "37CWoNt_0XUb"
      }
    },
    {
      "cell_type": "code",
      "source": [
        "a = 3\n",
        "b = 5\n",
        "\n",
        "# a = a & b\n",
        "a &= b\n",
        "\n",
        "# Output\n",
        "\n",
        "# 3 = 0 1 1\n",
        "# 5 = 1 0 1 AND\n",
        "# -----------\n",
        "#     0 0 1\n",
        "# 8  4  2  1\n",
        "print(a)"
      ],
      "metadata": {
        "id": "6YmLY3TC0XAU",
        "colab": {
          "base_uri": "https://localhost:8080/"
        },
        "outputId": "45fd8267-9b7c-4119-dc80-8026c9421b18"
      },
      "execution_count": null,
      "outputs": [
        {
          "output_type": "stream",
          "name": "stdout",
          "text": [
            "1\n"
          ]
        }
      ]
    },
    {
      "cell_type": "code",
      "source": [
        "# Examples of Assignment Operators\n",
        "a = 10\n",
        "\n",
        "# Assign value\n",
        "b = a\n",
        "print(b)\n",
        "\n",
        "# Add and assign value\n",
        "b += a\n",
        "print(b)\n",
        "\n",
        "# Subtract and assign value\n",
        "b -= a\n",
        "print(b)\n",
        "\n",
        "# multiply and assign\n",
        "b *= a\n",
        "print(b)\n",
        "\n",
        "# bitwise left shift operator\n",
        "b <<= a\n",
        "print(b)"
      ],
      "metadata": {
        "id": "zEPrsXYW0egA",
        "colab": {
          "base_uri": "https://localhost:8080/"
        },
        "outputId": "0968d4e5-ce15-4fc3-9343-0d9e41fb17fe"
      },
      "execution_count": null,
      "outputs": [
        {
          "output_type": "stream",
          "name": "stdout",
          "text": [
            "10\n",
            "20\n",
            "10\n",
            "100\n",
            "102400\n"
          ]
        }
      ]
    },
    {
      "cell_type": "markdown",
      "source": [
        "<font color=\"Yellow\"> **Example Program: Swap 2 Numbers**</font>"
      ],
      "metadata": {
        "id": "cy3VcjpW0kIc"
      }
    },
    {
      "cell_type": "code",
      "source": [
        "# Python code to swap two numbers\n",
        "# without using another variable\n",
        "x = 5\n",
        "y = 7\n",
        "\n",
        "print (\"Before swapping: \")\n",
        "print(\"Value of x : \", x, \" and y : \", y)\n",
        "\n",
        "# code to swap 'x' and 'y'\n",
        "x, y = y, x\n",
        "'''\n",
        "z = x\n",
        "x = y\n",
        "y = z\n",
        "'''\n",
        "print (\"After swapping: \")\n",
        "print(\"Value of x : \", x, \" and y : \", y)"
      ],
      "metadata": {
        "id": "WHPtd4Vu0gno",
        "colab": {
          "base_uri": "https://localhost:8080/"
        },
        "outputId": "0b536c7f-8225-4e95-acca-206d38d11b98"
      },
      "execution_count": null,
      "outputs": [
        {
          "output_type": "stream",
          "name": "stdout",
          "text": [
            "Before swapping: \n",
            "Value of x :  5  and y :  7\n",
            "After swapping: \n",
            "Value of x :  7  and y :  5\n"
          ]
        }
      ]
    },
    {
      "cell_type": "markdown",
      "source": [
        "<font color=\"Yellow\"> 3. **Relational operators**</font>  are used for comparing the values. It either returns True or False according to the condition. These operators are also known as **Comparison Operators**."
      ],
      "metadata": {
        "id": "CVZGv-hT0r6Y"
      }
    },
    {
      "cell_type": "markdown",
      "source": [
        "<font color=\"orange\"> **3.1) Greater than:** </font>This operator returns True if the left operand is greater than the right operand.\n",
        "\n",
        "**Syntax:** x > y"
      ],
      "metadata": {
        "id": "WvmCPcbm0voC"
      }
    },
    {
      "cell_type": "code",
      "source": [
        "a = 9\n",
        "b = 5\n",
        "c = a > b\n",
        "# Output\n",
        "# print(a > b)\n",
        "print(c)\n",
        "print(type(c))"
      ],
      "metadata": {
        "id": "RbxINexA02Iy",
        "colab": {
          "base_uri": "https://localhost:8080/"
        },
        "outputId": "8d398100-bd3d-41fd-ab1e-34ceca897681"
      },
      "execution_count": 9,
      "outputs": [
        {
          "output_type": "stream",
          "name": "stdout",
          "text": [
            "True\n",
            "<class 'bool'>\n"
          ]
        }
      ]
    },
    {
      "cell_type": "markdown",
      "source": [
        "<font color=\"orange\">3.2) **Less than:** </font>This operator returns True if the left operand is less than the right operand."
      ],
      "metadata": {
        "id": "42Hr4uWo05HM"
      }
    },
    {
      "cell_type": "code",
      "source": [
        "a = 9\n",
        "b = 5\n",
        "\n",
        "# Output\n",
        "print(a < b)"
      ],
      "metadata": {
        "id": "IDLsP-63073e",
        "colab": {
          "base_uri": "https://localhost:8080/"
        },
        "outputId": "0ee9bd9c-499c-42a7-8813-8c67db2c15bf"
      },
      "execution_count": null,
      "outputs": [
        {
          "output_type": "stream",
          "name": "stdout",
          "text": [
            "False\n"
          ]
        }
      ]
    },
    {
      "cell_type": "markdown",
      "source": [
        "<font color=\"orange\">3.3) **Equal to:**</font> This operator returns True if both the operands are equal i.e. if both the left and the right operand are equal to each other."
      ],
      "metadata": {
        "id": "HafDK_Zb1cnx"
      }
    },
    {
      "cell_type": "code",
      "source": [
        "a = 5.0\n",
        "b = 5\n",
        "\n",
        "# Output\n",
        "print(a == b)"
      ],
      "metadata": {
        "id": "oaPgcMN-1evD",
        "colab": {
          "base_uri": "https://localhost:8080/"
        },
        "outputId": "3ba88293-7f9e-43e5-b78d-858bc8fb602d"
      },
      "execution_count": null,
      "outputs": [
        {
          "output_type": "stream",
          "name": "stdout",
          "text": [
            "True\n"
          ]
        }
      ]
    },
    {
      "cell_type": "markdown",
      "source": [
        "<font color=\"orange\">**3.4) Not equal to:** </font> This operator returns True if both the operands are not equal."
      ],
      "metadata": {
        "id": "KAyzZJHU1iZd"
      }
    },
    {
      "cell_type": "code",
      "source": [
        "a = 9\n",
        "b = 5\n",
        "\n",
        "# Output\n",
        "print(a != b)"
      ],
      "metadata": {
        "id": "MTbuN5U11kjI",
        "colab": {
          "base_uri": "https://localhost:8080/"
        },
        "outputId": "73f00368-7169-411b-b7b6-7824d0646d1f"
      },
      "execution_count": null,
      "outputs": [
        {
          "output_type": "stream",
          "name": "stdout",
          "text": [
            "True\n"
          ]
        }
      ]
    },
    {
      "cell_type": "markdown",
      "source": [
        "<font color=\"orange\">**3.5) Greater than or equal to:** </font> This operator returns True if the left operand is greater than or equal to the right operand."
      ],
      "metadata": {
        "id": "PA1SKTCj1nhX"
      }
    },
    {
      "cell_type": "code",
      "source": [
        "a = 9\n",
        "b = 5\n",
        "\n",
        "# Output\n",
        "print(a >= b)\n",
        "a = 5\n",
        "b = 5\n",
        "\n",
        "# Output\n",
        "print(a >= b)\n",
        "a = 4\n",
        "b = 5\n",
        "\n",
        "# Output\n",
        "print(a >= b)\n"
      ],
      "metadata": {
        "id": "Uzmst4m71pJo",
        "colab": {
          "base_uri": "https://localhost:8080/"
        },
        "outputId": "98249bf3-2789-4535-c9f8-8c7fb444fe49"
      },
      "execution_count": null,
      "outputs": [
        {
          "output_type": "stream",
          "name": "stdout",
          "text": [
            "True\n",
            "True\n",
            "False\n"
          ]
        }
      ]
    },
    {
      "cell_type": "markdown",
      "source": [
        "<font color=\"orange\"> **3.6) Less than or equal to:** </font> This operator returns True if the left operand is less than or equal to the right operand."
      ],
      "metadata": {
        "id": "xiuBmIuZ1tSo"
      }
    },
    {
      "cell_type": "code",
      "source": [
        "a = 9\n",
        "b = 5\n",
        "\n",
        "# Output\n",
        "print(a <= b) # False\n",
        "a = 5\n",
        "b = 5\n",
        "\n",
        "print(a <= b) # True\n",
        "\n",
        "a = 4\n",
        "b = 5\n",
        "\n",
        "print(a <= b) # True"
      ],
      "metadata": {
        "id": "dR_a739P1vL0",
        "colab": {
          "base_uri": "https://localhost:8080/"
        },
        "outputId": "8f91f53c-8863-4fd8-d85b-29a8f8ef4d5e"
      },
      "execution_count": null,
      "outputs": [
        {
          "output_type": "stream",
          "name": "stdout",
          "text": [
            "False\n",
            "True\n",
            "True\n"
          ]
        }
      ]
    },
    {
      "cell_type": "markdown",
      "source": [
        "<font color=\"yellow\"> 4. **Logical operators** </font>\n",
        "In Python, Logical operators are used on conditional statements (either True or False). They perform **Logical AND**, **Logical OR** and **Logical NOT** operations."
      ],
      "metadata": {
        "id": "tanVvfuP11BV"
      }
    },
    {
      "cell_type": "markdown",
      "source": [
        "<font color=\"Aqua\">**4.1 Logical AND operator![Python-logical-and-operator2.jpg](data:image/jpeg;base64,/9j/4AAQSkZJRgABAQAAAQABAAD/2wBDAAMCAgICAgMCAgIDAwMDBAYEBAQEBAgGBgUGCQgKCgkICQkKDA8MCgsOCwkJDRENDg8QEBEQCgwSExIQEw8QEBD/2wBDAQMDAwQDBAgEBAgQCwkLEBAQEBAQEBAQEBAQEBAQEBAQEBAQEBAQEBAQEBAQEBAQEBAQEBAQEBAQEBAQEBAQEBD/wAARCAIdA3ADASIAAhEBAxEB/8QAHQABAAIDAQEBAQAAAAAAAAAAAAUHAQYIBAIDCf/EAG8QAAECBQECBA4LCggJBwoHAQABAgMEBQYRBxIhCBMWMRQYIkFRVldhgZOUs9HTMjY4VXFydXfS4fAVIzdSWJaxtbbVFzNCc5GXo7InNDViY5WhpMEJJGZ0gpKiKENER0hTZGWGtCUmRnaDhMLU/8QAGwEBAAIDAQEAAAAAAAAAAAAAAAIDAQQFBgf/xAA8EQACAQICBgcHBAEDBQEAAAAAAQIDEQQSBRUhMVGRBhNBU2FxsTIzUnKBstEUIjShIwfB8BZCYoLhQ//aAAwDAQACEQMRAD8A/qmYMmAD5505jKKibjV791Is7TOirXbxrUGQl87ENHdVEjP/ABIbE3ud3kKoTWXXnUBvHaS6MQ5GnPVVhVW6plYDYrOs5suxUfhfjeAw5JbDSr4+jQlkbblwSbfJbvqdAZ74z3znuI7hnZ241f0klVXnhuhznU97nX9J8bfDH7bdI/FzfpIZ/BlGsn3M+S/J0PnvjPfOeNvhj9tukfi5v0jb4Y/bbpH4ub9Iz+DGsn3M+S/J0PnvjPfOeNvhj9tukfi5v0jb4Y/bbpH4ub9Iz+DGsn3M+S/J0PnvjPfOeNvhj9tukfi5v0jb4Y/bbpH4ub9Iz+DGsn3M+S/J0PnvjPfOeNvhj9tukfi5v0jb4Y/bbpH4ub9Iz+DGsn3M+S/J0PnvjPfOeNvhj9tukfi5v0jb4Y/bbpH4ub9Iz+DGsn3M+S/J0PnvjPfOeNvhj9tukfi5v0jb4Y/bbpH4ub9Iz+DGsn3M+S/J0PnvjPfOeNvhj9tukfi5v0jb4Y/bbpH4ub9Iz+DGsn3M+S/J0PnvjPfOeNvhj9tukfi5v0jb4Y/bbpH4ub9Iz+DGsn3M+S/J0PnvjPfOeNvhj9tukfi5v0jb4Y/bbpH4ub9Iz+DGsn3M+S/J0PnvjPfOeNvhj9tukfi5v0jb4Y/bbpH4ub9Iz+DGsn3M+S/J0PnvjPfOeNvhj9tukfi5v0jb4Y/bbpH4ub9Iz+DGsn3M+S/J0PnvjPfOeNvhj9tukfi5v0jb4Y/bbpH4ub9Iz+DGsn3M+S/J0PnvjPfOeNvhj9tukfi5v0jb4Y/bbpH4ub9Iz+DGsn3M+S/J0PnvjPfOeNvhj9tukfi5v0jb4Y/bbpH4ub9Iz+DGsn3M+S/J0PnvjPfOeNvhj9tukfi5v0jb4Y/bbpH4ub9Iz+DGsn3M+S/J0PnvjPfOeNvhj9tukfi5v0jb4Y/bbpH4ub9Iz+DGsn3M+S/J0PnvjPfOeNvhj9tukfi5v0jb4Y/bbpH4ub9Iz+DGsn3M+S/J0PnvjPfOeNvhj9tukfi5v0jb4Y/bbpH4ub9Iz+DGsn3M+S/J0PnvjPfOeNvhj9tukfi5v0jb4Y/bbpH4ub9Iz+DGsn3M+S/J0PnvjPfOeNvhj9tukfi5v0jb4Y/bbpH4ub9Iz+DGsn3M+S/J0PnvjPfOeNvhj9tukfi5v0jb4Y/bbpH4ub9Iz+DGsn3M+S/J0PnvjPfOeNvhj9tukfi5v0jb4Y/bbpH4ub9Iz+DGsn3M+S/J0PnvjPfOeNvhj9tukfi5v0jb4Y/bbpH4ub9Iz+DGsn3M+S/J0PnvjPfOeNvhj9tukfi5v0jb4Y/bbpH4ub9Iz+DGsn3M+S/J0PnvjPfOeNvhj9tukfi5v0jb4Y/bbpH4ub9Iz+DGsn3M+S/J0PnvjPfOeNvhj9tukfi5v0jb4Y/bbpH4ub9Iz+DGsn3M+S/J0PnvjPfOeNvhj9tukfi5v0jb4Y/bbpH4ub9Iz+DGsn3M+S/J0PnvjPfOeNvhj9tukfi5v0jb4Y/bbpH4ub9Iz+DGsn3M+S/J0PnvjPfOeNvhj9tukfi5v0jb4Y/bbpH4ub9Iz+DGsn3M+S/J0PnvjPfOeNvhj9tukfi5v0jb4Y/bbpH4ub9Iz+DGsn3M+S/J0PnvjPfOeNvhj9tukfi5v0jb4Y/bbpH4ub9Iz+DGsn3M+S/J0PnvjPfOeNvhj9tukfi5v0jb4Y/bbpH4ub9Iz+DGsn3M+S/J0PnvjPfOeNvhj9tukfi5v0jb4Y/bbpH4ub9Iz+DGsn3M+S/J0PnvjPfOeNvhj9tukfi5v0jb4Y/bbpH4ub9Iz+DGsn3M+S/J0PnvjPfOeNvhj9tukfi5v0jb4Y/bbpH4ub9Iz+DGsn3M+S/J0PnvjPfOeNvhj9tukfi5v0jb4Y/bbpH4ub9Iz+DGsn3M+S/J0PnvjPfOeNvhj9tukfi5v0jb4Y/bbpH4ub9Iz+DGsn3M+S/J0PnvjPfOeNvhj9tukfi5v0jb4Y/bbpH4ub9Iz+DGsn3M+S/J0PnvjPfOeNvhj9tukfi5v0jb4Y/bbpH4ub9Iz+DGsn3M+S/J0PnvjPfOeNvhj9tukfi5v0jb4Y/bbpH4ub9Iz+DGsn3M+S/J0PnvjPfOeNvhj9tukfi5v0jb4Y/bbpH4ub9Iz+DGsn3M+S/J0PnvjPfOeNvhj9tukfi5v0jb4Y/bbpH4ub9Iz+DGsn3M+S/J0PnvjPfOeNvhj9tukfi5v0jb4Y/bbpH4ub9Iz+DGsn3M+S/J0PnvjPfOeNvhj9tukfi5v0jb4Y/bbpH4ub9Iz+DGsn3M+S/J0PnvjPfOeNvhj9tukfi5v0jb4Y/bbpH4ub9Iz+DGsn3M+S/J0PnvjPfOeNvhj9tukfi5v0jb4Y/bbpH4ub9Iz+DGsn3M+S/J0PnvjPfOeNvhj9tukfi5v0jb4Y/bbpH4ub9Iz+DGsn3M+S/J0PnvjPfOeNvhj9tukfi5v0jb4Y/bbpH4ub9Iz+DGsn3M+S/J0PnvjPfOeNvhj9tukfi5v0jb4Y/bbpH4ub9Iz+DGsn3M+S/J0NjvDBz1xnDIT/8AVukfi5v0nytX4ZFOTjVnNJqs3nWFDfNQnfAjle1E8OQp+DM6y40p8vwzofr7hlShKbwn49uz8Gja32FO2XFjKkOHU2R0nabEfnH8cxOoz/nJjvl5SM7KVKUhT0hMwpiXjsR8KLCcjmPavMqKm5UJxkpGzh8ZRxV1Te1b01ZrzT2nrABk2j5XdvQ12/71o2ndo1O8a7F2JSmwHRXInsnu/ksb33LhE+E2L4ShuEaxbsvvS/Sdyq6TrdXi1WoQ0/8AOS8k1rkY5Owrnov/AGCMnlV0aeOrvD0JSjv2Jebdl6kfpfp3ULpqK8IHXKH0RVp377QqNFVXwKNKr/FtbDXcsZyb1VebOedVxc7JSsV9EizUZ9Okl9hAhboj29ZXL1vgMQYTa1W3o9iLJUpUhsYnsXReuuO8bFu3YMxSSsSwuFjhYZVtb2tve323IqDalBgtRFp7Ii9d0VVeq/0n7cm6F70yvi0JIGTaI3k3QvemV8Wg5N0L3plfFoSQAI3k3QvemV8Wg5N0L3plfFoSQAI3k3QvemV8Wg5N0L3plfFoSQAI3k3QvemV8Wg5N0L3plfFoSQAI3k3QvemV8Wg5N0L3plfFoSQAI3k3QvemV8Wg5N0L3plfFoSQAI3k3QvemV8Wg5N0L3plfFoSQAI3k3QvemV8Wg5N0L3plfFoSQAI3k3QvemV8Wg5N0L3plfFoSQAI3k3QvemV8Wg5N0L3plfFoSQAI3k3QvemV8Wg5N0L3plfFoSQAI3k3QvemV8Wg5N0L3plfFoSQAI3k3QvemV8Wg5N0L3plfFoSQAI3k3QvemV8Wg5N0L3plfFoSQAI3k3QvemV8Wg5N0L3plfFoSQAI3k3QvemV8Wg5N0L3plfFoSQAI3k3QvemV8Wg5N0L3plfFoSQAI3k3QvemV8Wg5N0L3plfFoSQAI3k3QvemV8Wg5N0L3plfFoSQAI3k3QvemV8Wg5N0L3plfFoSQAI3k3QvemV8Wg5N0L3plfFoSQAI3k3QvemV8Wg5N0L3plfFoSQAI3k3QvemV8Wg5N0L3plfFoSQAI3k3QvemV8Wg5N0L3plfFoSQAI3k3QvemV8Wg5N0L3plfFoSQAI3k3QvemV8Wg5N0L3plfFoSQAI3k3QvemV8Wg5N0L3plfFoSQAI3k3QvemV8Wg5N0L3plfFoSQAI3k3QvemV8Wg5N0L3plfFoSQAI3k3QvemV8Wg5N0L3plfFoSQAI3k3QvemV8Wg5N0L3plfFoSQAI3k3QvemV8Wg5N0L3plfFoSQAI3k3QvemV8Wg5N0L3plfFoSQAI3k3QvemV8Wg5N0L3plfFoSQAI3k3QvemV8Wg5N0L3plfFoSQAI3k3QvemV8Wg5N0L3plfFoSQAI3k3QvemV8Wg5N0L3plfFoSQAI3k3QvemV8Wg5N0L3plfFoSQAI3k3QvemV8Wg5N0L3plfFoSQAI3k3QvemV8Wg5N0L3plfFoSQAI3k3QvemV8Wg5N0L3plfFoSQAI3k3QvemV8Wg5N0L3plfFoSQAI3k3QvemV8Wg5N0L3plfFoSQAI3k3QvemV8Wg5N0L3plfFoSQAI3k3QvemV8Wg5N0L3plfFoSQAI3k3QvemV8Wg5N0L3plfFoSQAI3k3QvemV8Wg5N0L3plfFoSQAI3k3QvemV8Wg5N0L3plfFoSQAI3k3QvemV8Wg5N0L3plfFoSQAI3k3QvemV8Wg5N0L3plfFoSQANXrunto3DT49LqlHhRJWYYrIkPGWuaqYVFauUX+goeiRatwUL6kbUqk9MT+mN2TXQ9MmIz1c6iTqoqpBVV/wDNP34+DPWdnp7cV3r5ZUrf+kdy29Fgo+Msk+Yk343wpmEnGQntXrKjmpzdZVTrkJR2XW9HNx+GzR6+lsnHanx4p+DLChRIcZjYsNyOa5MtVOZUPvHOVNwdLwmbo01t2an4ivizdMhTDHLzrhNl6fDlP0lsZ/2kk7q5uUaqrUo1FuaT5mfqKF1CcqcLTS5V3o2iVpyJ3+LaX19RQeonutNMPkKtebQhPcvNepp6T93D54fci4LPZ/8Ag6R19lHjxYjl7K7Sp/wJwhrP9r8v8eL5xxNFh0gAAAAAAAAAAAAAAAAAAAAAAAAAAAAAAAAAAAAAAAAAAAAAAAAAAAAAAAAAAAAAAAAAAAAAAAAAAAAAAAAAAAAAAAAAAAAAAAAAAAAAAAAAAAAAAAAAAAAAAAAAAAAAAAAAAAAAAAAAAAAAAAAAAAAAAAADCcxH19M0Gop2ZWN/cUkE5jwVz/Ic/wD9Wi/3FBXV9hlFcFpeK0i0+it53Q5uAvxUiLhP9p0Ihz3wXl/wOWD3o84n9qp0IhCn7CNPRv8ADpfKh9RQeonutNMPkKtebQvz6ig9RPdaaYfIVa82hiW5ea9SOk/dw+eH3IuOz/a/L/Hi+ccTRC2f7X5f48XzjiaLDpAAAAAAAAAAAAAAAAAAAAAAAAAAAAAAAAAAAAAAAAAAAAAAAAAAAAAAAAAAAAAAAAAAAAAAAAAAAAAAAAAAAAAAAAAAAAAAAAAAAAAAAAAAAAAAAAAAAAAAAAAAAAAAAAAAAAAAAAAAAAAAAAAAAAAAAAAGE5jw1pM0We/6vF/uKe5OY8VZ/wAjzqf/AA8T+6oK6vsMofgvr/gesbvTk8n9s46ETnOeeC+v+B+y+9UJ9v8AbuOhk5yFP2EaejP4dL5V6GfqKD1E91pph8hVrzaF+fUUHqJ7rTTD5CrXm0MS3LzXqR0n7uHzw+5Fx2f7X5f48XzjiaIWz/a/L/Hi+ccTRYdIAAAAAAAAAAAAAAAAAAAAAAAAAAAAAAAAAAAAAAAAAAAAAAAAAAAAAA5ztHRHRbUrVnW+u6iaRWXdVSgXxJSkKcrdAlJ6OyA22KG5sJsSNDc5GI573I1Fxl7l66m79KdwWPyadKvzNp3qRo3+EXXb5wJP9laCWqAVV0p3BY/Jp0q/M2nepHSncFj8mnSr8zad6ktUAFVdKdwWPyadKvzNp3qR0p3BY/Jp0q/M2nepLVABVXSncFj8mnSr8zad6kdKdwWPyadKvzNp3qS1QAVV0p3BY/Jp0q/M2nepHSncFj8mnSr8zad6ktUAFVdKdwWPyadKvzNp3qR0p3BY/Jp0q/M2nepLVABVXSncFj8mnSr8zad6k1OkaT6WaYcKay/4NNNbUtL7p6f3b0b9wqNLSHRXF1G3uL43iWN29njH7O1nG27HOp0CVTcfup9PPm/vL9Y24AWsAAAAAAAAAAAAAAAAAAAAAAAAAAAAAAAAAAAAAAAAAAAAAAAAAAAAAAAAAAAAAAAAAAAAAAAAAAAAAAeKq76VOJ/oIn91T2njqiZpk3/MxP7qhldT2GUHwYPwQWd3qrUE/wB4edDpzHO/Bf8AwQ2n3q1UU/3l50QnMQp+wjU0X/CpeSH1FB6ie600w+Qq15tC/PqKD1E91pph8hVrzaGJbl5r1IaT93D54fci47P9r8v8eL5xxNELZ/tfl/jxfOOJosOkAAAAAAAAAAAAAAAAAAAAAAAAAAAAAAAAAAAAAAAAAAAAAAAAAAAAAAVVo3+EXXb5wJP9laCWqVVo3+EXXb5wJP8AZWglqgAAAAAAAAAAAAAAwAZKpuP3U+nnzf3l+sbcLWKpuP3U+nnzf3l+sbcALWAAAAAAAAAAAAAAAAAAAAAAAAAAAAAAAAAAAAAAAAAAAAAAAAAAAAAAAAAAAAAAAAAAAAAAAAAAAAABhOY8tR306aT/AEL/AO6p6k5jzVDfT5lP9E/+6oIVPYZz/wAF9f8ABDbPer1ST/eoh0SnMc6cGBf8Elu9646kn+9RDotOYhT9hGlov+FT8kPqKD1E91pph8hVrzaF+fUUHqJ7rTTD5CrXm0MS3LzXqR0n7uHzw+5Fx2f7X5f48XzjiaIWz/a/L/Hi+ccTRYdIAAAAAAAAAAAAAAAAAAAAAAAAAAAAAAAAAAAAAAAAAAAAAAAAAAAAAAqrRv8ACLrt84En+ytBLVKq0b/CLrt84En+ytBLVAPnO9EUdf4TzTszElJSNMw5eLMOgw3PSFCxtxFRM7LdpUTK8yZVE75oWnOt9p6kzFRkqdBnadN0zqo8vPsZDiI3mVyI1ztyLuXfuUi5Ri0m9rNKvpDDYWtChWmoynfKn222u3kWK74P6BzcxW9h63W5qNc0/b1t0qqxodOVyxag6ExJVUR2Gq122rl2t6t6nKoiruLJ6/1mYyUleLujOCx2H0hS67CyUo3aut11sdmfQPnbYq42kz8JlXNTnVEMm3dGQYRzVXCORfCFVETeqIBdHznC56wQ0Oq6wW9SNSJDTKPI1B9SqENIkOOxjFgNRUcvVOV6O/kLzNXrG+p8BhSTvZ7jVw2NoYtzjQmpODyu3Y12PxMpzFVXH7qfTz5v7y/WNuFrFU3H7qfTz5v7y/WNuGTbLWAAAAAAAAAAAAAAAAAAAAAAAAAAAAAAAAAAAAAAAAAAAAAAAAAAAAAAAAAAAAAAAAAAAAAAAAAAAAAAPPO75KYT/Rv/AEKeg/Cb/wAVjfzbv0AhP2Gc88F9f8E1CT8W6Kon+9xjotOc504MP4KKSn4t11RP97inRac5CHso0tFfwqfkjP1FB6ie600w+Qq15tC/PqKD1E91pph8hVrzaGJbl5r1I6T93D54fci47P8Aa/L/AB4vnHE0Qtn+1+X+PF844miw6QAAAAAAAAAAAAAAAAAAAAAAAAAAAAAAAAAAAAAAAAAAAAAAAAAAAAABVWjf4RddvnAk/wBlaCWqVVo3+EXXb5wJP9laCWoAfPsk3dc4t4T9NpVm6irUbSqzpWerEnEWpSsFVbs7aK1VVU60RM5b/mqvXOwq9NVKRpE3OUqmuqM5ChOdAlmxGsWLEx1Ldpyo1N/XVeY5/wBM9BbguGuXBeWtdMRahVEiQYMq+KyJsNe3DnorHOa3CKjWpnKYVewauKhKolCK2vt4Hz3p7gMTpujS0Zg6bdSTzZ2naml4rte5I33g5W3bdB0xps1b0eHNOqMPoiamUTDnxl3OavXTZVNlE73fN0vqZrMtadTjW/PSMnUWy7lgTM6/YgQV673LsuwjUyu9FTKJncVFoZYuqOld21W1Z6kvnLQmYz4ktPpMwvvbk9i7Y29vqm4a5Nn2SIvNvLA1rsysX9p1U7aoUdrJ2Nxb4bXvVrYuy9HbCr1s46+7OM9klSbVGyjZpbjf0PVr0ujrhDDyhUpxcclmm5JW/a+1N7U1c5fu68p+0KdTqrRNdqtW7rbMI+elpeciRqfjeqqzLUYrUVETC5Rc7kRDfuEJet6Q4enk9blbm6bN1SEsR0OWmHshRIruJVqPai4e1Fcu5yLuVTXazo9q5WtP5O05LSik0iLTHQ4kxMQ52AseovTLUVMLhMI5VXbfvxuxzG6alaY6g3PA00iUy2nuiUJsP7pQ1mYCLLuTicplXYf7B3sc8xqNVXGVk+zj9d585hh9NVcLi6cIVIqSpOKSqLbmWa2a7ul7TVr77Gp3GurejV+WrN1XUmdrjK7MNSPAiPfxKdWxHsSG5yt2cP3ORGr3kJ/Uu5NQdRNZGaT2lc8xb8nJwWxpiYl4jmPcuwj3OVWqjnYRyIjUVEVd69lNo1+06vK9LksmetmirOS9JmViTj+Phs4pvGQlzh7kV25rubPMRmqOlmpdK1LgasaUwYE5PRYbIU1JxXsamUZsZXaVqOYrUTOHI5F3p3rJQmnKKva647rbbHSxmjdJ4OWIw9FVZYeNWk2k5OTg4/vytu722uk7mhU6gXbbPCVtij3dX3VuYgMRJaeezZfFg7ETZ2sqq7SLtIuVVd3Op2BlcdjvnMVv6ba31LWWg6i31R5dWNyswstHhIyTajXtazZV6uXnRep2vZc6rnHT2MIW4SOVS2Nbe09P0DwlTC0sU5U5wjKq3FTTzOLSs3fb/bPpCqrj91Pp58395frG3C1iqbj91Pp58395frG3DaPoBawAAAAAAAAAAAAAAAAAAAAAAAAAAAAAAAAAAAAAAAAAAAAAAAAAAAAAAAAAAAAAAAAAAAAAAAAAAAAAB+Mz/i8X4jv0H7H5x98GIn+av6AQn7DOdeDH+C6RT8W76on+9RDo3sHOXBmXGmMBPxbzqif7zEOjewQp+wjS0V/CpeSH1FB6ie600w+Qq15tC/PqKD1E91pph8hVrzaGJbl5r1I6T93D54fci47P9r8v8eL5xxNELZ/tfl/jxfOOJosOkAAAAAAAAAAAAAAAAAAAAAAAAAAAAAAAAAAAAAAAAAAAAAAAAAAAAAAVVo3+EXXb5wJP9laCWqVVo3+EXXb5wJP9laCWqAAAAYVcGFVE5xznmnZRs7JxpN0SNDSNDdDV8KIsN7UVMZa5uFavYVN6AjJtLZvPQioqblyEVEXZRUz2DmKxL6uLR7VCrafalXFOz1MnGrHkJ+fmHxcNRFVio565RHIitVE5nonZPbo/Ub01g1Lqmok1XKrJWvToyw5OQhzUWHBjuRMMRzGuRrsNw527e5UTmQ11iItqK3t2twPG4bplQxVWnhadKXXynKLhsvHLvk/C1mn232HSRkwhk2D2gAAAKpuP3U+nnzf3l+sbcLWKpuP3U+nnzf3l+sbcALWAAAAAAAAAAAAAAAAAAAAAAAAAAAAAAAAAAAAAAAAAAAAAAAAAAAAAAAAAAAAAAAAAAAAAAAAAAAAAAPiNvhv+Kp9nxET725O8oMS3M5z4NH4Ncfi3tVE/3iIdHLzHOHBq3acR0T+TfVTT/eIh0evMV0/ZRz9Ffw6fkPqKD1E91pph8hVrzaF+fUUHqJ7rTTD5CrXm0Ety816mNJ+7h88PuRcdn+1+X+PF844miFs/2vy/x4vnHE0WHSAAAAAAAAAAAAAAAAAAAAAAAAAAAAAAAAAAAAAAAAAAAAAAAAAAAAAAKq0b/CLrt84En+ytBLVKq0b/AAi67fOBJ/srQS1QAAAAAADnPhmUinxbNpVbdKt6Nl59IEONjqkY9jlcnfTLGr4O+W5pVRZCgae0GnUuA2DASShRMIm9z3tRznKvXVXKq+E9d6WHa2oNMh0e7aYs7KwoqR2Q0jxIWHoioi5Y5q8zl3ZwTNPkZanSMvTpOHxcvLQ2woTMquy1qIiJld67kTnKY0stWU+KR5fCaCeH07iNKtRtOMUre1db77O3Z29h6zIBceoAAABVNx+6n08+b+8v1jbhaxVNx+6n08+b+8v1jbgBawAAAAAAAAAAAAAAAAAAAAAAAAAAAAAAAAAAAAAAAAAAAAAAAAAAAAAAAAAAAAAAAAAAAAAAAAAAAAAB8v8AYO+BT6Pl/sHfAoMPcc38Gzdp9Pt/Fvypp/bvOkU51ObuDfusOqN/Fv2pededIpzqV0/ZRz9E/wAOn5D6ig9RPdaaYfIVa82hfn1FB6ie600w+Qq15tBLcvNepjSfu4fPD7kXHZ/tfl/jxfOOJohbP9r8v8eL5xxNFh0gAAAAAAAAAAAAAAAAAAAAAAAAAAAAAAAAAAAAAAAAAAAAAAAAAAAAACqtG/wi67fOBJ/srQS1Sp6hoZVuV9zXbaeul/2lytqEGqVGnUuXocaV6KhyUtJJEYs7To8VuYMnAynGK3aRVREyff8AA3qL+Vjqr/q21f3MAWqCqv4G9RfysdVf9W2r+5h/A3qL+Vjqr/q21f3MAWqCqv4G9RfysdVf9W2r+5h/A3qL+Vjqr/q21f3MAWqDnPW20dWdNtGb+1EoXCo1Kj1K1bYqtak4U5S7YdAiR5aUiRobYjW0hrlYrmIiojmrjOFTnN3/AIG9RfysdVf9W2r+5gC1QVV/A3qL+Vjqr/q21f3MP4G9RfysdVf9W2r+5gC1QVV/A3qL+Vjqr/q21f3MP4G9RfysdVf9W2r+5gC1Sqbj91Pp58395frG3DP8Deov5WOqv+rbV/cx6LS0ZnqFf0pqLcmr963nUqdSJ6iSMKtwaRBgS0CcjSkaO5rZCRlnOerpGXRFe5yIiOwm/IBZoAAAAAAAAAAAAAAAAAAAAAAAAAAAAAAAAAAAAAAAAAAAAAAAAAAAAAAAAAAAAAAAAAAAAAAAAAAAAAB8v9g74FPo+X+wd8Cgw9xzfwdd1k1tv4t/VHzinSKc6nN3B33WfcTfxb/qH986RTnUrp+wjn6K/h0/IfUUHqJ7rTTD5CrXm0L8+ooPUT3WmmHyFWvNoJbl5r1MaT93D54fci47P9r8v8eL5xxNELZ/tfl/jxfOOJosOkAAAAAAAAAAAAAAAAAAAAAAAAAAAAAAAAAAAAAAAAAAAAAAAAAAAAAAAAAAAAAAAVTwsfcsayfN/cP6ujlrFU8LH3LGsnzf3D+ro5awAAAAAAAAAAAAAAAAAAAAAAAAAAAAAAAAAAAAAAAAAAAAAAAAAAAAAAAAAAAAAAAAAAAAAAAAAAAAAAAAAAAAAAAAPl/sHfAp9Hy/2DvgUGHuOcODzutK6k/F1Anv7yHSCHN/B93WxeDfxdQZ3/8AydIIQh7KOdor+HDy/wB2PqKD1E91pph8hVrzaF+fUUHqJ7rTTD5CrXm0MS3LzXqNJ+7h88PuRcdn+1+X+PF844miFs/2vy/x4vnHE0WHSAAAAAAAAAAAAAAAAAAAAAAAAAAAAAAAAAAAAAAAAAAAAAAAAAAAAAAAAAAAAAAAKp4WPuWNZPm/uH9XRy1jjX/lMda9SdGNGZ5tJs2m16yL4o1Xs+tRVfFhTtLnZyUfDlZlr0VzHQcLG2mOhoquYxEe3bQtXgf61akcIjS6JrBfVn0y1qXXahFdbNMl3xYsw2mw8M42ZivVEiPfFbF2VbDhpsNauF2sgF6gAAAAAAAAAAAAAAAAAAAAAAAAAAAAAAAAAAAAAAAAAAAAAAAAAAAAAAAAAAAAAAAAAAAAAAAAAAAAAAAAAAAAAAHy/wBg74FPo+X+wd8Cgw9xzhoBut+90/F1Bnf0MOj165zhoHuol+t/F1CnP7sM6PXrldP2Ec7RP8SH19TP1FB6ie600w+Qq15tC/PqKD1E91pph8hVrzaCW5ea9RpP3cPnh9yLjs/2vy/x4vnHE0Qtn+1+X+PF844miw6QAAAAAAAAAAAAAAAAAAAAAAAAAAAAAAAAAAAAAAAAAAAAAAAAAAAAAAAAAAAAAKgvDUm5Lvuyb0j0VjQ/utIuay5LniQUjSVttciKkJqL1MxPuaqKyBvbDRUiRsIrGRQIHhMNpusluVrgxUG2ZW6avcMpDSr9ExXw5C3pZzkfCm5qKzLmxdpiPgQG/fIjmIvUw0c9Nq0Pu+mLRpfSaetaFZly2ZT5eTj22yKsSCyThtSFBmJKKqJ0RJuRqI2IiI5qpsREY9FabdYdh27pzQGUC3YEbZfGfNTc3MxVjTdQmn74szMxndVFjPVMucvYREw1ERPDqRpvT9QJOTmGT8zRbhosR0zQ69JI3oqmx1TDlbtdTEhPREbEgvyyI3c5NyKgG5gq3TnVaqztxRdK9U6bL0O/ZKA6YhtgbXQFelGqiLO097t7mplOMgOVYkFyojtprmRH2kAAAAAAAAAAAAAAAAAAAAAAAAAAAAAAAAAAAAAAAAAAAAAAAAAAAAAAAAAAAAAAAAAAAAAAAAAAAAAAAAAAAAADDvYr8Bkw72K/ADD3HN2g+6laiJ+LqFNf3IR0ihzdoTukNS0/F1DmfNwDpFCuHso5+if4kfr6sfUUHqJ7rTTD5CrXm0L8+ooPUT3WmmHyFWvNoJbl5r1MaT93D54fci47P9r8v8eL5xxNELZ/tfl/jxfOOJosOkAAAAAAAAAAAAAAAAAAAAAAAAAAAAAAAAAAAAAAAAAAAAAAYMgAGDIAAAAAAAB8qqIiqq4ROdSk6rVa/wAIiNHt2yKzN0bTWFEdL1a5pGMsKar6tXZiSlMiN3w5fKK2JONXLt7IC5zFYB7K1ete1erM9p/pHVo1PotOjuk7lvOXwvQ72riJIU1VRWxJvna+NhYcvvTq4vUMsSzrMtnT+3pS1bPpEKnUyTR3FQYaq5XOcqufEe9yq6JEe5Vc57lVznKrnKqqqnqty3KDZ9CkLXtekStKpNLgMlpOSlISQ4MCE1MNa1qbkRCUAAAANU1B05tvUqjQ6VcEOYgx5OO2cptRkovEztMm2ouxMy0VEVYcRuVTrtciua5HNc5q6rZ+pFct+45XSfWJ8CDccyj0odcgwuJkbmhMTKrDTOIE41qZiSyr1lfCVzMoy1TWr9sG1tTLZmrRvKmJO0+acyIitiOhRpeMxdqHHgxWKj4MaG5EcyIxUc1yIqKigGygqG1LvunTOtSGmusVVWoy8/FSUtq8YjGw2VR/8iTnkaiMgz2E6lURIcxjLNl+YSW8AAAAAAAADGQDIAAAAAAAAAAAAAAAAAAAAAAAAAAAAAAAAAAAAAAAAAAAAAAAAAAAAAAAAAAAAAAAAAAAAAAABh3sV+AyYd7FfgBh7jm7QzdK6pN/F1DmPNQDo9DnHRHcmq7OxqDGX+ygHRyEaXsnO0V/Ej9fVn19RQeonutNMPkKtebQvz6ig9RPdaaYfIVa82hGW5ea9RpP3cPnh9yLjs/2vy/x4vnHE0Qtn+1+X+PF844miw6QAAAAAAAAAAAAAAAAAAAAAAAAAAAAAAAAAAABjPOR9cnIlOo07PwUasSXl4kViO5lVGqqZx1tx7+ciLtTNr1X/qcb+4piW418VJwoTlHek/Q5ys/WbhMX9T4lXtKybfn5SFFWC96fe8PREVUw+YavM5N+MF26X1PUypUWYj6o0ORpNRbMK2FClXtVqwtlMOVUiP352k505uY5m0JoevFTtOYjaYXfS6XTEnHpEgzLGq50XYZlyKsB+7Gz/K63MWxqbN3XbWiLJDUjUDoOtTUfiY85TZTjnzLVc5yQoaJxKNVWoiK5cJhFTfk06FSThnlfd22sfLejOlcVHBazxcq8rQcnncFTb3WT3rwuXpxsNXI1IjFXvOQqWJqvcbOEFC0tSXp/3IfLLGWJsP6I2uKV+Nra2cZT8XmOfZOFyS1Gseeta1K3a8KdmoMB8SemncbUGrEY17nQlVdjKO3pnZXO7mLNjtV3DHl2quFWnL/T0M4y8Q5Wts/clz5F9XpjX0lGkqUXTlHEU4Ss21KMk3a7jF7e3Z5M6QWLDR2FiNReuirvPrabhcOTCdc4XvCkVih1m4YmrVk1qpzc1HcstX4E1EVkq3fsuhon3t6Ywuw5zcImOp623XNqdVJPg90qWty9J+pRZioLTpidfAWBNQ4aI5/FOw92/Gym0jly3d2TKxS25la3P/nM2qX+odJdf+poODppuzf7tjsk00t+x3i5JLezrdHwlXqXtX4HZP0Re+cVwYc3alYt6u6U6f6g0ydl3sbU1nZCLxM+xcIqqiOcm/flMI3eiphUydownK6G16pvVqKpdTqZ7pq1j0vR/T8tNdZGdPJKFtzbTUldWbUb23PZsfafqAC09IDzTs5K02Tjz8/NQZaVlobo0ePGejIcKG1Mue5y7mtREVVVdyIh5LjuOg2fQp+57oq0rSqTTID5mcnZqKkODAhNTLnOcu5EKlpVLr/CIjQLkvijTdG02hRGzFJtmegrCmq8rV2oc3U4bt8OXyiOhybkyu58dM4hMA82Lh4Tc3/6ZRtHGL/nwJ28/wBDoFMXwPmUX+TB/jrukpOVpsnAkJCVgy0rLQ2wYECCxGQ4UNqYaxrU3NaiIiIibkRD90RERERMIh9AAAwAZAAAAABE3NbNAvOgz1rXVSJap0mpQVgTUpMM2ocVi9ZU6youFRU3oqIqKioilSUm5bp0Dq0C0NTavM1qwZyMyWoN4Tb1fHpr3KjYcjVnrzplUbCnF3PyjI2ImIkW8Tx1GnSFYkZmk1WRl52SnIT4EzLTEJsSFGhPRUcx7HIqOaqKqKiphUUA9gKLj1ascGR8KBW405VtIVckODUYiujzdoIq4bDmXLl8anJzNjLl8umEiK6Em3DuyWmJecl4U3KR4caBGY2JDiw3I5j2KmUc1U3KiouUVAD0AAA+efeeGsRJ+DS5t9KgsizjIMR0vDeuGvio1dhq703K7Cc6fCh7lXO5B4TJCcc0XG9rnK14648JGwWykS7bMt6QbOxFhQFVFibb0xu6iYd2evgsCydRtV6bU1i630y3rao8aB/zWZWbhQ1ix8phiZjv/k7S83W5zVuGV/idoqvP0dE/Q0+uGG1UsO3UTn6ObjxTjQlUlTlN5m8tv747D5FiMZjtDYvH1XialSOGVNxi2rPMtqlaO7hYuxuoViufOMS8KPtU9u1ON6NhZl0RURVf1XUJlUTfjep7GXXbcShrdDK/T3UfZVyzyTLFl0RF2VXjM7OM7ufnKKufSWz7B0IrdWo9OVlUnKRBbOTcSM97oqq5iu3K5WtTPWaicyc54abGhpwNIyOitTEtFREVev0Su74S115RdpLsbPRPpVjsLVlRxdKKkqEq2yTa2PZG7S+rOh5O46HP0j7vSNYk49NVrn9Fw47XQdludpdtF2cJhcrndg81Cve0LmixJe3rmpdSiwkzEZKzkOK5qdlUa5VRDjy7KvU4eg+nluSsSIknU5maWYhtiJD45WR8MYrl3ImXqu/dlEXrE2zSbUem3JQbhsXSGYtqPTozXxnpcsGaSZaipnKOcitym0iom5UXGE68FinK2WN919/b9PU5cen2Lr1YQw+Fc0o03NLM3/kSey0Wtid/3NX7DscHzDzsN2ufCZPo3D6indXAABkAAAAAAAAAAAAAAAAAAAAAAAAAAAAAAAAAAAAAAAAAAAAAAAAAAAAAAAAAGHexX4DJh3sV+AGHuObtFd0zq4z8W/oi/wBlAOkGexT4DnHRrdUtYW/i325f7OCdHN9inwIQp+yc/RP8SPnL1Zn6ig9RPdaaYfIVa82hfn1FB6ie600w+Qq15tDEty816mNJ+7h88PuRcdn+1+X+PF844miFs/2vy/x4vnHE0WHSAAAAAAAAAAAAAAAAAAAAAAAAAAAAAAAAAABWtc4SnB0turTlAuLX7TmlVSnxnS85JTt1SECYl4rVw6HEhvio5jkXcqKiKgBZHWQ8VWkPunTJqn8ZxazEGJB2sZ2dpqpnHXxkrjpseCyn/tK6VfnlTvXBeFhwWefpltKvzyp3rhvITgqkXCW5klo1pWukltx6A6uJU3R5p8zxyS3E42mtTZ2dp34vPnrn6avaVSOrFuw6LNVGJITEtGSYlpljEdsPwqb2qqbSKiruyi828iU4WPBZ/KV0q/PKneuMLwr+Cxn3SulX55U71xDq45clthzdTYL9BqzJ/htbLd7vO9zWpvg23LVqvRbireq0xUKnRY0N8GJGpjUhLDY5HNYkNr0wuU3uVVVc79+82uLo06NrC3Vd9wIrGyqyzqespnaRYSszxm33842e8fh01/BaRFVOErpWqr/0yp3rjPTYcFnHultK/wA8qd64iqNPh233vejRo9FNFUNsaTvmU7uUm80VZO7bvZPyIPpeK5QJqqQtPNTZq3qTVnOfHkHU9k0jVVFRdh7lRWblwip1W5N64JWFwcLNh6bO08fMTL2vjdFunsokXonGOMROZN3U47HXzvP36bDgsp/7SuleP/3lTvXDpr+C11uErpX+eVO9cZVGnwMw6K6Ig5NUb3TVm20lJ3aSbajd8EiIpXB3qExWqPUb/wBQ5q5pSgYWQk3STYDWqioqLEcjnLE9i3Od64TK43F1ImN7d6c2CrOmv4LOcrwldKvzyp3rh01/BZzlOEppUn/1lTvXEoQjDcb+jtEYTRUZRwsLZmm2223ZWW1tvYtiW5FrkDeV52zp9bs3dV4VeFTqZJo3jY0RFcrnOVGshsY1FdEiPcqNaxqK5zlRrUVVRCta9wxuC7QqPNVaHr1YtZiS0PaZT6NcEnPzsy/OGw4MCFEV73KqonNhEy5ytaiuT02fprcl33XKat61woTqtIq6JbdsQoyRpG22uTCxXOTqZifc1VR8fe2GiuhwcNV74sjpn50Wy69q7WZK/wDVukxqfRafHbOW1ZkwqKku9q5hz1SRFVsSb5nMg5WHL7l6uL1bLgTfvQyVzrbdN+2Vaq3PZMjT5xJJyvnoM1Be9eJ/GZsPb7Hr5zuXO7CmJSUYuT7DTx2MhgMPLE1U8sVd2V3Zb9ngWNu7ITsJuOf7T17u3VG9KVQLCpEjDp7JWHM1qZnIMRywFXG01my9qZRepTOcrv5kLyrEaoQKVNxaVBZFnIcCIsux6ojXxNldlF3puVcddPhQjTqKos0dxpaM03hNMUZYnBtyhF2vZ2bSu7cbbvM9uVx2RsnO/LTheoqr/B1bnlEP/wD6i0dKqrqTVqJMR9TqJI0yoNmFbBhSj0c10LZTDlVIj9+dpOdObmMRqKWyzXmijR/SGjpGv1EKVSL27ZQlFbPFqx+176t2Bp3NS8ld9cWRjTbHRILUlY0Xaai4Vcw2ORN/ZNbXhQ6Ic3LF/wAP3NmvVm73HZNo3QrZi4raplTiwGObCiTcpDiuYi71RquRcJ8BzbwZLNtK4qrera/bVMqDJGahpLtmpSHFSEiui5RiOauym5ObsIVVJ1I1Ixjaz8+z6nF01pXTeC0rQwWGdPJWcrNqTaypN3tJJ37Nx1JTalKVeny9Vp8XjZWbhNjwX7Kor2ORFauFRFTKKm5UyexMohzZpvqxrJfVQqFvWhRLTk5Shx0gvixoUdkKHARysYxjGOVdrDVVOZuExu3G3WFq7dFyawXJYFSl6eyn0eHEdBiQYT2xXK1zGptKrlavsl5kTrFka0JpPjsOhguluBxcKUlf/JLKnZpOSve1+zYy5u+FXsJvKMs/XisT17XvSblgSEGkWsyPFhxIEJ6RXMhxFTqlc5WqqonWRN5Aw9ddYJ22pjVCnWrQUtWBGVOhYseL0c+Ejtlz0cnUYRf83PeVEyOvhv8AP+iMumWi4wU1Jv2m0k20oO0m1wT7e06MjQoUxCdAjQ2xIcRFa9jkyjmruVFRedCmH0ip8G58Sp2tITlU0se50Weoksx0aZtfK5dMSLEy6LJc6vlW5dC3ugorcwktGzLokbztinXPTUVJeoQUita5N7V67V76LlPATiZLE01dHpqNaGIpxrUneMkmnxT2o8FFrNJuSkylfoFSlajTahBZMSk3KxWxYMeE5Mtex7VVHNVFyioSBRlw2xVODzPVbUvTqAsxYsZ0aqXVaaRGsbJ8749Spm0qNhvwjnxpbKMi4c9mzFV3GykhwvOCrUJKXqEDhI6Zw4UzCZGY2YumRgRWtciKiPhRIjXw3YXe1zUci5RURUVDJcW+Cqumx4LH5S2lX55U71w6bHgsflLaVfnlTvXAHo1n0cXVuDSITbhSlrS47oyr0Lx3G5REx7Nuzzc+8zrHpA7Veg02itr6Uv7nzCR+MWV4/b6hW4xttxz5zlTypwsOCz+UtpV+eVO9cY6bDgsIu7hK6V/nlTvXFbpRd7rfvOLiej+jsW68q1O/XKKntauo7tz2W8LG7Vi06fXrQjWhVXufLTMn0JEczqXKmzjaTnwvXTn8JRsDggTLJGYo8xqjUotLdtxJeSSXVsKHGVMNiObxiteqdfCNVeyhvnTYcFr8pXSv88qd64wvCv4LfMnCW0rT/wCsqd64xOjCo/3Iq0n0Z0XpeUJ4ulmcVlTu1+3g7NXXmeWNwdqHUdLKdpxWatEjxqW58SVqMGAkN0OIrnOzsKrk2eqwrc78c6LjENanBgSmXDT61el/VC54NIVHSUpHY5kOE5qorfZPfuTCLspspuTrbjY04WHBazv4Sule7/pjTvXGemw4LWc9MrpX+eVO9cYdCm2nbd/sVPoloeVSFXqVeCSW12tHcmr2lbsvctZEwiInWMlVdNjwWfyltKvzyp3rh02PBY/KW0q/PKneuLj0haoNUsbVLTLU+HNxtNtRrYuyFT3MZNvodWl59su56KrEiLBe7YVUa7GcZwuOY2sAAAAAAAAAAAAAAAAAAAAAAAAAAAAAAAAAAAAAAAAAAAAAAAAAAAAAAAAAAGF5lMmF5lAOb9Hv8tazN7F8Z/s4J0az2DfgQ5x0h3XDrU3sXoxf7OEdHQ/4tvxSuHsnN0V/HXm/Vn39RQeonutNMPkKtebQvz6ig9RPdaaYfIVa82gluXmvUaT93D54fci47P8Aa/L/AB4vnHE0Qtn+1+X+PF844miw6QAAAAAAAAAAAAAAAAAAAAAAAAAAAAAAAAAKq4NP4Oqv84F9/tVVC1SquDT+Dqr/ADgX3+1VUALVAAAAAAAAAMGQAAAAeWdkpSpSceQn5SFMys1CdBjwI0NHw4sNyKjmOau5zVRVRUXcqKUi6JcHBkm0R/RlZ0devs1V8edszsIvO6PTE7O98snPtQd8G+D5c1HIrXIioqYVF64B55OblalKQZ+RmYMzLTMNsWDGhPR8OLDcmWua5NzmqioqKm5UUrPX25Lqptq8nrKt+pVGqVxVlmxZaUfEZLQ13Oe96IrWrhcJlU589Yh6nTK7wdose4LJo83WNNYsR0xVbbkoKxZq31cuYk3TYbd8SWyquiSbUy3e+AnPCdbFvXDQLwochdFs1aTqtJqkBk1JTsrESLBjwnJlr2OTcqKhGUcycb2NHSODlj8LPDRm4Z1a63pPfbxtsOadO7W1C4P+oEnIxaRUK3Qa9AhJPxZCSiRmy8XmVy7KLjZcv/aaqrjPN05VaZCrNLmqVMue2FOQXwHuaqbSNc1UVUyipnC9g9qtaq70TIRN+SFOlGlHKtxzdB6Ao6Cw8sHRk5Um20ntyp70nvab27Tn1OBjp3vzcNxd77/A9SWdpbpdRdKKLMUSiTk7MwZiYWZc6bexzkcrUbu2WtTGGp1jdPCEQzGjTi8yjZk8D0c0Xo2ssRhKKjNX2rft3nzGysJ6N51apz3wX7cuCiVO+n1uh1GnsmpmGsB03KxISRUR0XKsV6JtJvTm7KHQ/N4TCMa3Oy1N/OZdNOUZcL/2WY7Q9PHY3D42UmnRzWXY8ys7lAcFy3a/Q569olaoc/TmzU8x0BZuVfB41EWJlW7SJtJvTenZQgXSV1aV69XBdcWx67XKZXIT+Ii0yVWPhXqxcOxubhzVTeqLjfv6/TiNREwjcIZ2UVd7UUrVCMYxiv8Atdzjx6I0aeCw+EpVZRdGTlGVk9rbbTT2NbWcnadWBedxXXqPBr1sz1EdcMjHbCfHgu4psSI/LWpFxsvxtJnZzzKapJabx6VQ32vU9BqzUbwZMcVCn3PmfufEYrvZPfDitYmE3JhUTmVVTeh24mEXciekxsoq5wmfgILCx2fXh2nNf+nmDlTgpVG5RzK7jF3Und7Gmk09zRrGm1srZ1k0u33ykvLRJaDmLCl3RHQmRHKrnoxYjnPVMqvOq/8AAk7muagWbQZ66Lqq8tS6TTYKx5ubmX7EOExOuq/DhERN6qqImVVEPDfl+2rpnbM1d15VRsjTpZWMRUY6JFjxnuRsOBBhNRXxY0R6o1kNiK5zlRERVU0a17OujU+tSGpOsFJWnStPipN21Z0VzYjKa9PYTs9sqrI09hctairDl84ZtRMxTaSSSSPeYahDC0YUKatGKSXklZbiNpFuXRr/AFSBd2pdImaLp/KRmTFBtCbYrJiquaqOhz1WYvM3KI6FJLubhr42X4hwrxABeAAAAAAYwDIAAAAAAAKptz3U+ofzf2b+sbjLWKptz3U+ofzf2b+sbjLWAAAAAAAAAAAAAAAAAAAAAAAAAAAAAAAAAAAAAAAAAAAAAAAAAAAAAAAAAABheZTJheZQDm7SXddetydi8YK/+CGdHQv4tvxUOctKN14a4N/6WS6/0sYdGwv4pnxU/QQh7PP1Obor+Ovml9zPv6ig9RPdaaYfIVa82hfn1FB6ie600w+Qq15tDEty816jSfu4fPD7kXHZ/tfl/jxfOOJohbP9r8v8eL5xxNFh0gAAAAAAAAAAAAAAAAAAAAAAAAAAAAAAAAAVVwafwdVf5wL7/aqqFqlVcGn8HVX+cC+/2qqgBaoAAAAAAAAAAAAAAAAABTdZsmvaPVme1A0jpUeoUOoTD5y5LLlsJx8Ry5iT9MRVRsOa53RIGUhzG9eoi9U+5AAQVn3jbV/29KXXaFXg1KlziKsGPDyio5qq17HtciOhxGuRWuY5Ec1yK1yIqKhOlQXjpvc1m3XN6taKQoS1OeckS5LXiRUgyVxtaiJxzHL1MvPtaiI2NubEREZGyiMiQt6sO/Ld1GoDLht2PG2GxXys3KTMJYM3ITUPdFlpmC7qoUZirhzF7KKmWqiqBsoAAMGQAAAADBq2oGott6b0VlXuCNHiRZuM2Tp1Ok4XHTtTm3IuxLS0JN8SI7C7tyNRFc5Wta5yebUfUqnafSUpBbTpqs3BWYjpah0GRVqzdSmETKo3PUw4bEVHRIz1RkNu9y8yLAacaVVeTuGLqrqrUZeuX5OwnQISwNpZCgSjsKslT2uTKNXCcZHciRIzkRXbLEZDYB+dn6bVu4rklNWdY4UvHuKWRzqFQoUTjpG2ob0VF4teaPOOaqpEmcbkVWQkazaWJawAAAAAAAAAAAAAAAAAAABVNue6n1D+b+zf1jcZaxVNue6n1D+b+zf1jcZawAAAAAAAAAAAAAAAAAAAAAAAAAAAAAAAAAAAAAAAAAAAAAAAAAAAAAAAAAAMLzGTC8wBzfpXuvfXFv8A0mlF/pY06MgfxUP4qfoOdNLd1+65t/6QSS/0sOi4H8RD+I39BXD2efqc3RX8f6y+5n6fUUHqJ7rTTD5CrXm0L8+ooPUT3WmmHyFWvNoJbl5r1Gk/dw+eH3IuOz/a/L/Hi+ccTRC2f7X5f48XzjiaLDpAAAAAAAAAAAAAAAAAAAAAAAAAAAAAAAAAAqrg0/g6q/zgX3+1VULVKq4NP4Oqv84F9/tVVAC1QAAAAAAAAAAAAAAAAAAAACrdRtNbih1t+qej01KU69YUJkOdk5pysp1yS0P2MrObKKrHtTKQplqK+Eq4VHw1dDW0gAaVpnqhRdTKTMR5STnKTWaVGSUrdCqDUZPUmaxlYUZqKqKip1TIjVWHEaqOY5zVybqV7qJpnM12pS1+2JUoNAvulQlgydSfDV8vPS+dpZGfhtVFjSzlyqb9uE5duGrV2kd9aZ6sSV9xajbdXpUW3rzt/YbXLemYiPjS23nYjwnoiJMSsTZcsOO1MOwrVRr2vY0CwAAACutUdVnWVFkrUtOiOua+66xy0egwovFpsIuHTc1FwvQ0pDVU24qoqquGMa+I5rF/DULVadplwwdMNNabLV+/p6A2Z6GiucklRpRyq1J6oPbvZCyjtiEipEjOarWYRHxGS+nOmdNsGBOT8xPxq5ctbe2PXLgnGtSaqEZqYamE3QoLEVWw4DMMht3IiqrnOA8WmemEa05ibvC8q0lyX3WobYdUrKwuLhwoSLtNk5OEqr0PKMVepYiq5y9XEc96q4sIAAAAAAAAAAAAAAAAAAAAHmmmzSy0aHIRYcKZdDckF8aGr2NfjqVc1FarkRcZRHIqp105z0mt35f9r6aW3Gum7qistJw3tgwocOE6NMTUd64hy8CCxFfGjPXc2GxFc5eZAD+duk/DW4Q15cMSc0idoxQKZqDU4NHtK5ZqJMzEamyEtR5yqR52dhQeperYkKfXikdGVNqGzqn8aiN/pscoUeTmNMtY63wstSNFpa35W+KZK0ieqMjHdNVK3pSCqbEaqQmZYrYqNgcbEgK5sBIEJH7TWvjJ1NJTcrUZSBPSMzBmZWZhtjQY8F6PhxYbky1zXJuc1UVFRU3KigHpAAAAAAAAAAAAAAAAAAAAAAAAAAAAAAAAAAAAAAAAAAAAAAAAAAAAAAAAAMLzGTC8wBzhpju1E1zb/wDPJBf6WKdFS38RC+I39Bztppu1L10b/wDNqa7+mG46Jlf8XhfEb+ghD2efqc3RX8f/ANpfcz9fqKD1E91pph8hVrzaF+fUUHqJ7rTTD5CrXm0MS3LzXqNJ+7h88PuRcdn+1+X+PF844miFs/2vy/x4vnHE0WHSAAAAAAAAAAAAAAAAAAAAAAAAAAAAAAAAABVXBp/B1V/nAvv9qqoWqVVwafwdVf5wL7/aqqAFqgAAAAAAAAAAAAAAAAAAAAAAAGhalaUyF+vp9wUypxrevGgq99DuGUho6PKK7G3BiMXCR5aJstSJAeuy5ERUVr2se3fQAV3p7qbM1uqTFgX7TYFBvylweOmqcyIrpaoS6LspPSER2FjS7lVEVF6uE5diIiLsq7x3rqJXqxcEfSvSB8rMXRDa1axV48PjZG2YD0y2JHRFRI005q5hSqKirufEVkPCuntSNL7a1OpspKVp89JT9LmUnKVWKZMdDVCmTCJjjJeMiLsqrctc1UVj2qrXtc1VQ9thWDa+mlty9qWjT+hpKC58WI+JEdFjzUd67USYjxXqr40Z7sufEequcq5VQDyacaaW3phRo9OoaTM1OVCYWdq1WnonGz1VnHIiOmJmLhNt6oiIiIiNY1GsY1rWtam4AAAAAAAAAAAAAAAAAAAAAAq+/tV6nKXG3THSujQbjvaNDbFmWxnObTqDLvTqZqoRW72oqb4cBn32L/JRrNqKwCY1F1SpFhJJUiDJTFcumt7bKJbsgrVm6g9uNp2/qYMBmUWJHiKkNiLvVVVrXQtg6X177us1L1eqspXrz2YjZGBLtd9zLdgP3OgSLH71ercJEmXokWLhU+9sxCbK6c6TUewpmfuOdnpi4LwrjYf3auOea3omc2Mq2ExqdTAlmK53FwGYY3Kqu09XPdvoB8q1HIrXIioqYVF65S85Z14aI1OLcek1PjVmxoznx6tY8FE42RVy7T5mj5VEbvVznyS4Y9VVYSw35ZEuoAEFaF52vf8Ab0tdNm1qBVKXN7SQ48HKYe1Va+G9rkR0OI1yK1zHojmuRUciKioTpVF2aXVm3bjn9U9FuhJC5Z5WxazRZh6wqZciNajU4/ZReIm0aiNZNNRVwjWxGxGIiN2PTTVChamUyZiyMpO0qsUqKktWqFUoaQp+lTKpniozEVUwqb2RGK6HEb1THObvAN0AAAAAAAAAAAAAAAAAAAAAAAAAAAAAAAAAAAAAAAAAAAAAAAAAAAAAAMLzGTC8wBzlpvu1S13T/wCY0tf7N50PK/4tB/m2/oOedOt2rGu7f/jKQv8ATDiHQsp/isH+bT9BCHs8/U5uiv4//tP7mfv9RQeonutNMPkKtebQvz6ig9RPdaaYfIVa82hiW5ea9RpP3cPnh9yLjs/2vy/x4vnHE0Qtn+1+X+PF844miw6QAAAAAAAAAAAAAAAAAAAAAAMAGQAAADABkAwAZKq4NP4Oqv8AOBff7VVQtUqrg0/g6q/zgX3+1VUALVAAAAAAAAAAAAAMAGQAAAAAAAAAAAAAAAYVyNTLlRE758cfA/8AfQ/+8gIuUY72foDDXNcm01yKnZRQCV7mQfKPYq7KPaqp1kU+gE77gDBkAAAAAAAA8k9PSdMkpipVGbgykpKQnx48ePESHDgw2ornPe52Ea1ERVVV3IiFMsqN08I98SWpiVK2tKVXZfUWufK1O62ddsuqYfKSDuvG6mNGT+L4uGqRIgHtr1/XRqvUZ2xdC6vDk5OSjulK/e3FNjS9Pe1dmJK09rkVk1OJvRzlzBgL7PbenEm/2JYNtab2+y3bYlIsOCsV8zMzEeK6NNT0y/fEmZiM9VfGjPVMue5VVdycyIiSdAoFEtaiyVt23SZSl0qmwGy0nJSkFsKDAhNTDWMY1ERqInWQkgAAAAAAAV5qZpXyxmZW7bTr0S1r5pENYdMr0vCSIjoW1tLKTcHKJNSrneyhOVFRV2obob8PSwwAVzp/qs6tVl+nl/0yFbd/SUBY8amcar5eoS7VRFnKfGVE6Il1VUymEiQlVGxGtVWq6xjUtQtNbX1MpcCn3FLzEOZp8wk5S6nJReInqXNoio2Yloyb4cREVUXna5qq17XNc5q6fbGpV1WdcsppnrbDgMnZ6I2XoF2S8JIVOuB38mDEbnEpPYTfBVdiJvdBVeqhwwLdAAAAAABgw6JDZ7OI1vwrgGG0t59A/Pj4H/vof/eQ+0VF3oqKApKW5mQDAMmQAAAAAAAAAAAAAAAAAAAAAAAAAAAAAAAAAAADC8xkwvMAc56fJjWDXhP9NR3f2cY6Gk1/5rB/m2/oOebB3aza8t79Ed/ZxzoWR/xSB/Nt/QQh7PP1Obov+O/mn9zP3+ooPUT3WmmHyFWvNoX59RQeonutNMPkKtebQxLcvNeo0n7uHzw+5Fx2f7X5f48XzjiaIWz/AGvy/wAeL5xxNFh0gAAAAAAAAAAAAAAAAAAAYUAxnvGFRDmS7r31urWt1Y06sC8pWnQpeG2LAhzUtBWGxvFsc5NrinuVVVy8+Te9OKFwh5G6YUxqHe1IqNFZDicbLy0NiPV6p1CpiAzci/539JRCspytFPfa/Z6nk8H0rpY/Eyw9DD1GozcHK0cqadm/avZeRcPeRTC7lzkrqva/6S2xVo1ErF3wmTku7YiQ4UvGjIx3XarmMVqKnXTOU65Da3alT1K0mbe+nlwQ2ujx4CQJuExkVrmK/Dkw9qp1sLlMoqdZScqsYpu97cDo4npBo7D0ataNVTdJOUlFptJb9l/ptLeXcF6/WUruj6oUWg6Z0C7NQrihS0SoSMCI+K9mHxojmIrtmGxMqu/OGt3Hus3WPTm/p91Mta5YU3NMYr1gPhRIL1ROdWtiNarsdfGcGVUi7K+19naXUtNYCq4Q62KnNJqLaUrNXWy9zd1+H/YYXcmcZNKvHWTTiwp1lMuq5oMpNvTaSCyE+M9GrzK5sNrlbnrZxknbZuy3bxprazbVVgz8o9cJEhO5nJztci70Xm3KiLvJKavlT2l9LSODrV3hqdWLqLfFNNrzV7ml8IzR6V130euLTd866Qn56A2YpFQY9zHyFSgOSLKzDXN6puzFYzOzhVbtJnecff8AJb6Eaqyca59b9fJ245muyk7UrcoMnXZqLGfJq+bdGqsy1IjnIjo03tIr24VXsmFXO3le4NT7+p+mloTl0T0LjVg4ZBgo7CxYrtzW563ZVewilH0Gq8LDUOl8sKFWqVR6fNIsSUlIkGGixWdZW7cN7sL1lc5M8/MVTrRjLKk2/A5Wk+ktDRmJWDjTnVqtZnGCTajuu7tJX3Lbc6dTON68xnn35yUnolrVW7uq9RsS/wCnskrjpSOc5YabDYzWqjXZTK4ciqi7lwqLlETBYdo6lWbfcWoQbWqyzkSlvSHNtWXiQ+LcuUROramfYrzZ5iUakZpNPebOjdP4DSdGFWjNJzbSjLZK8faVntuu02jH9IXsJuUrOpa/6cwbcrlbpdbWbWiKkGKxZWOxFmHbSQ2ZVnM5zVTaTKJzqarovwhpC66NV5i9qvBgVKS4+ffAgSkTYgSTEbvRUau1hVXdlXr2OYddC6V95RPpRomOKp4RV4uU02mmmrJ2d3fj6MvfmRN4zjcVhF4SOjMGFLxot5w0bNIqw0SVjq7COVvVNRmWb0X2SJlN/MbPW9RrMt62Id41Suwko0ZWJDmoLHx2u21w3CQ0cq5+D4TKqQd7NbPE3aWmtG14ylSxEJKKu2pJpLi7PYjZ0yi7/AZzhd5q1W1Ks6h2lAvep1dYNFmmwnQpnoeK7aSJ7DqGtV6ZynOm7rlY618ImUtK36byHm4EzUqzBZNQIkeBEwyVei7MVEVqIqqqYRrlynXapidaFNNyZRpHpDo3RdCWIxFWNopSsmm2nsTS8ex7i9t6mVTO9TWNP72ol+W5L1uhVJZ2F/FRoqwXwvvrUTa6l7Wrzr1kx2DZyyMlJXR08PiKeKpRr0WnGSumtqaZ9AAGwAAAAAAAAAAAAV/r1n+CK6P+oPOZdO9LNDbis+QrF3al/cuqx0fx8p91JSFsYe5G9S9iuTLURd69c6a16/BFdH/UHoVVodoNpbeWmlIuO4badNT82kbjYiTsxDR2zFc1OpY9GpuROZDSrQcqyVk9nb5nyzpJo2ppTpNTo06UKlqLdptqK/fa6snt+m43+Vr2n2gmmVMhQqvNVGlucv3PWGrI8abdEcr8MViNa5N6rncmMb+bP6WXr1a14XMloRqNW6JWHw1iQpaqyfEuiIjdpcYc7C4yu/GU5smgcImoQrJbZFp0OQptOkWxOKg1Odk2zn3PYxWNRWLFRcKiYVV5+pTenOaRaUan9MpQGyt8R7q2IL2xajEiNVjoqwYmWQ9nqUYmURETKZzvEq7hNQjuTS5kMd0nxei9I0tG4ZRUISpU3G2xZlts21J+Dy2VtptulM3LyHCN1EnpyO2FBgwY0SLEcuEaxIjFVV7yIht8XhT2RDV07Dt654tGbG4hau2n/wDM85xnaVyLz9bZ2u8V9ZTJeJrfqmyckJiegOkJtsWXl98WMxXNRWMRVRNpUyib03lccRTqbas7VbJ1UbBp7IkRIls12GzjVwqYTiFWJDiquM7WwidnGN0FVnThdcZepyKen9I6HwlsLbK51nK9nLZPZZNq64pbTry7NWrLs+1ZW7ajUuNkqgxrpFsBiviTWW7SIxu7rdnCJ11QjLJ10ta8a/yVi0ysUOruZxsKTq0pxESMzCqqtwrkXdv3qmU3pk521Cj3DULI0vu2ek4VBlYD4jXRZaSTiJReNarIqQcI3Dmt20TmXC43KTlPlYl1a12uyJqtHvCoU/YmWzNPoku2XhQUcrnMiRIcZNnmXPUuxtInPuJrESlKyWzZ/f1v/R1v+s9JVsfGnRgst6SSaSzKaTk9slK+3YlFrZtOuAYamGoneMm6fVwa9fF82ppxb0xdd51iDTabLuZDWI9HOfFivcjYcGFDaivixXuVGshsRXOcqI1FVcEZqRqbR9OZKVbEkZys12rRHQKLQKc1r56qR2plWw2qqI1jUwr4r1bDht6p7kTGdesrTGuViuSep+tUSRqd2SyOdSqZKudEpltNciorJXaRFizCtVWxJt7Ue7e1iQmKrFAipOxrq1sqsrdmrcjMUq0JZ7ZikWJGVqrMORyOhzVX2VVsSImEcyURVhQ1wsRYkRE4u6jAAMgAAAAAAAAAwZABEXPbFAvOgTtr3VR5aqUmpQlgzUpMs2ocRvPvTrKioioqb0VEVFRURSXABR8Cv3NwcmdA6i16euHTZH7MldU2qxZ632KvUwao7niyyZw2d9k1ERI/XjuumXmIEzLw5qWjQ4sGMxIkOIxyOa9qplHIqblRU35MxoEKYhPgTEJkSHFarHse1HNc1UwqKi86KnWKXm7buvg/RUqWmFCmrg07c9X1C0ZVFfOURF3uj0lq/wAZBTndI9besDC/eXgXcCHte6LfvWgyV02pWZaqUqow+Nl5qXftMemcKnZRyKitc1cK1yKioioqEwAfCpz7ysdVtB7Y1VqErWK3UqpKxZKXdBY2ViQ2tVuVdldpjlzleyhZ3Xxg+Yu6E/fztUxKKmrSV0aGkMBh9JYeWHxUFKL3p+BxLolodbOps/csrWKlU5ZlFmGw4KysSG1XIroiLt7THZXqE5sdcsWi8JSbt9Ymn1t6ZVKszFBf9z5dkCbdFiRYMHLFiv2IOWr1LdyNVN670xv+uCV/li/1xn/nbP78Y/Hg0S8B+q2oc1EYivhTL2IqpzIseJn9Cf0HNopwjBQ2OV7vyPjOgKNfBYbR8NGz6qdeVRTlZSbjFtrenu7CwqfrjOzOqVN0ynbQ6EjT0myZix3TuXQHrBWIsNWbG9UVNnO0nZx1j1zOszoGssLSZbdRzYsHjfuh0XhU+9K/HF7Hex7LvlR6i3DT9PuFLIXZcSRIFMWUavHNhufhqwnQ1XCJlUR3PjKkfQbvpeoHCmlbhoHGrJR4EWDLxXw1YsVGyz0VyIu9Eyi4zv3dbmLP1Ek8l9ua30OxPpbjaFV4N106qxSha0bun5W3Pjv8Swrn4USSFwT9FsqwKjc8GluVs5NQHuaxjkVUXGyx/UpheqXZTcvW3ljaYam0PVO3Ur9GbEgvhxFgzMtFxtwIiIiq1cblTCoqL10XrLlE5Ds5LctKuXFQNQ7zu+1ZqXmHbLaRMPhsmHIq5RyNY5VVcoqOXDcLzodB8GKj2nK2/VK1aEK5WylSmUTjK0sLMVzEXLoXF87d6oqrzqneUlh6s6jvJ8dnD/nibHRTpHpbSukIrE1YuMs+aGxShZ2Vklm8830LuABun1UAAAAAAAAAAAAAAAAAAAAAAAAAAAAAAAAA5zsT8NuvSf6KhL/ZzB0HJf4nA/mm/oOfbI6nXHXhvZlqEv8AZzB0FI/4lL/zTf0EIez9X6nN0V/HfzT+5no+ooPUT3WmmHyFWvNoX59RQeonutNMPkKtebQxLcvNeo0n7uHzw+5Fx2f7X5f48XzjiaIWz/a/L/Hi+ccTRYdIAAAAAAAAAAAAAAAAAAGF5jJgA4/ue0qxevCgr9Cod2TduzT4DIiTsqj1fstgwssXYexcL8YunTvTK5tNY9Trd06qVS5ZR8oqcTNNi4hbK5VybUV+/CKm5EXvk1JaRW/I6mzWqcGfqC1OchcU+A57OIRNhrdzdnazhqfyjd48CFMwny8diPhxGqxzVTKORUwqKnYNalQVO7e+7a2s8JoLomsDVxGLxC/yyqTlFqUstpbrxTSfjdM45h12crllXbF0v0zp1MtiNx61KoVKffHjRVa3ayiOdtI/CoqIm01HLzn5q97uCMiK5VRKvhMrzJxxc8Lgs2FBmJuHAq9xQqVOvWJFpUOoK2VcvWy1G7TsbsbTlwSELg7WrC09j6bOrdZfTY04k42IsWFx0NyKi7LV4vZ2cpnCtVd67ypYepK932Nf82HlYdD9NTlUnWUbypThsaSTburJRVo83cqu9bUjXLYemk1QbrpMhX6bIQIklIT80yG6aVzGbKw2u3OftNRMKmFzjO7CxdEua4qLq5QX6xafwUrkw6HKylTloz4MXaVdhrnJCiLBiom3hUwi4Xr4RC+7g0Qsy5bUpNqVFs0qUSCyDJTzIiMmoWyiJtI9EwqrhMorcZ34zg8Vr6AWtQbigXVVKzXbjqMoidCRaxO9EcRjmVqbKb0zuznC70wu8y6E8ya8PLZ4cTerdD9I/rKdfD2i/wDHmbalF5Uk24Ne0t0Wmvoc7W/SLhvDVm8mS0jaNQqSTcbMK5WxYiJDSK5PvTW5TqURqb03JjGN5bHBltKoWtVrm/8AzPa9QlJhYbnSlFnnTCS0VHO3ORyZYmFVEyqru38xtWoXBt091CrDq9NpPU6fjY6IiyUVrOOVEwiua5rkzhOdETPXybZp3prbOmVGWjWzKva2I7jI8eK/aixn4xtOXdzJzIiIidZN6kqVBxl+7svtvx8C/QHRHGaO0mq2JhFqEpyU1J3ebcstlt43bXArfhe0yentMYc1KMc+HJVCDGmEamcQ9l7Npe8jnNNw0dvW2KvplSJuTqkqjKfIQoM0x0VqLAexiI5Hp/J3tVcrzpvN6n6fJVOSi06flYcxLR2qyJCiNRzXNVMKiovOhStW4H+mFQn3zknNVmnQXrnoaXmWuhp3k4xjnY8JOUJxqOpBXurW3Hbx+jdKYLS8tK6NjGopwUZRk3Fpptpp2ezbtRo+nk1AvbhSVu6bcXjKXKwoyvjs9g9EhJCRUXro5yZTsomT18FmpyFNrOoLJ+chS7mx2xXJEcjcMR0XKrnrJlMr1sl72JptaOnFMdTLWpaS6RcLHiucr4sZyddzl3r18JuRMrhEyaFcfBW03uK5I9xxn1OXWairHjysvHa2C96rlyrlquTK5zsuTn3YKo0JwyyVm7tv6nn6fRTS2j3h8bRUZ1lUqTlG7Ub1ElZOz2Ky7NpUOi8jSq5aeq75yUlpyAkJ0zBSLDa9u2jY7mORHJuVFwqLzoe/R2kUTperwrS0+U+6fET8BJrim8esPiWrsbWM7Od+M4LxsbQ60LBg12Tpb52YlbgRGzECYiNVkNmHJsM2WoqJh6pvVV5t5oVa4PVnaaWpdlz0GeqkWPEos5ASDMRWPhsY5mVwiMR38lOdVIqhOnGLdtidzn0+imkdGYWjXqU4ydOnVUtu7M201sd7cNhpOj1o6UVfQ+uVW4JSnRqnBSYWZmI+zx0sqJ962HL1TUVERUxjKqqb+Y1inx6jH4LNUhR+MdLy9dY2BnejW5Yqone2ld4VU2jRXg+2Rqdp7IV+sRqjKTjZmPCiPlIyNSK1sTqdpHtdzc2UwdEv0ts19iO04SlNZRFhcXxTXqjs52tva59ra6rPZI0qEqlNOyX7bed+JraG6L4/Suj6dRU4Ul1Eoqz2zc7NOSsrW+u0onVKs0t/BatuWbPQHRZiFIw4TEciuc5iJtoid7C57GCB1sptOTRDT2rdAy/RjoMrAdM8W3jFhJAVdhX4zs534zjJZUDge6ZwJaZgPqNcixJhqNhxnzEPbgYci5ZiGjcrjHVIu5Vxhd5u9y6LWndVi06walEnVlKSyE2VmGRGtjsVjdlHZ2dlVVMovU438xJ0Kk1LNbclyN+t0T0zpGjX/UwhFujCnFKV9sXe7dla+3yNhsij0Wi25JytDpsnJQHwmRXQ5WEyGxXuam0qo1ETK9dedTYVXdk1DTTTajaXW+63aHMzcxAfHdMOfNPa56uciIu9rWpjDU6xt2Mqv+w3o7Ern1HRsKlLCU4VYKMkldJ3S8nZH0ZAMm8AAAAAAAAAADVNU75haY6Z3dqTHpz6hCtOg1CuPk2RUhumGysu+MsNHqi7KuRmM4XGc4UAnqlTKfV5GNTqpJQZuVmG7EWDHho9kRvYc1UVFTvKfNJo9LoUhDplGp0tIycHPFwJeE2HDZlcrhrURE3qqlb8o+FN1tG9K/6yqj+4hyj4U3X0b0r/AKyqj+4jFttyvqoZ+sss1rX7bcLlhVu36Hckn0BX6TKVGWVyO4qZgtis2k5l2XIqZPBL6fWNLR5KalrRpEKLTv8AE3tkYSLL78/e12cs3792N5pnKLhTpz6OaV/1lVH9xDlJwps/gb0r/rKqP7iM2W8qnhMPUnnnBOXFpX2btpv0laltU2qTFckKDT5aozeUmJqFLsZFjZVFXbeiZdvRF3r1jwzunFhVGouq89ZtFmJ1ztt0xEkITojndlXK3Kr38mn8o+FLzfwN6Vf1lVH9xDlFwpsfgb0r/rKqP7iMbBLB4eccsoJq97WVr8SyZ2mU+pSb6fUJCBMysRuy+DFhtexzewqKmFQ8VCs+1bY43k5btOpnHY4zoSVZB28c2dlEz4TQ1uPhTdxvSv8ArKqP7iHKPhS9xvSv+sqo/uIzbtJPD0nNVHFXW52V15FrlaX9q0+lV9NM9OqZDuS/pmXbMJILEVspSpd6qjZyoxWovEwdztliIsWKrVbDauHOZp+oF28LKRtaajyWl9nUxGvhJMT1uXLM3BU5WWV7UjRpaQmKdKQ5iKyGr3NasVVVyJiHFXqF3zRejabU2yZep6Xz8KqU6tOWemay+OsxN1SaXdEjzUZ3Vvj5arXI/CsVuxssRiMQXnxpppNL2RNz11XBXJi6L1rTUbVbgnIaMe+Gi5bLS0JFVstKsX2MFi8/VPdEernrYQMAHwu/djJVdE1tiTGqc5pddFsNo0zDRzpOZ6MWMybRN7cIrG7O03KpvXeipzlq83wlEcKaz4T7bl9SqVMdB1i240N7I7E6p7FeiI3wOVHJ/wBrslNZyhHPHs3+KPN9JsTjcBg/1+Dl7p5pRsv3QW9Xe5pbVbgbRM6zvjarQNL7bt37qvhsSJUZ3ovi2Sac7up2HbSoit3ZTe5ELOVyNRFdhM9lcYKZ4MtlwqVZnLadjdF1i53LOzMy/e5GqvUtyvwqq9lV7yG164fcBdL65yn+6H3LSHD6I6A2OiMcY3Gxt9T7LGc9bIpzlkzz8/JFWiMfjZaKnpTGNNyTnGLslGNrxTaXDa277zeePg9eMz/vIfSO2kyi53H8/U6XjO/+EXH/APRO0dIPuN/Brb/J5J37m9Bt6G6N2eP2Ott7PU5+DcYp1esbWznf/Y1ujnSqWnq8qDhGOVX/AGzzveltWVW87le6gcIa77FrdUkl0dqc3TKbE2Eqix4sOBEbhMP2uIVqJlceyXefvp1wgLtvuu06nzOkVSplMqCOclVdGiPgMajVVHZ4lrVRVTHsk5zYeEg1v8DFyOwmeKhb8f6ZhVl5onShUh2P/R5Pf/8AyIVTnOFR/u2JXtZcd244WlcfpbRWlKy/VSlTp0nVy5YK9pNZL5W0rdu86cSLDXekRv8ASfXGt2draTHZ6xzDPaYWzb3B6nr1gQo8SuVKhQuipuJMRHq9r1hu2Uaq7LcYaiYRNyIea5XovA9peHImUgIiZ6/RHMTeIcb3j2X3/wDw6sul9ahGX6iglJUeusp3ur2Sbyqz4s6nWIxE2leiJ2chrmuTLHI74FOOr9uadnnad2JPy9ZnKCtFlZubp9LYro86uyvU7KKm0ibCbs7sqvObZoTHrtE1SnKPQLUuuk2ZUpdz4crV5SKxsrGaiLlHOVyJnDkTqsrlM5VEMxrqUrJeBHC9N44rGxwsKLyuUYtpttOUU72t7KvZu68jp0AGwe8KkunTG47Suec1Q0UiQYFVnncfX7XmIvFU24lTGYqLhUlZ7CYbMNTZfubGa5Nl8Pa9OtT7X1Ppk1OW/FmZedpkwslVqVPweIn6VNIiKsCZgqqqx2FRUVFVr2qjmOc1Ucu4FF8IaBSbcm6detkzUxJauTDHSVuy9Ll2zExXmt6p0lNy6uY2NJpnafFiOYkvnbbEhqvVAXoYVEVMLzKVNCuThUrBYsXRvS3bVqK7a1HqDFzjflqUR6NXvI5yJ+MvOfpyj4U/cb0q/rKqP7iAN9otp21bkSZi0Gg0+nPnXI6ZWVlmQljKmcK5Wom0u9efsqKRads0Gamp2i0CnyExOrtTMaXlmQ3xlyq5e5qIrt6qu/smgpcfCmX/ANTelf8AWVUf3EEuPhTc/wDA3pV/WVUf3EYska8cNRjlywSte2xbL77cLm/V60rZuiFDgXFQKfU2QVV0Ns3LMjIxV51RHouPAfhK2TaEjUJWqyltUyBOSULiJeOyUhtiQYeFTYY5Ey1uFXci43qaRyj4U3P/AAN6Vf1lVH9xDlHwputo5pV/WVUf3ELLgYlg8PKfWygnLjZX2eJu9csezrlmIc1cFrUmpRobdlkSblIcVzU7CK5qqiEtKyktJS8OUk4DIECE1GsZDajWtanMiIm5E7xWfKPhTL/6nNK/6y6j+4hyi4U3ca0q/rLqP7iM7E7k4YelTm6kIpSe9pK782WsCla7qlrvZDKVVr80jsOXok7XaPQ5iPSL8nJ2bguqNQl5GHEZAi0iAyIjYkyxzkWKzqUdhVXCLdQLgAAAAAAAAAAAAAAAAAAAAAAAAAAAAAAAADnSzkxr3rm3syVDd/ZxzoKnf4hLfzbf0HP1p7uEJrc3s0yiO/s4p0BTf8ny38239BXDd9X6nN0V7mXzT+5np+ooPUT3WmmHyFWvNoX59RQeonutNMPkKtebQS3LzXqNJ+7h88PuRcdn+1+X+PF844miFs/2vy/x4vnHE0WHSAAAAAAAAAAAAAAAAAAAAAMGQAAAAAAAAAAAAAAAAAYVEVMKmUMgAwjWtTDWoid5DIACVtwAAAAAAAAAAAAAAAAAAKp4WPuWNZPm/uH9XRy1iqeFj7ljWT5v7h/V0cAtYAAAAAAAAAAAAqS6tL6/atzz2qeikSBLVmeVI1dtqYi8VTLjVOd6rhUlZ3ZTDZlqKj8NbGa9qNdDtsAGm6b6oWzqfTJqconRUnP0uOsnV6PUIXET9KmkTKwZiFldlcb2uRVY9qo9jnNVHLuRXeoulsW45+FfNi1hlr35ToPEydZZA42FNQc56DnoKKnRMsq79lVR8NVV0NzHZVWnGqcS552LZV70ZtsX3TYKRp6ixI3Gw5iDnZ6MkYyonRMq5d22iI5iqjYjWO3KBYPfRec1TU6yHaiWXULRbU+gFnkhpx6wuN2dl7Xex2m5zs4505zbFXC7+Yxu346xhxUk09zNbFYaljaMsPWV4yTTW66e9cTXrBtVbItCl2qs90YtNl0grH4vi+Mxnfs5XHwZU2HYRyYciKnXz1xz713Gd/ZMpKKsiVChTw1KNCkrRikkuCWxHzxED/3MP/uofaNa1MNaiJ2EMgFqjGO5GqalWYuoFl1G0G1DoBagxjUmFhcYjNl6Ozs7Tc82OdOc1WsaLPq+jsppRyjSC6UhwWdHrKbSLxbkdni9tMZxj2RaXP6QqZXeQdOMm21vVvocvF6GwWNqTrV4XlKHVva1eLd7bHx7d5qLtP6dNacw9OapMumJVKeyQix2N2HO2WI3bRMrsrlEVE3+EqmNwXrhm7TSy5zVubjUiWesSRlfuY1rILldlVfh+1ETCuwm0iIq5TsL0IvZQLu34IypQnvXh9DWxvRnRmkMv6infLHLscl+3g7NXXncqO5dAoFapVspTbljUuv2vLwpeVqsGXRyORqInVQ1XemUVUTa3ZVFyikhpxo0lm3FULzuK5Y1w3FUm8W+cfLpAayHu6lsNqqiexRM55kRExvzZqL1zCElSgpZrbSVPo5oyliY4qNP90bW2u10rJ2vZtLZe1z7AKgubUK79QK5M6faFzMtD6BjrK3DeMaEkeSo7k9nLyrF6mbnk5lbvhQVXMVVciQXzO6Sd+6sxqZcTdMtOKVDuS/JqAkx0I56tkqPLu3Nm6jGai8TC3LsQ0zFjK1UY3COez16a6TSViTlQuitViYue864jUq1wzrEbFisRctl5eGiq2WlWL7CAxcZy5yvernumbC09tjTiiuo9ty0XamIrpqfnpqKsacqM072czMxndVFiuxvcvMiI1ERqI1NoAAAAAAAAAAAAAKq4S34OqR84FiftVSy1SquEt+DqkfOBYn7VUstUAAAAAAAAAAAAAAAAAAAAAAAAAAAAAAAAAA51trqeEZrU3s0iir/AGUQv+m76fLfzTf0FAW9u4SmszezQ6O7+ycX/S99NlV/0Tf0FVPd9f8Ac5ui/cy+af3M9X1FB6ie600w+Qq15tC/PqKD1E91pph8hVrzaGZbl5r1Gk/dw+eH3IuOz/a/L/Hi+ccTRC2f7X5f48XzjiaLDpAAAAAAAAAAAAAAAAAAAAAAAAAAAAAAAAAAAAAAAAAAAAAAAAAAAAAAAAAAAAAAAAqnhY+5Y1k+b+4f1dHLWKp4WPuWNZPm/uH9XRwC1gAAAAAAAAAAAAAADTNSdLra1QpcrJ1p03I1Clx+jKPWKdF4ifpU0iYSNLxcLsrjc5qorHtVWPa5qq1dzABUtr6oV62LmkdK9amQZWtz6rCodxS8FYVMuPZTOw3eqSs7s73SznLtYc6C57UckO2SGum1LbvmgTdr3dRpaqUqeZsR5aO3LVwuWuRU3te1URzXtVHNciOaqKiKVbJ3ReGgs39ydU6xHr2n8SI2FTLxmFzNUja3Nl6uqeyh5wjZ5ERN6JHRrvvsQC6zJ+UKLDjQ2xYT2vY9Ec1zVyiovMqL10P1AAAAAAABgyAAeabmpaQlo09OzMKXlpeG6LGjRXoxkNjUy5znLuRERFVVXciIRt23hbNhUCaum763L0ulyaIsWYjKvOq4axrUy573OVGtY1Fc5yo1qKqohV0laV465VFlf1WpkWiWFCeyNS7KjonH1JUXaZM1jCqipnZcyRTLW4RYyvdiHDA/FazcPCVhRZO0p6q21pe5zocxXoDnytRuZiLhYcg7c+Wk135m0xEip/E7LVSMtuW5bdCs6hSVsWvR5SlUqmQWy8nJykJIcKDDTma1qbk/4rlVJNrGsajGtRrWphERMIidg+wAAAAAAAAAAAAAAACquEt+DqkfOBYn7VUstUqrhLfg6pHzgWJ+1VLLVAAAAAAAAAAAAAAAAAAAAAAAAAAAAAAAAAAOdKD7pvWFvZt6kL/ZuL+pP+TJb+ab+goGibuFBq0nZtqlr/4FL+o/+S5T+ab+grhufm/U5ui/dz+ef3M9n1FB6ie600w+Qq15tC/PqKD1E91pph8hVrzaCW5ea9RpP3cPnh9yLjs/2vy/x4vnHE0Qtn+1+X+PF844miw6QAAAAAAAAAAAAAAAAAAAAAAAAAAAAAAAAAAAAAAAAAAAAAAAAAAAAAAAAAAAAAAAKp4WPuWNZPm/uH9XRy1iqeFj7ljWT5v7h/V0cAtYAAAAAAAAAAAAAAAAAA881LS89LRZOcl4caXjsdCiwojEcyIxyYVrkXcqKiqiop6AAUbEoVw8G2C6esWk1K4tMmuV01bcu10xP24xVy6LTW73R5REyrpPe+GifeMoiQC3LauWgXlQZG57Vq8rVKTUoKR5SclYiPhxWL10VO/lFTnRUVFwqEsVDdOnV22PcEzqNockDjp2M6ZuG0JiKkGQrjlTqo8B69TKTy4T77/FxcYjJnEVgFvA1WwNR7X1JpMWqW5NRWxZOMspUqfNwlgTtNmmoivl5mC7qoURuU3LuVFRzVc1zXLtQAAAANL1K1Rt/TGlysxU4E5UqrVIyylGodNhJGn6rM4zxUCHlE3JvfEcrYcNuXPc1qKpHag6qRKDV2WBYdLh3Nfs9ASPLUlI3FwJGAqqnRk/GRF6Hl0VFxuWJEVFbDa9c7P1prpXEtOaj3heVdfdV9VWCkKo1yNB4psKFnaSUkoOVSVlWu3pDRVc5U2ojoj+qAIq1NL61clySOqetXQ05cUk50WiUKXirFplto5MZhZROiJxWqqPmnNRUy5sJsNiu27YAAAAAAAAAAAAAAAAAAAAKq4S34OqR84FiftVSy1SquEt+DqkfOBYn7VUstUAAAAAAAAAAAAAAAAAAAAAAAAAAAAAAAAAA5zpCf8AlTapp+Na9PX/AMJf1H30mU/mW/oKCpiY4VWpidm05Ff6MF+0bfSZP+ZZ+ghDc/NnN0Z7FT55erPb9RQeonutNMPkKtebQvz6ig9RPdaaYfIVa82hiW5ea9RpP3cPnh9yLjs/2vy/x4vnHE0Qtn+1+X+PF844miw6QAAAAAAAAAAAAAAAAAAAAAAAAAAAAAAAAAAAAAAAAAAAAAAAAAAAAAAAAABgAGQYMgAqnhY+5Y1k+b+4f1dHLWOJv+VNo+sFN0NmdTNJ7yrEjKU6SnKDdtGgxViSdQotQYkCLFfLuRzFiQ3KjUiNaj2sjRHbSbCAHbIOeeA7R9YU0MkL912vOsV68r8icoZmFPRVSFTpaKxqS0tAgNRsOXbxTWxHMYxuHxXoqLsodDAAAAAAAAAAAAAAAAAAAAAAFbX7pM+rV5upmnlShW5f0rLtl21BYaulapLsVVbJ1GE1U4+DlXbLkVIkJXK6G5Mua/8AfTTViDe01O2rcdDmLXvWisR1Ut+biI9yQ1XZbNS0VERszKvX2MZqJhepe2G9HMSwjS9SdMKPqRT5ZJienaNXKTEdMUSv01zYc9S5hUwr4TlRUc1yIiPhPR0OI3qXtcgBuhUd06m3Nd1zzmmOicODGqMi9YFfumYg8dTbeduzCa3KJNT2FykBF2Ye50ZWpssiRDqNwkb7YzT68p2nWpSZFUZWLst+axN3DB/kskYK5fTlcm6M96uexVVsBXZSMy3LYti37LoMla1qUeXpdJpsPipaVl2bLIbcqq99VVVVyuXKucqqqqqqoBDad6Y2rpjTZmSt6BMR5ypzCztWqs9F4+fqs2qIizEzGVEWI/CIiJuaxqI1jWtajU3AAAAAAAAAAAAAAAAwADIAAAAAKq4S34OqR84FiftVSy1Tg3/lGuFHqPwearbdHqWndOuGxK7UKHW6bPS8xElZuXqVIrErPzErGeqRIbmxYcCE2GqMYqLEevV8WqL1Lwdrz1J1F0et6/tVaDTKJXLjgLU2UynsitbJycVyulYcRYjnOdF4lYbnrhuHOVNluACzQDABkAAAAAAAAAAAAAAAAAAAAAAAAAAAAAHOlP3cK/URPxrOk3f0OQvuiLmjyi/6Fv6ChJLdwtL9T8aypZf6IjS+qF/kaT/mWfoIQ3PzZzdGexP55erJD6ig9RPdaaYfIVa82hfn1FB6ie600w+Qq15tDEty816jSfu4fPD7kXHZ/tfl/jxfOOJohbP9r8v8eL5xxNFh0gAAAAAAAAAAAAAAAAAAAAAAAAAAAAAAAAAAAAAAAAAAAAAAAAAAAAACotYtc53S2uUmhU+zH12PVobnw2w5tYb9pHI1GtYkN6uVVXrEHQuEFqHV65T6XN6C12RgTkxDgxJmI6NsQWuciK92ZdEwiLneqc3OhqfChjViBqlYsa3pWHM1OHlZSDFVEZEjJGZsNcqubuVcfyk+FDerDuDhHzl0SMvfVhUWQob9romYgRGLEYmwqtwiTDv5WE9ivOaanOVSUbuya3K/9ny/W+ksRp3EYRV6kYQnFRUaSlFJpN5pZW1tfa9xc+U3bWEVefea3qJd/IWy6ndzZBJ1adCSIkDjeLR+VRMbWHY5+wpzzqbdlQndQK7I1PU6sQUlGrCpdItOJGdGa5OvHVGNYruu5u0qoq4yiIYt68bhu/gv3dEuOoxp+PIxHS0OPGXaiLD+9uRHO53KiuXeu8nLERu4x32f9G/i+m1KUq+DoJqpGFRxldPbBdqTduKT+p0Jprei6gWXTbvfT0kFqDHuWXSLxiM2Xq3G1hufY55k5zaGqipjKKveOSKlcd7W9wcrJi2vFn5aQjRIzatNyH8fChJGdhEdzsyu11W7eiJnfhf10g1CfE1Fp0vQNTqpO0idbxc1TbomHumnRMLjiXox0POdlUTaaq4VMLzmIYmP7Yy3tL+yGC6c0oSw2DxUW6k4025NpXc0ndJ2uk99u3YkdZK5rd2U7x5J+QkKxIzFLqklLzslOQ3QJiXjwmxIUaG5MOY9rkVHNVMoqKmFRTky4NVYd3ag3DL3jqlW7PpdKjRJaly9JSKjor2uVqvesNjsp1OVR3PtYRUwWjwYdSqxfFDq1JrtQWozNEjtZCnlbsujwH7WwrkVEXPUrvXfhUzvyShiYTllXj/R0NGdNcDpTHLBUltk5KLundx33Sd437L7yzrzvOh2Db0zcdwTPEyks1ERrUy+I5fYsa3ruXrJ/ThEVSkX8LWsLLrWZfSCsPoKPz90VjORiszjKqkJWIve2+frjhixIiyVpSkd6tp8aovWZ7GURqNz/wBlzy+oEjSmUOHJQJaX6BbLpCbDRE2OL2cIiJzYx/sMOU5zlCMrWt2cSjFYvSmldK4jBYKuqEaEY7cqk5OSbu77krW2cyK0/wBQre1Ht+HcNvR3LBVyw4sOK3ZiQYic7HJlcLv6yqm/cps+0mM5THZycUaf1Kfodn6trbVQmZaVluLdKxpeI5joa8c9Gq1zVyiqxE5l5iyOU9y9KP8Ad/7vVH7p7Oejui39Ef43j+Mztc27n5txGnis0f3LbZvk7Gpofp0sRhU8VTvONKdSTW55JOLt52ui7rzvq2tP6LErtzT6S0qxyNbhqudEeuVRrGpvVy4X9K4TeTEhUIM/JS8/BXZhTMNsVm1uXDkRUz395x/qrLz9Y4P1kXXU69VZmaV6QIkKLNOiQ4quWIvGREdlXPRG4RyruRVQl9WYV0adWnYcnbV73E+NUpl8ZYs1UXOcquZC2Yaq3ZRYaLzNVFRNpeyHibNtrYknzIT6c1qNStWnRvRhTpzVms3+Rrf2dv8AR1nlqruVF8IVUVUTaT4Dl7UHl3oTV7auqDqJWq9AqMdIFRk6hHV8J7lwrlhs5mIqKuERMtwm9eYmINz3BF4WbKIldqP3LdKI9JHop/Q+ehM54vOzna383PvLP1CTyvfdLmdV9MqVOssNWpSjU6yFNptO3WK8XdO1tm3tOiFe1M9Um7vmsW9qHa9112q29QZ5ZuYozmMm3NavFte5XJsI5fZKmyucbu/zlLwatcNX4TlxWlFuarQqbEp0RjIEKde1kBXQIfVw25VrXorlVFxuXeQHBts5ZvUm6pnlNXYf3BqCZYybw2e++RW/85TZ++c2etvVSKxGaSjFdrXI1H0vrYnH0MLhaX7ZValOTbV/2K7a9dp1kDBk2T34AAAAAAAAAAAAAAAAAAMKuEVTIAKCvbhHXlZlWqktMaM1SLTabMPgtqT48WHBisR2y2IjlgK1Edux1S8/Op+9g8Ie772rdLk3aO1OTpdRfhaokeLEgw2YXq9riEaqZTHskNg4TTU/gZr64TOIG/H+mYaRBqM/R+CDBqNKno0lNw5FmxHl4iw4jFWYRF2XNVFTdlN3ZNOUpxqtOWxK+5cj5jjcbpXAaaq0Z4uTo06TrOOSF2k2st7XtZb950QkRnZRE7OT7VyKmcpjsnNunduXJM6TRtUKxqHc01UX0icdAlXVByS0JGw3tY9W87oiIm1tK7nXPOmT40nui5ahwc7qq9QuCpTU/LpPcTNxpuI+NDxBardmIq7SYVVVMLuyXqsml4q53aHS2M+r62i456cqi2p/tST223N3OlMpjKKihFaq7lTPwnIMDWC87c4PlNnIFcnItVq9Ujyn3Rmoro8SFDRVVVRz8rnCIidjK434PJJ6sQLGue3p60tWq5dstNRGwaxKVRsZWoiq1FfDWI1NnnXCJlUVN6qi4Kv1dNb/AA/v1Oc/9RNHxcLxdmoN7UmlPdZN3lbe7LYjshUXGc475S9+cJOn23cr7PtC1Z66qtAVUjwpRVRrHJzsRWte5zk66I3CdnOUS4pp0RZKK+CmXLDVWp38bjnTgfwZKZhXVUppGRKtEn0bHc/fERiork38+Fcr/hVO8TqzlmjTi7Xvt8jp9INIYxYzC6MwVRU3Wcm52TaUUnZJ7Lu5tNgcJKl3VciWfddtTtr1iK5GQYE05Va9ypuYqq1rkcvWRW4Xs5whdO03OFVM9jJzFwu4MnJ1yy6nTtmHVkmIiMdDT74qNdDVvf3OXd8KknLXLcS8LCHQX1yoJTVk0csj0U/ofPQmc8XnZznfzc+8rjWcG4T27Ur+Zx8D0oxOjcZU0ZpGXWyjVpwjNJK6qJtXS2XVrOxZOtGiGmuvlrSlnao0BlVpcjVJWsQYSv2VbHgPym/8V7FfDenXZEemUVUVJm3NQ7Vuqt1W3bfnuipiiqxk25jVSGx7lcmwjv5SpsLnG7v85S8CrXBVuE3cVpRbmq0KmPp0RjIEKde1kBXQIfVw25VrXorlVFxuXeazwfbRfMX5ec5DueuwXUCcVdhk5hs8u1GTMwmPvnNnrb1VTP6jNJKK7WuRbV6Z1quNo4fC0v2upUpyu1f/ABxu2v8A6dao5q71c3d3wrmt6pVTHZyclaLW/f8AqtbtamJ/Va5pCHT5h7JXiJ1226Mrc5e9VVzoaJs4YipzqqKnX+pLVW865wfboZPVqbZV7enJeWZUIEZ0KNEhrEZjL2qi7XskVeuipnK5CxUcqk1a6bX0J0unlGVCGIqUJRjOE5xu079XvWx7HwudaKqc6uwhrN76hWtp7TG1S559YDI0TioENjVfEjRPxWtTnXvrhE66oUjelz3JLcFmi1yXr9RhVKK2UV87Dmntjvy7fmIi7S56+803XOSm6hpzp3cs9XapMTE5LS8CJCiTKuhq7i9pY2F38aucK9V3oiCpicsXlW2yfMr0v02lhsLUnhKV5qnCorvZabtZ9t0dhwojI0NIjVy1yIqL2T9E5zXrGtrkpbktR1rVUqqsy/ompTHHR3bW/CuwmUTmRMbkNhRTaW1Hu8NOdWlGdRWk0rrfZn0AAbAAAAAAAAAAAAAAAAAAAAABzpL7uF1erezZEBf7VhfVA30aS/mW/oKFhe6/u1OzYcNf7eGX1b/+RpL+Zb+grh/uzm6M9mp88vUkPqKD1E91pph8hVrzaF+fUUHqJ7rTTD5CrXm0Ety816jSfu4fPD7kXHZ/tfl/jxfOOJohbP8Aa/L/AB4vnHE0WHSAAAAAAAAAAAAAAAAAAAAAAAAAAAAAAAAAAAAAAAAAAAAAAAAAAAAAAKe1S0ouS9NSLQuylTMgySoUZIk0yPEe2I5EiNd1CI1UXcnXVN5bi54vYzhcYzg+1VesYxjr8xGMFFtrtOdhdGUMHXrV6Seaq05be1K302I55gaH6pWxddyzdlXDQmUy5ojljx5yFEfMy7Xuc5eLanUq5Nt2FV2FwmUTrfdqaEXvQdI7s08mpykxJqrRuNk40ONE2V9hnjMsy3cxPYo7nOg1xzKZ3c6Faw8FuXH+zhQ6F6Mpzc4qW6atmbSU/aSXjco1uit8wNLrboFFvGJR7goCxHqsrMReg5raiK/YiNRG7Sc29WL/ACkwqKRtO0Ivi5b8pV3agxbYkW0mIkdIdCl3tfNRGuRUWI56IvOiZXK7tyImcnQm7eEwZdGDST7Lf0XT6IaNq9WpptQUVa7t+y1tn07N/aUPO6N6i2heVZubSes0VstcGXzUpVmRMQYqqq7TFYi56pzlTOMZwqON/wBKLGrVi286WuS6Jyu1OaicdMR5iM+IyGuMcXDRyqqNTwZXrJuRN4REz/xHfXrE401F3RtYDo9gtHV+vw6a3tK7ypy2uy3K5p+p+nFI1PtiJblWe6CquSLLzENEV0CKiLh6IvOm9UVOuirzc6Uv/ArwjZelOsuV1RkVt/HEptK9I3E9jPFq5Exu2UiYxu5jphcpvQc/PvIToxm7vf4OxXpPozgdK1v1NTNGbVm4ycXJcHZq6Kot3QGgW7phVNPoE4+JGrEJyTc+6GiOfEx1Lkbnc1qomG57O/fkr9mh+t0TTuPpjHuS24dHgqr5dWMirGjLxm2jHuVuGM2suyjXOzu3odLLzYRd5neu4w6EGreFvoa9fofoutCNOMXGMYunaLavF7Wnx27SjK/oTXq9oZR9O3VGRg1ikvZFR+XugPcjnZbtYRyIrX8+zz9Yq/hA02+pC27JpN9x6V0dBm40CBFpnGbCQUZCRqrtoi7eUVVwmOxg7E63Oaveem1m6gOkXXbSXTq06I6LLYmIkLYcuMr1Dm55k588xCrh1ODjHfZLkc3TnQujjMDOhgXlnKMIbW7OMGmr2vtSTsyqKlo1qhqBX6KzUy5aPMUChvSJCSShRGR5vGN8VF6lrnIiIqtcqJvwm/J7790evhdT5PVLTepUmFPw4CQY0vUkfxa4YrNpNhFVctXGNypjcpd6IjURrU5k5hjCk+ph/vft2bjp/wDSOj3BqeZycoyzOTclKKtFp79i3eZRNi6NagUjV+PqRdlapc62clXtj9Do+G9IjmtTZaxW42G7OEVXZVERVTKn7WXpRqRp9qZWa1QahQY9vV6dSYm0mOOSZZC2nO2WIibO0m2qZVyovYQvBN+7sDC9jcZVCEbW7HczQ6J6Ow2R0sylCbmnd3zSVnd9t+0+k5jJgyWnqAAAAAAAAAAAAAAAAAAAYMgA0bWK0KnfmnVUtejRZdk5OpCSG6YcrWJsxGuXKo1y8zV6ymsRtKLjicHxNLkmKf8AddJVsHjFe/iNpIqPztbO1jCfi85b3Nu5x8BW6UZNyfarfQ42K0FhMZiJ4mqnmnTdN7f+1u79TRLBsKaomlcnYFffBiRWSUSVmHQHOcxdvazsq5EVdy9dEKnomhestu2xWdO6Zc1vMt+pPjP6IdDi9FLtNRNnGNlqOwiOXLlRFVU7B0ku9U7KGUxkw6MGkuCt9DVxXRfAYuFKErrq4uCabTytJNNremkc+yXBtqU3o3LWJXKrKS9ZkZ2LPSkzKq+JCa5XLhrtprXKioqou7cuF34wsnRdNNZ63cNHnNQb1kpSmUXZXiKFFjwnT7kx/H5RqYXCZxlMZRETKqXcuet1hhcYRTEaMI2t/wAsVU+iGjKMoOnFxyqMbKTV1D2c23bb+wrWq3YxuxgoC6uD/edGu+avXRq7odGmZ9znzMrMp962nLlVTqHIqKu/Zc1cLzL1kv8ARFRERd5lMYJzpqorM6WlNC4TTEIxxKd4u8ZJtSi+Kas0c+2dwfbsqV5y996x3XDrU9JOa+XloDVWFtNXLVVVa1Eai79lrERV3550WTv7R+94mp8pqnpxU6TDnmQUgxpepNicWuGqzKKxFVctXGN2MZRS7/gMYRN6IQVCCVvG/wBTmw6IaMhh+oSd8ynmzNyclubk3dtFEWLozf8ASdX42o911ulzrZyVeyP0Oj4b2xHNamy1itxsN2cIquyqIiqmVPm3NJ9R9P79uCs0KfoUe3q9MumJtsxx3RLIeXu2YaImztJtqmVcqL2EL5Q+YsNkWG6G9MtcitVOyijqILdxuQj0Q0fShFUrqUZSmnd3zSVnd9qfacc8HqkapztAuKNptXKTLLGmuh5mDUYb1Y3LEVIsNzUXDkyqYVFTmznBbdB4OsCm6R1awpqscbVK2qTE1ONZlrY6KitRqLvVqK1Eyu9cqu7mSx7L06tDT2WmpS0KSsjCnIiRozVmIkXbeiYRcvc5U3dg2bCIpCnh4wglLa7NeG052gehOHwOBp0cf++ajKL2txSk3fKna11v2HM9Q0M1vrWnsHT2o3FbUOnUzYWUZBSNtTCtduSK9W9S1qKqpstVVVEz2U2i/tDLhuzSy2bUkqjIwKxbzICo96uWA9zYew5EcjdpE66Ls9bmQu//AGofS85L9PDauKsb8OhmjIwnTlmalFQd5NvKndJcLdhrlkQrzg0GFDvt1LdVGOc1VpvGcTxe7Z9miOz2esbFj+kJlDOS9KysenoUlQpxpJt2Vrt3f1PoAAuAAAAAAAAAAAAAAAAAAAAAOdGJ/wCWHczfxrARf6JiEXxb2+hyf8y0ojm4ZNfTs6eKv+9Qi97c/wAhSX8y0hD/AHZzdGbqnzy9SS+ooPUT3WmmHyFWvNoX59RQeonutNMPkKtebQxLcvNeo0n7uHzw+5Fx2f7X5f48XzjiaIWz/a/L/Hi+ccTRYdIAAAAAAAAAAAAAAAAAAAAAAAAAAAAAAAAAAAAAAAAAAAAAAAAAAAAAAGDIABgyADBkAAAAAwZAAAAAAAAAAAMGQAAAAAAAAAAAAAAAAAAAAAAAAAAAAAYMgAAAAGDIAAAABgyAAAAAAAAAAAAAAAAAAAAAACp+EPrauhFqU26olFSpwJqpwpKPCSJsOSG5j3K5q8211PX3Gt2hfPCS1NpcO66Hads2pRpxONkYNYiRo05HhqnUve1mEYi9bOFxvxjCrs+u+kUzrDI2vRuPlIchS7gl6nUGR1dmLLw2PRWMRGrlyq5Ny4TGd5Z0GDDl4TYMJqNYxqNaicyIhDLJyd3sOS6GJrYuTlNxppKyVld9u21yhprhEXNpfdEhbGv9qStFlaq/i5G4aZHdGpz3Z5om0iOhLzZzzc/NlS94UaFHhMjwIjYkOI1HNe12UVF3oqL10Kr4VNlyN7aGXRJzMBr4shJvqMs9U3w4kFNvKf8AZRyeE510S4Q1ao3BCuuNFm3xKvaKpTadGeqq5rI+Eg7159jL8d5rUIZ8ksst280Z6TlozFyw2Ilmi4uUW9+zenx8GXpevCMVl9/wTaTW2677sh56M+/JCkqeic6x4vZb12pvTm9luPRU57hWUiRfWIFKsSsRYLdt9Kl4sxCe9ETe2HFfhFd2NrZQrv8A5Pm05eV02q19TbVi1SvVKIyJMRF2ojocPHO5d65c5yr3zq1f0mYXnHM3vLtHqvpHDrFVZuLltSVkkuzs2/UobQLhLzGt13162YlmxqA6hSkKJHhzERXRkmFe5kRiphMIip2M9kvn4SqrU0djWnrjdWp0jFk4dOuanQIUSXYrkipNMdl71TZ2dlUxvznPWLV3IShmt+7eb2jViY0cuKd5JvbsV1fY9ngc7xt3DOrCdnTmIv8AvkEve2/8hSP8w0omZTHDOqXf04i//ewvQXrbX+QJH+ZaIbn5kdG7qvzsk+coPUT3WmmHyFWvNoX4nMUHqoiU/hQ6TVSYXECap9akWL1uNWEzCeHbT+gxPcvNeo0n7qL/APKH3IuOz/a/L/Hi+ccTRC2f7X5f48XzjiaLDpAAAAAAAAAAAAAAAAAAAAAAAAAAAAAAAAAAAAAAAAAAAAAAAAAAAAAAAAAAAAAAAAAAAAAAAAAAAAAAAAAAAAAAAAAAAAAAAAAAAAAAAAAAAAAAAAAAAAAAAAAAAAAAAAAAAAAAAAAAAAAAAAHKPCu1G180OgwLyty+6XNUOp1BZSHIxaOxsWUVzXPY3bVV4xMMcmV2Vzjcud28WBQeEdc9rUu46/rVS5GLU5SHNdCS1tQoiQke1HI1YjnptKiLv6lDzcMnSO89YdNpCiWPKwJmep9UZPPgxY6QliQ0hRWKjFXcrsvTcqpuyYsnXiLaFoUq3770tvek1SmSkKUish0l0zCjOhtRu1CiQ1VFauM70T/iUbpu7dvqeVcHS0jUWIlJU2k47ZJX7dq9Dx65UnVW1tJLprVe1ql5uRh02NCiy6W5BhLGSI1Yewj0eqtVdrGU3oci6baY3vW+DBf92UuqrBpLJyBFiSHQiPdOdD73vSIq5ajEiZ3IucL2DojUynaz8LOelLSpdp1Gx9P5eO2NOT9XYjJqcVOZWwUXmTfhuVTO9VTmOlLO08tex7Ik9PaJTmNo8pLLKrBiIjuNa5F21f8AjK5Vcq9nKkXT62V+yxp1dFa4xcqizKnGLim27tvtV3ey/s5Y4FUrqFc+kj5S09VIFDgUyoRoT5FaJBmnM2kRyPV7nIvVZXdjrF61GxOEBxDnUvXmRSM1FVGxrVgqxy9ZFVImU+Hf8BTEjpDqnwV9RZ+7tJaBFu6xaw/M9RIMTE3LNzlEYi+yVmV2Xb8pudj2RbLOE1SZmSVZDTHUGYqKtXFOShObFR+PYq9XcWnw7Smadoxyy2NeZs6MjTw+GWGxblGcNm+STS3NWdnfgUnorqxwndV9T6/p3OX9RKWy2HxWz802jsjbaw43F7MNvU52lRd6qmE6y8x2hAbEZBY2PE4x6NRHP2cbS43rjrHLXBS0g1LtjUi9dT75oEOiS91PiRpeSiTDYkxDV8dYuHI3ciIi4yuFz1jqlF3ZVCdK+W8jf6PwrLDZ8Q5OTb9pu9r7Nj3bDnudTHDOmv8AO03i/wD30P0F421/kCR/mWlGOd90OGXV4kBNplM0+dLzCp/JiRJpj2tX4W5XwF52ymaBI/zKEodvmbejP/1f/nIk+ZNxTPCetWr1Gz6ffNsS7o1bsaowq3Kw2J1UWGzdGhp8LFXwtQubcuFU+YiI9itVEVHJhUXmwSazKxtYqgsTRlSbtft4PsfM0XRq9KRfdlytdoky2LLRlWIzHO1Hb1aqdZUdtIqdlDe1wnMc4V7Tu9+D9dk9qPo3T4lZteqxVj1y00ciLBevso8ovW7Ks/4YRu6WZwotHbva2XiXRCodTbujU6rp0JGgu67V28N/2kVPslsZqUMfGFqOK/bNcdifin48N5bufhGe8pr8PUCxorEiQryoj2u5lbPwlRf/ABH1y8sntvo3l0L6RLYb3X0viXMnvAPAQPLuye2+jeXQvpDl3ZPbfRvLoX0hsHX0/iXMnvAPAQPLuye2+jeXQvpDl3ZPbfRvLoX0hdDr6fxLmT3gHgIHl3ZPbfRvLoX0hy7sntvo3l0L6Quh19P4lzJ7wDwEDy7sntvo3l0L6Q5d2T230by6F9IXQ6+n8S5k94B4CB5d2T230by6F9Icu7J7b6N5dC+kLodfT+Jcye8A8BA8u7J7b6N5dC+kOXdk9t9G8uhfSF0Ovp/EuZPeAeAgeXdk9t9G8uhfSHLuye2+jeXQvpC6HX0/iXMnvAPAQPLuye2+jeXQvpDl3ZPbfRvLoX0hdDr6fxLmT3gHgIHl3ZPbfRvLoX0hy7sntvo3l0L6Quh19P4lzJ7wDwEDy7sntvo3l0L6Q5d2T230by6F9IXQ6+n8S5k94B4CB5d2T230by6F9Icu7J7b6N5dC+kLodfT+Jcye8A8BA8u7J7b6N5dC+kOXdk9t9G8uhfSF0Ovp/EuZPeAeAgeXdk9t9G8uhfSHLuye2+jeXQvpC6HX0/iXMnvAPAQPLuye2+jeXQvpDl3ZPbfRvLoX0hdDr6fxLmT3gHgIHl3ZPbfRvLoX0hy7sntvo3l0L6Quh19P4lzJ7wDwEDy7sntvo3l0L6Q5d2T230by6F9IXQ6+n8S5k94B4CB5d2T230by6F9Icu7J7b6N5dC+kLodfT+Jcye8A8BA8u7J7b6N5dC+kOXdk9t9G8uhfSF0Ovp/EuZPeAeAgeXdk9t9G8uhfSHLuye2+jeXQvpC6HX0/iXMnvAPAQPLuye2+jeXQvpDl3ZPbfRvLoX0hdDr6fxLmT3gHgIHl3ZPbfRvLoX0hy7sntvo3l0L6Quh19P4lzJ7wDwEDy7sntvo3l0L6Q5d2T230by6F9IXQ6+n8S5k94B4CB5d2T230by6F9Icu7J7b6N5dC+kLodfT+Jcye8A8BA8u7J7b6N5dC+kOXdk9t9G8uhfSF0Ovp/EuZPeAeAgeXdk9t9G8uhfSHLuye2+jeXQvpC6HX0/iXMnvAPAQPLuye2+jeXQvpDl3ZPbfRvLoX0hdDr6fxLmT3gHgIHl3ZPbfRvLoX0hy7sntvo3l0L6Quh19P4lzJ7wDwEDy7sntvo3l0L6Q5d2T230by6F9IXQ6+n8S5k94B4CB5d2T230by6F9Icu7J7b6N5dC+kLodfT+Jcye8A8BA8u7J7b6N5dC+kOXdk9t9G8uhfSF0Ovp/EuZPeAeAgeXdk9t9G8uhfSHLuye2+jeXQvpC6HX0/iXMnvAPAQPLuye2+jeXQvpDl3ZPbfRvLoX0hdDr6fxLmT3gHgIHl3ZPbfRvLoX0hy7sntvo3l0L6Quh19P4lzJ7wDwEDy7sntvo3l0L6Q5d2T230by6F9IXQ6+n8S5k94B4CB5d2T230by6F9Icu7J7b6N5dC+kLodfT+Jcye8A8BA8u7J7b6N5dC+kOXdk9t9G8uhfSF0Ovp/EuZPeAeAgeXdk9t9G8uhfSHLuye2+jeXQvpC6HX0/iXMnvAPAQPLuye2+jeXQvpDl3ZPbfRvLoX0hdDr6fxLmT3gHgIHl3ZPbfRvLoX0hy7sntvo3l0L6Quh19P4lzJ7wDwEDy7sntvo3l0L6Q5d2T230by6F9IXQ6+n8S5k94B4CB5d2T230by6F9Icu7J7b6N5dC+kLodfT+Jcye8A8BA8u7J7b6N5dC+kOXdk9t9G8uhfSF0Ovp/EuZPeAeAgeXdk9t9G8uhfSHLuye2+jeXQvpC6HX0/iXMnvAPAQPLuye2+jeXQvpDl3ZPbfRvLoX0hdDr6fxLmT3gHgIHl3ZPbfRvLoX0hy7sntvo3l0L6Quh19P4lzJ7wDwEDy7sntvo3l0L6Q5d2T230by6F9IXQ6+n8S5k94B4CB5d2T230by6F9Icu7J7b6N5dC+kLodfT+Jcye8Awi87SB5d2T230by6F9Icu7J7b6N5dC+kLox11P4lzJ7CJzNHgIHl3ZPbfRvLoX0hy7sntvo3l0L6QujPX0/iXMndy86KNlv4v8AsILl5ZXbfRvLoX0jDr+sdjVc+8aK1qc6rPwkRP8AxDYOvpfEuZPbskbcNfpdr0WduCtzkOVkZCA+PHjPXCMY1MqpX138JbRuz2bEzeUlUJt38RJ01/RceM7rNakPOVVe+aEtrai8JKqy1V1Jp81aOnEhFZMwbfiu2ZurPauWumlT2EP/ADP+PVJByW5bWaVfSEG+qw37p8FuXi32I9ug0pP1Ol3rrnX5aJAnL7mkWnwoiYfCp0JFZLtwu9Nrac74NnsF7UeWWTpcpLO54cJqL/QQctAg1malpKnwEg0al4RiNbssiOamGtan4qIbSqk4xsrGzhMP+loqne77Xxb2t/2fRgyDJtHx1LudMmgXjovYt3xFmKnbFGnnquVhz0jDjMz3lVMt8ClgZVA3vhxT3ldSlCqrTimvEod/Bd0hY9VmNGKRFVV3rLzkaG1fgbt4QdLBox3EpTy+N6wvjPe/2jP2yRyrgjW1bg+6jyRQ/SwaMdxKU8vjesHSwaMdxKU8vjesL4z9sjP2yMq4IatwfdR5IofpYNGO4lKeXxvWDpYNGO4lKeXxvWF8Z+2Rn7ZGVcENW4Puo8kUP0sGjHcSlPL43rB0sGjHcSlPL43rC+M/bIz9sjKuCGrcH3UeSKH6WDRjuJSnl8b1g6WDRjuJSnl8b1hfGftkZ+2RlXBDVuD7qPJFD9LBox3EpTy+N6wdLBox3EpTy+N6wvjP2yM/bIyrghq3B91Hkih+lg0Y7iUp5fG9YOlg0Y7iUp5fG9YXxn7ZGftkZVwQ1bg+6jyRQ/SwaMdxKU8vjesHSwaMdxKU8vjesL4z9sjP2yMq4IatwfdR5IofpYNGO4lKeXxvWDpYNGO4lKeXxvWF8Z+2Rn7ZGVcENW4Puo8kUP0sGjHcSlPL43rB0sGjHcSlPL43rC+M/bIz9sjKuCGrcH3UeSKH6WDRjuJSnl8b1g6WDRjuJSnl8b1hfGftkZ+2RlXBDVuD7qPJFD9LBox3EpTy+N6wdLBox3EpTy+N6wvjP2yM/bIyrghq3B91Hkih+lg0Y7iUp5fG9YOlg0Y7iUp5fG9YXxn7ZGftkZVwQ1bg+6jyRQ/SwaMdxKU8vjesHSwaMdxKU8vjesL4z9sjP2yMq4IatwfdR5IofpYNGO4lKeXxvWDpYNGO4lKeXxvWF8Z+2Rn7ZGVcENW4Puo8kUP0sGjHcSlPL43rB0sGjHcSlPL43rC+M/bIz9sjKuCGrcH3UeSKH6WDRjuJSnl8b1g6WDRjuJSnl8b1hfGftkZ+2RlXBDVuD7qPJFD9LBox3EpTy+N6wdLBox3EpTy+N6wvjP2yM/bIyrghq3B91Hkih+lg0Y7iUp5fG9YOlg0Y7iUp5fG9YXxn7ZGftkZVwQ1bg+6jyRQ/SwaMdxKU8vjesHSwaMdxKU8vjesL4z9sjP2yMq4IatwfdR5IofpYNGO4lKeXxvWDpYNGO4lKeXxvWF8Z+2Rn7ZGVcENW4Puo8kUP0sGjHcSlPL43rB0sGjHcSlPL43rC+M/bIz9sjKuCGrcH3UeSKH6WDRjuJSnl8b1g6WDRjuJSnl8b1hfGftkZ+2RlXBDVuD7qPJFD9LBox3EpTy+N6wdLBox3EpTy+N6wvjP2yM/bIyrghq3B91Hkih+lg0Y7iUp5fG9YOlg0Y7iUp5fG9YXxn7ZGftkZVwQ1bg+6jyRQ/SwaMdxKU8vjesHSwaMdxKU8vjesL4z9sjP2yMq4IatwfdR5IofpYNGO4lKeXxvWDpYNGO4lKeXxvWF8Z+2Rn7ZGVcENW4Puo8kUP0sGjHcSlPL43rB0sGjHcSlPL43rC+M/bIz9sjKuCGrcH3UeSKH6WDRjuJSnl8b1g6WDRjuJSnl8b1hfGftkZ+2RlXBDVuD7qPJFD9LBox3EpTy+N6wdLBox3EpTy+N6wvjP2yM/bIyrghq3B91Hkih+lg0Y7iUp5fG9YOlg0Y7iUp5fG9YXxn7ZGftkZVwQ1bg+6jyRQ/SwaMdxKU8vjesHSwaMdxKU8vjesL4z9sjP2yMq4IatwfdR5IofpYNGO4lKeXxvWDpYNGO4lKeXxvWF8Z+2Rn7ZGVcENW4Puo8kUP0sGjHcSlPL43rB0sGjHcSlPL43rC+M/bIz9sjKuCGrcH3UeSKH6WDRjuJSnl8b1g6WDRjuJSnl8b1hfGftkZ+2RlXBDVuD7qPJFD9LBox3EpTy+N6wdLBox3EpTy+N6wvjP2yM/bIyrghq3B91Hkih+lg0Y7iUp5fG9YOlg0Y7iUp5fG9YXxn7ZGftkZVwQ1bg+6jyRQ/SwaMdxKU8vjesHSwaMdxKU8vjesL4z9sjP2yMq4IatwfdR5IofpYNGO4lKeXxvWDpYNGO4lKeXxvWF8Z+2Rn7ZGVcENW4Puo8kUP0sGjHcSlPL43rB0sGjHcSlPL43rC+M/bIz9sjKuCGrcH3UeSKH6WDRjuJSnl8b1g6WDRjuJSnl8b1hfGftkZ+2RlXBDVuD7qPJFD9LBox3EpTy+N6wdLBox3EpTy+N6wvjP2yM/bIyrghq3B91Hkih+lg0Y7iUp5fG9YOlg0Y7iUp5fG9YXxn7ZGftkZVwQ1bg+6jyRQ/SwaMdxKU8vjesHSwaMdxKU8vjesL4z9sjP2yMq4IatwfdR5IofpYNGO4lKeXxvWDpYNGO4lKeXxvWF8Z+2Rn7ZGVcENW4Puo8kUP0sGjHcSlPL43rB0sGjHcSlPL43rC+M/bIz9sjKuCGrcH3UeSKH6WDRjuJSnl8b1g6WDRjuJSnl8b1hfGftkZ+2RlXBDVuD7qPJFD9LBox3EpTy+N6wdLBox3EpTy+N6wvjP2yM/bIyrghq3B91Hkih+lg0Y7iUp5fG9YOlg0Y7iUp5fG9YXxn7ZGftkZVwQ1bg+6jyRQ/SwaMdxKU8vjesHSwaMdxKU8vjesL4z9sjP2yMq4IatwfdR5IofpYNGO4lKeXxvWBvBi0Ya5HJojJrjfh09FVP6FfhS+M/bIz9sjKuCGrcH3UeSK3tXTu2LKVXWbpPQaPFduWNBgw2RF+F6JtL/SbStFqlUVFrs+iQE39DS2WtX4y86k/vXr4C5xzkkktiNmnThSjaEUl4Kx8QYMKXhNgwYbWQ2JhrWphEQ/UAFh/9k=)**\n",
        "Logical operator returns True if both the operands are True else it returns False."
      ],
      "metadata": {
        "id": "-p3stbSJ15J5"
      }
    },
    {
      "cell_type": "code",
      "source": [
        "a = 12\n",
        "b = 26\n",
        "c = 4\n",
        "\n",
        "if a > b and a > c: # False and True\n",
        "    #print()\n",
        "    print(\"Number a is larger\")\n",
        "#print(\"Number a is larger\")\n",
        "\n",
        "if b > a and b > c: # True and True\n",
        "    print(\"Number b is larger\")\n",
        "\n",
        "if c > a and c > b: # False and False\n",
        "    print(\"Number c is larger\")"
      ],
      "metadata": {
        "id": "ST9MPdI916l_",
        "colab": {
          "base_uri": "https://localhost:8080/"
        },
        "outputId": "9ef44402-dad9-463d-e6be-408d6fa1c0e6"
      },
      "execution_count": null,
      "outputs": [
        {
          "output_type": "stream",
          "name": "stdout",
          "text": [
            "Number a is larger\n",
            "Number b is larger\n"
          ]
        }
      ]
    },
    {
      "cell_type": "code",
      "source": [
        "a = 10\n",
        "\n",
        "if (a == 0 and \"Hello\"):\n",
        "    print(\"a has value zero(0)\")\n",
        "else:\n",
        "    print(\"a is not equal to zero\")"
      ],
      "metadata": {
        "id": "-4hqaDLi2T_d"
      },
      "execution_count": null,
      "outputs": []
    },
    {
      "cell_type": "code",
      "source": [
        "# Python program to demonstrate\n",
        "# logical and operator\n",
        "\n",
        "a = 10\n",
        "b = 10\n",
        "c = -10\n",
        "\n",
        "if a > 0 and b > 0:\n",
        "    print(\"2 numbers are greater than 0\")\n",
        "\n",
        "if a > 0 and b > 0 and c > 0:\n",
        "    print(\"All numbers are greater than 0\")\n",
        "else:\n",
        "    print(\"Atleast one number is not greater than 0\")"
      ],
      "metadata": {
        "id": "r1WATwDz2Wld"
      },
      "execution_count": null,
      "outputs": []
    },
    {
      "cell_type": "code",
      "source": [
        "a = 10\n",
        "b = 12\n",
        "c = 0\n",
        "\n",
        "if a and b and c:\n",
        "    print(\"All the numbers have boolean value as True\")\n",
        "else:\n",
        "    print(\"Atleast one number has boolean value as False\")"
      ],
      "metadata": {
        "id": "NpOAdGSe2YTc"
      },
      "execution_count": null,
      "outputs": []
    },
    {
      "cell_type": "markdown",
      "source": [
        "<font color=\"Aqua\">**4.2 Logical or operator**\n",
        "Logical or operator returns True **if either **of the operands is True."
      ],
      "metadata": {
        "id": "7T2iaCTX2Tr6"
      }
    },
    {
      "cell_type": "markdown",
      "source": [
        "![Python-logical-or-operator.jpg](data:image/jpeg;base64,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)"
      ],
      "metadata": {
        "id": "IXJXo2H_2Tnr"
      }
    },
    {
      "cell_type": "code",
      "source": [
        "a = 10\n",
        "b = -5\n",
        "\n",
        "if a < 0 or b < 0: # False or True\n",
        "  print(\"Their product will be negative\")\n",
        "else:\n",
        "  print(\"Their product will be positive\")"
      ],
      "metadata": {
        "id": "h_eIhb102tUP"
      },
      "execution_count": null,
      "outputs": []
    },
    {
      "cell_type": "code",
      "source": [
        "a = 10\n",
        "b = 5\n",
        "if (a == 0 or b > 0):\n",
        "  print(\"Is Awesome\")\n",
        "else:\n",
        "  (\"Try Again!\")"
      ],
      "metadata": {
        "id": "8vPqhzze2u5I"
      },
      "execution_count": null,
      "outputs": []
    },
    {
      "cell_type": "code",
      "source": [
        "a = 10\n",
        "b = -10\n",
        "c = 0\n",
        "\n",
        "if a > 0 or b > 0:\n",
        "    print(\"Either of the number is greater than 0\")\n",
        "else:\n",
        "    print(\"No number is greater than 0\")\n",
        "\n",
        "if b > 0 or c > 0:\n",
        "    print(\"Either of the number is greater than 0\")\n",
        "else:\n",
        "    print(\"No number is greater than 0\")"
      ],
      "metadata": {
        "id": "RrGLvoz62xz6"
      },
      "execution_count": null,
      "outputs": []
    },
    {
      "cell_type": "code",
      "source": [
        "a = 10\n",
        "b = 12\n",
        "c = 0\n",
        "\n",
        "if a or b or c:\n",
        "    print(\"Atleast one number has boolean value as True\")\n",
        "else:\n",
        "    print(\"All the numbers have boolean value as False\")"
      ],
      "metadata": {
        "id": "PMkMUUz920cE"
      },
      "execution_count": null,
      "outputs": []
    },
    {
      "cell_type": "markdown",
      "source": [
        "<font color=\"Aqua\"> **4.3. Logical not operator:**\n",
        "Logical not operator work with the single boolean value. If the boolean value is True it returns False and vice-versa."
      ],
      "metadata": {
        "id": "FJb5JoiD227i"
      }
    },
    {
      "cell_type": "markdown",
      "source": [
        "![Python-logical-not-operator.jpg](data:image/jpeg;base64,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)"
      ],
      "metadata": {
        "id": "AFwPUPk728gM"
      }
    },
    {
      "cell_type": "code",
      "source": [
        "a = 10\n",
        "\n",
        "if not a != 10:\n",
        "  print (\"a not equals 10\")\n",
        "else:\n",
        "  print(\"a equals 10\")"
      ],
      "metadata": {
        "id": "69BZfya_29S2",
        "colab": {
          "base_uri": "https://localhost:8080/"
        },
        "outputId": "691c2e4d-0b72-43ef-a2c4-5783d5795845"
      },
      "execution_count": null,
      "outputs": [
        {
          "output_type": "stream",
          "name": "stdout",
          "text": [
            "a not equals 10\n"
          ]
        }
      ]
    },
    {
      "cell_type": "code",
      "source": [
        "a = 10\n",
        "\n",
        "if not  a % 5 == 0:\n",
        "  print(\"a is not perfectly divisible by 5\")\n",
        "else:\n",
        "  print(\"a is perfectly divisible by 5\")"
      ],
      "metadata": {
        "id": "abNHsrc32-xc"
      },
      "execution_count": null,
      "outputs": []
    },
    {
      "cell_type": "code",
      "source": [
        "a = 10\n",
        "\n",
        "if not a:\n",
        "    print(\"Boolean value of a is True\")\n",
        "\n",
        "if not (a%3 == 0 or a%5 == 0):\n",
        "    print(\"10 is not divisible by either 3 or 5\")\n",
        "else:\n",
        "    print(\"10 is divisible by either 3 or 5\")"
      ],
      "metadata": {
        "id": "fXeaZnvT3BB2"
      },
      "execution_count": null,
      "outputs": []
    },
    {
      "cell_type": "code",
      "source": [
        "# Examples of Logical Operator\n",
        "a = True  # 1\n",
        "b = False # 0\n",
        "\n",
        "# Print \"a\" and \"b\" is False\n",
        "print(a and b)\n",
        "\n",
        "# Print \"a\" or \"b is True\n",
        "print(a or b)\n",
        "\n",
        "# Print not \"a\"' is False\n",
        "print(not a)"
      ],
      "metadata": {
        "id": "_CKqLM5j3ClG",
        "colab": {
          "base_uri": "https://localhost:8080/"
        },
        "outputId": "68424e7e-a1a7-4598-d06e-0360447ac2e6"
      },
      "execution_count": 10,
      "outputs": [
        {
          "output_type": "stream",
          "name": "stdout",
          "text": [
            "False\n",
            "True\n",
            "False\n"
          ]
        }
      ]
    },
    {
      "cell_type": "markdown",
      "source": [
        "<font color=\"Yellow\"> **5. Identity Operators:** </font>\n",
        "Identity operators are used to compare the objects, not if they are equal, but if they are actually the same object, with the same memory location:"
      ],
      "metadata": {
        "id": "wZq4L3ZM45q7"
      }
    },
    {
      "cell_type": "markdown",
      "source": [
        "<font color=\"Aqua\"> **5.1 is**"
      ],
      "metadata": {
        "id": "Gf1DfutE5LQb"
      }
    },
    {
      "cell_type": "code",
      "source": [
        "x = [\"apple\", \"banana\"]\n",
        "y = [\"apple\", \"banana\"]\n",
        "z = x\n",
        "print(x is z)\n",
        "# returns True because z is the same object as x\n",
        "print(x is y)\n",
        "# returns False because x is not the same object as y, even if they have the same content\n",
        "print(x == y)\n",
        "# to demonstrate the difference betweeen \"is\" and \"==\": this comparison returns True because x is equal to y\n",
        "print(y is z)"
      ],
      "metadata": {
        "id": "dIFJn-QI5D4v",
        "colab": {
          "base_uri": "https://localhost:8080/"
        },
        "outputId": "88aed890-bec5-489a-bb68-8b6dc852b89e"
      },
      "execution_count": 14,
      "outputs": [
        {
          "output_type": "stream",
          "name": "stdout",
          "text": [
            "True\n",
            "False\n",
            "True\n",
            "False\n"
          ]
        }
      ]
    },
    {
      "cell_type": "markdown",
      "source": [
        "<font color=\"Aqua\"> **5.2 is not**"
      ],
      "metadata": {
        "id": "16cAAiq85WaR"
      }
    },
    {
      "cell_type": "code",
      "source": [
        "x = [\"apple\", \"banana\"]\n",
        "y = [\"apple\", \"banana\"]\n",
        "z = x\n",
        "\n",
        "print(x is not z)\n",
        "# returns False because z is the same object as x\n",
        "\n",
        "print(x is not y)\n",
        "# returns True because x is not the same object as y, even if they have the same content\n",
        "\n",
        "print(x != y)\n",
        "# to demonstrate the difference betweeen \"is not\" and \"!=\": this comparison returns False because x is equal to y\n"
      ],
      "metadata": {
        "id": "tVFMXdgQ5auu",
        "colab": {
          "base_uri": "https://localhost:8080/"
        },
        "outputId": "ab830852-1e29-47ba-a765-316fb22c3e0c"
      },
      "execution_count": 15,
      "outputs": [
        {
          "output_type": "stream",
          "name": "stdout",
          "text": [
            "False\n",
            "True\n",
            "False\n"
          ]
        }
      ]
    },
    {
      "cell_type": "markdown",
      "source": [
        "<font color=\"Yellow\"> **6. Membership Operators:** </font>\n",
        "\n",
        "Membership operators are used to test if a sequence is presented in an object:"
      ],
      "metadata": {
        "id": "mHgCNE5H5hTF"
      }
    },
    {
      "cell_type": "markdown",
      "source": [
        "<font color=\"Aqua\"> **6.1 in**"
      ],
      "metadata": {
        "id": "7iSSvhjQ57HW"
      }
    },
    {
      "cell_type": "code",
      "source": [
        "x = [\"apple\", \"banana\"]\n",
        "\n",
        "print(\"banana\" in x)\n",
        "# returns True because a sequence with the value \"banana\" is in the list\n"
      ],
      "metadata": {
        "id": "TIgTpeOZ52H-",
        "colab": {
          "base_uri": "https://localhost:8080/"
        },
        "outputId": "bcfb2b5b-9261-469d-827b-39369d397809"
      },
      "execution_count": 16,
      "outputs": [
        {
          "output_type": "stream",
          "name": "stdout",
          "text": [
            "True\n"
          ]
        }
      ]
    },
    {
      "cell_type": "markdown",
      "source": [
        "<font color=\"Aqua\"> **6.2 not in**"
      ],
      "metadata": {
        "id": "7pft5ISI5-o1"
      }
    },
    {
      "cell_type": "code",
      "source": [
        "x = [\"apple\", \"banana\"]\n",
        "\n",
        "print(\"pineapple\" not in x)\n",
        "\n",
        "# returns True because a sequence with the value \"pineapple\" is not in the list\n"
      ],
      "metadata": {
        "id": "8RCvvSuI52tx",
        "colab": {
          "base_uri": "https://localhost:8080/"
        },
        "outputId": "dd8f9aaa-777e-481e-b798-7e9cd8079c85"
      },
      "execution_count": 17,
      "outputs": [
        {
          "output_type": "stream",
          "name": "stdout",
          "text": [
            "True\n"
          ]
        }
      ]
    },
    {
      "cell_type": "markdown",
      "source": [
        "<font color=\"Yellow\"> **7. Bitwise Operators:** </font>\n",
        "Bitwise operators **act on bits** and perform the **bit-by-bit** operations. These are used to operate on **binary numbers**."
      ],
      "metadata": {
        "id": "bP7cMoFp3NL2"
      }
    },
    {
      "cell_type": "markdown",
      "source": [
        "<font color=\"Aqua\"> **Bitwise operators:** </font>\n",
        "\n",
        "1. Bitwise AND operator\n",
        "2. Bitwise OR operator\n",
        "3. Bitwise not operator\n",
        "4. Bitwise XOR operator\n",
        "\n",
        "<font color=\"Aqua\"> **Shift Operators:** </font>\n",
        "1.   Bitwise right shift\n",
        "2.   Bitwise left shift\n",
        "3.   Bitwise Operator Overloading"
      ],
      "metadata": {
        "id": "-vpVNMD03O7Y"
      }
    },
    {
      "cell_type": "markdown",
      "source": [
        "Note: *Python bitwise operators work only on integers.*"
      ],
      "metadata": {
        "id": "aA_w3ZBP3VVe"
      }
    },
    {
      "cell_type": "markdown",
      "source": [
        "<font color=\"orange\"> **7.1. Bitwise \"AND\" operator:** </font> Returns 1 if both the bits are 1 else 0.\n"
      ],
      "metadata": {
        "id": "3Vl9AtdO3WDl"
      }
    },
    {
      "cell_type": "code",
      "source": [
        "a = 10 #10 = 1010 (Binary)\n",
        "b = 4  # 4 = 0100 (Binary)\n",
        "\n",
        "a & b # 1010\n",
        "      # 0100 &\n",
        "      # -------\n",
        "      # 0000\n",
        "      # 0 (Decimal)\n",
        "print(a & b)"
      ],
      "metadata": {
        "id": "aGwYSRUQ3SsB",
        "colab": {
          "base_uri": "https://localhost:8080/"
        },
        "outputId": "a7b2c100-001e-4b5f-d746-f18c3b3aea3c"
      },
      "execution_count": 18,
      "outputs": [
        {
          "output_type": "stream",
          "name": "stdout",
          "text": [
            "0\n"
          ]
        }
      ]
    },
    {
      "cell_type": "markdown",
      "source": [
        "<font color=\"orange\"> **7.2. Bitwise \"OR\" operator:** </font> Returns 1 if either of the bit is 1 else 0."
      ],
      "metadata": {
        "id": "6oXJaFv_3ivM"
      }
    },
    {
      "cell_type": "code",
      "source": [
        "a = 10 # 10 = 1010 (Binary)\n",
        "b = 4  # 04 = 0100 (Binary)\n",
        "\n",
        "a | b # 1010\n",
        "      # 0100 |\n",
        "      # -------\n",
        "      # 1110\n",
        "      # 14 (Decimal)\n",
        "print(a|b)"
      ],
      "metadata": {
        "id": "jGaJybc13ld4",
        "colab": {
          "base_uri": "https://localhost:8080/"
        },
        "outputId": "b755da48-4104-4f36-aad0-a7d54710e3b9"
      },
      "execution_count": 19,
      "outputs": [
        {
          "output_type": "stream",
          "name": "stdout",
          "text": [
            "14\n"
          ]
        }
      ]
    },
    {
      "cell_type": "markdown",
      "source": [
        "<font color=\"orange\"> **7.3. Bitwise \"NOT\" operator:** </font> Returns one’s complement of the number."
      ],
      "metadata": {
        "id": "xuBLOdTD3ocw"
      }
    },
    {
      "cell_type": "code",
      "source": [
        "a = 10 # = 1010 (Binary)\n",
        "\n",
        "~a # ~1010\n",
        "   # -(1010 + 1)\n",
        "   # -(1011)\n",
        "   # -11 (Decimal)"
      ],
      "metadata": {
        "id": "DpKxNVdL367V"
      },
      "execution_count": null,
      "outputs": []
    },
    {
      "cell_type": "markdown",
      "source": [
        "<font color=\"orange\"> **7.4. Bitwise \"XOR\" operator:** </font> Returns 1 if one of the bits is 1 and the other is 0 else returns false."
      ],
      "metadata": {
        "id": "0sg4ndNE38lI"
      }
    },
    {
      "cell_type": "code",
      "source": [
        "a = 12 # 1100 (Binary)\n",
        "b = 4  # 0100 (Binary)\n",
        "\n",
        "a ^ b # 1100\n",
        "      # 0100 ^\n",
        "      #-------\n",
        "      # 1000\n",
        "      # 8 (Decimal)\n",
        "\n",
        "a = 5 # 101 (Binary)\n",
        "b = 3 # 011 (Binary)\n",
        "\n",
        "print(a ^ b) # 101\n",
        "             # 011 ^\n",
        "             # ------\n",
        "             # 110\n",
        "             # 6 (Decimal)"
      ],
      "metadata": {
        "id": "pfRmX79n38ZR"
      },
      "execution_count": null,
      "outputs": []
    },
    {
      "cell_type": "code",
      "source": [
        "# Python program to show\n",
        "# bitwise operators\n",
        "\n",
        "a = 10\n",
        "b = 4\n",
        "\n",
        "# Print bitwise AND operation\n",
        "print(\"a & b =\", a & b)\n",
        "\n",
        "# Print bitwise OR operation\n",
        "print(\"a | b =\", a | b)\n",
        "\n",
        "# Print bitwise NOT operation\n",
        "print(\"~a =\", ~a)\n",
        "\n",
        "# print bitwise XOR operation\n",
        "print(\"a ^ b =\", a ^ b)"
      ],
      "metadata": {
        "id": "RZ_jZCAB4CLY"
      },
      "execution_count": null,
      "outputs": []
    },
    {
      "cell_type": "markdown",
      "source": [
        "<font color=\"orange\"> **Shift Operators** </font>\n",
        "These operators are used to shift the bits of a number left or right thereby multiplying or dividing the number by two respectively. They can be used when we have to multiply or divide a number by two."
      ],
      "metadata": {
        "id": "vK-mYaIb4Et_"
      }
    },
    {
      "cell_type": "markdown",
      "source": [
        "<font color=\"aqua\"> **7.5. Bitwise left shift:** </font> Shifts the bits of the number to the left and fills 0 on voids left as a result. Similar effect as of multiplying the number with some power of two.\n"
      ],
      "metadata": {
        "id": "vZvrtLWm4O13"
      }
    },
    {
      "cell_type": "code",
      "source": [
        "a = 5   # 0000 0101\n",
        "\n",
        "print(a << 1)  # 0000 1010 <---0--  = 10\n",
        "print(a << 2)  # 0001 0100 <---00-- = 20\n",
        "b = 255\n",
        "print(b << 1)"
      ],
      "metadata": {
        "id": "tkvAsXPJ4OPT",
        "colab": {
          "base_uri": "https://localhost:8080/"
        },
        "outputId": "414e3a23-508e-499b-9ee6-5a28a6962e7b"
      },
      "execution_count": 21,
      "outputs": [
        {
          "output_type": "stream",
          "name": "stdout",
          "text": [
            "10\n",
            "20\n",
            "510\n"
          ]
        }
      ]
    },
    {
      "cell_type": "code",
      "source": [
        "# Python program to show\n",
        "# shift operators\n",
        "\n",
        "a = 10\n",
        "\n",
        "# print bitwise right shift operator\n",
        "print(\"a >> 1 =\", a >> 1)\n",
        "\n",
        "a = 5\n",
        "\n",
        "# print bitwise left shift operator\n",
        "print(\"a << 1 =\", a << 1)\n",
        "print(\"b << 1 =\", b << 1)"
      ],
      "metadata": {
        "id": "2BcPF5xH4WRh"
      },
      "execution_count": null,
      "outputs": []
    },
    {
      "cell_type": "code",
      "source": [
        "# Examples of Bitwise operators\n",
        "a = 10\n",
        "b = 4\n",
        "\n",
        "# Print bitwise AND operation\n",
        "print(a & b)\n",
        "\n",
        "# Print bitwise OR operation\n",
        "print(a | b)\n",
        "\n",
        "# Print bitwise NOT operation\n",
        "print(~a)\n",
        "\n",
        "# print bitwise XOR operation\n",
        "print(a ^ b)\n",
        "\n",
        "# print bitwise right shift operation\n",
        "print(a >> 2)\n",
        "\n",
        "# print bitwise left shift operation\n",
        "print(a << 2)"
      ],
      "metadata": {
        "id": "DPVd6Vm_4aB8"
      },
      "execution_count": null,
      "outputs": []
    },
    {
      "cell_type": "code",
      "source": [
        "# Examples of Logical Operator\n",
        "a = 1  # 01\n",
        "b = 2  # 10\n",
        "\n",
        "# Print \"a\" and \"b\" is False\n",
        "print(a and b)\n",
        "print(a & b)"
      ],
      "metadata": {
        "id": "sgN1vcXz4bwP"
      },
      "execution_count": null,
      "outputs": []
    }
  ]
}