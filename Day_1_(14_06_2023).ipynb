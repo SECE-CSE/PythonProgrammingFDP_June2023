{
  "nbformat": 4,
  "nbformat_minor": 0,
  "metadata": {
    "colab": {
      "provenance": [],
      "authorship_tag": "ABX9TyPj5Hw17Q96dqTz9tDZWdZn",
      "include_colab_link": true
    },
    "kernelspec": {
      "name": "python3",
      "display_name": "Python 3"
    },
    "language_info": {
      "name": "python"
    }
  },
  "cells": [
    {
      "cell_type": "markdown",
      "metadata": {
        "id": "view-in-github",
        "colab_type": "text"
      },
      "source": [
        "<a href=\"https://colab.research.google.com/github/thegeeksam/PythonProgrammingFDP_June2023/blob/main/Day_1_(14_06_2023).ipynb\" target=\"_parent\"><img src=\"https://colab.research.google.com/assets/colab-badge.svg\" alt=\"Open In Colab\"/></a>"
      ]
    },
    {
      "cell_type": "code",
      "execution_count": null,
      "metadata": {
        "colab": {
          "base_uri": "https://localhost:8080/"
        },
        "id": "5cIwMeeOGgp2",
        "outputId": "c61a85b7-1ba5-4d92-a015-fff1c3612c2a"
      },
      "outputs": [
        {
          "output_type": "stream",
          "name": "stdout",
          "text": [
            "BIPIN KUMAR SINGH\n",
            "AGE-37\n",
            "Kinathukadavu, TAMIL NADU\n"
          ]
        }
      ],
      "source": [
        "print(\"BIPIN KUMAR SINGH\")\n",
        "print(\"AGE-37\")\n",
        "print(\"Kinathukadavu, TAMIL NADU\")"
      ]
    },
    {
      "cell_type": "code",
      "source": [
        "print(\"BIPIN KUMAR SINGH \\nAGE-37\\nKinathukadavu,\\n\\tTAMIL NADU\")"
      ],
      "metadata": {
        "colab": {
          "base_uri": "https://localhost:8080/"
        },
        "id": "WeoG-8CpUqWH",
        "outputId": "a50c898c-f5cb-4268-d9e8-a73a259f9a5f"
      },
      "execution_count": null,
      "outputs": [
        {
          "output_type": "stream",
          "name": "stdout",
          "text": [
            "BIPIN KUMAR SINGH \n",
            "AGE-37\n",
            "Kinathukadavu,\n",
            "\tTAMIL NADU\n"
          ]
        }
      ]
    },
    {
      "cell_type": "code",
      "source": [
        "a = input(\"Enter Your Name:\")\n",
        "print(\"Your Name is:\\n\",a)"
      ],
      "metadata": {
        "colab": {
          "base_uri": "https://localhost:8080/"
        },
        "id": "gP-032Goe8Th",
        "outputId": "a4397106-a5f7-4582-9635-23ac2553ee4e"
      },
      "execution_count": null,
      "outputs": [
        {
          "output_type": "stream",
          "name": "stdout",
          "text": [
            "Enter Your Name:Rajthilak\n",
            "Your Name is:\n",
            " Rajthilak\n"
          ]
        }
      ]
    },
    {
      "cell_type": "markdown",
      "source": [
        "# <font color=\"lime\"> Comment"
      ],
      "metadata": {
        "id": "mr0XHQVWMYrL"
      }
    },
    {
      "cell_type": "code",
      "source": [
        "#This is a Sigle line Comment\n",
        "\n",
        "#This is a\n",
        "#multiple line\n",
        "#comment\n",
        "\n",
        "\n",
        "'''\n",
        "This is a\n",
        "also\n",
        "multiple line comment\n",
        "'''\n",
        "\n",
        "\n",
        "\"\"\"\n",
        "This is a\n",
        "also\n",
        "multiple line comment\n",
        "\"\"\""
      ],
      "metadata": {
        "colab": {
          "base_uri": "https://localhost:8080/",
          "height": 35
        },
        "id": "2fGvZ07nMZw1",
        "outputId": "f7e564d7-3d0f-462a-c244-811a94b7f4ad"
      },
      "execution_count": null,
      "outputs": [
        {
          "output_type": "execute_result",
          "data": {
            "text/plain": [
              "'\\nThis is a\\nalso\\nmultiple line comment\\n'"
            ],
            "application/vnd.google.colaboratory.intrinsic+json": {
              "type": "string"
            }
          },
          "metadata": {},
          "execution_count": 2
        }
      ]
    },
    {
      "cell_type": "markdown",
      "source": [
        "# <font color=\"lime\"> Identifiers\n",
        "## <font color=\"yellow\">Identifiers are the names that identify the elements such as variables and functions in aprogram.\n",
        "All identifiers must obey the following rules:\n",
        "* An identifier is a sequence of characters that consists of\n",
        "letters, digits, underscores (_), and asterisk (*).\n",
        "* An identifier **must start** with a **letter or an underscore**. It **cannot start** with a **digit**.\n",
        "* An identifier cannot be a keyword. Keywords, also called reserved words, have special meanings in Python.\n",
        "For example, **import** is a keyword, which tells the Python interpreter to import a module to the program.\n",
        "* An identifier can be of any length.\n",
        "\n",
        "**<font color=\"Red\">\n",
        "Note: Since Python is case sensitive, area, Area, and AREA are all different identifiers.**\n",
        "\n",
        "\n",
        "\n",
        "---"
      ],
      "metadata": {
        "id": "GYeRDalrMlTR"
      }
    },
    {
      "cell_type": "code",
      "source": [
        "myclass = \"CSE\"\n",
        "My_class = \"ECE\"\n",
        "myClass = \"Mech\"\n",
        "MyClass1 = \"IT\"\n",
        "print(myclass)\n",
        "\n",
        "myclass = \"CCE\"\n",
        "print(myclass)\n",
        "\n",
        "#1me = \"hi\"\n",
        "#-me = \"hello\"\n",
        "\n",
        "If = \"hello\"\n",
        "print(If)"
      ],
      "metadata": {
        "id": "n1UMMJ3tMonR"
      },
      "execution_count": null,
      "outputs": []
    },
    {
      "cell_type": "markdown",
      "source": [
        "# <font color=\"lime\"> Totally there are 33 keywords in python\n",
        "<font color=\"yellow\"> 'False', 'None', 'True', 'and', 'as', 'assert', 'async', 'await', 'break', 'class', 'continue', 'def', 'del', 'elif', 'else', 'except', 'finally', 'for', 'from', 'global', 'if', 'import', 'in', 'is', 'lambda', 'nonlocal', 'not', 'or', 'pass', 'raise', 'return', 'try', 'while', 'with', 'yield'\n",
        "\n",
        "\n",
        "\n",
        "---\n",
        "\n"
      ],
      "metadata": {
        "id": "S6jWH2aCMtAv"
      }
    },
    {
      "cell_type": "markdown",
      "source": [
        "# <font color=\"lime\"> **Which of the following identifiers are valid?**\n",
        "* miles\n",
        "* Test\n",
        "* a+b\n",
        "* b–a\n",
        "* 4#R\n",
        "* $4\n",
        "* #44\n",
        "* apps\n",
        "\n",
        "# <font color=\"Yellow\"> **Which are Python keywords?**\n",
        "* if\n",
        "* elif\n",
        "* x\n",
        "* y\n",
        "* radius\n",
        "\n",
        "\n",
        "\n",
        "\n",
        "---\n",
        "\n",
        "\n",
        "\n",
        "\n"
      ],
      "metadata": {
        "id": "I4rO6sk0MwWP"
      }
    },
    {
      "cell_type": "code",
      "source": [
        "'''\n",
        "if\n",
        "If\n",
        "Else\n",
        "else\n",
        "'''\n",
        "Test = 1\n",
        "# Printing Value\n",
        "print(Test)\n",
        "# Printing Data Type of Value\n",
        "print(type(Test))\n",
        "Test = 2.0\n",
        "print(Test)\n",
        "print(type(Test))\n",
        "Test = \"3\"\n",
        "print(Test)\n",
        "print(type(Test))\n",
        "Test = True\n",
        "print(Test)\n",
        "print(type(Test))\n",
        "NmberOfProduct = 10"
      ],
      "metadata": {
        "id": "FUHMX4NcMttH",
        "colab": {
          "base_uri": "https://localhost:8080/"
        },
        "outputId": "ff0fb19e-1c11-4411-e809-3cdfe6fe07f3"
      },
      "execution_count": null,
      "outputs": [
        {
          "output_type": "stream",
          "name": "stdout",
          "text": [
            "1\n",
            "<class 'int'>\n",
            "2.0\n",
            "<class 'float'>\n",
            "3\n",
            "<class 'str'>\n",
            "True\n",
            "<class 'bool'>\n"
          ]
        }
      ]
    },
    {
      "cell_type": "markdown",
      "source": [
        "# <font color=\"lime\"> Variables\n"
      ],
      "metadata": {
        "id": "HIBDID2NM59N"
      }
    },
    {
      "cell_type": "code",
      "source": [
        "# Compute the first area\n",
        "radius = 1.0\n",
        "area = radius * radius * 3.14159\n",
        "print(\"The area is \", area, \" for  radius \", radius)\n",
        "\n",
        "# Compute the second area\n",
        "#radius = 3.0\n",
        "radius = 2.0\n",
        "area = radius * radius * 3.14159\n",
        "print(\"The area is \", area, \" for radius \", radius)\n",
        "\n",
        "#They are called “variables” because they may reference different values."
      ],
      "metadata": {
        "id": "qN4DeJijMw_2",
        "colab": {
          "base_uri": "https://localhost:8080/"
        },
        "outputId": "a500091d-91d6-4450-bede-d40d91e087be"
      },
      "execution_count": null,
      "outputs": [
        {
          "output_type": "stream",
          "name": "stdout",
          "text": [
            "The area is  3.14159  for  radius  1.0\n",
            "The area is  12.56636  for radius  2.0\n"
          ]
        }
      ]
    }
  ]
}