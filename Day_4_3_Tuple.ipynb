{
  "nbformat": 4,
  "nbformat_minor": 0,
  "metadata": {
    "colab": {
      "provenance": [],
      "include_colab_link": true
    },
    "kernelspec": {
      "name": "python3",
      "display_name": "Python 3"
    },
    "language_info": {
      "name": "python"
    }
  },
  "cells": [
    {
      "cell_type": "markdown",
      "metadata": {
        "id": "view-in-github",
        "colab_type": "text"
      },
      "source": [
        "<a href=\"https://colab.research.google.com/github/thegeeksam/PythonProgrammingFDP_June2023/blob/main/Day_4_3_Tuple.ipynb\" target=\"_parent\"><img src=\"https://colab.research.google.com/assets/colab-badge.svg\" alt=\"Open In Colab\"/></a>"
      ]
    },
    {
      "cell_type": "markdown",
      "source": [
        "# <font color = \"Lime\"> Tuple\n",
        "A tuple is an ordered collection of elements, enclosed in parentheses (), and separated by commas. Tuples are similar to lists, but they are <font color = \"Magenta\">**immutable**</font>, which means that once a tuple is created, its elements cannot be changed. Tuples can contain elements of different data types, such as integers, floats, strings, or even other tuples."
      ],
      "metadata": {
        "id": "TapbAzSJPXO4"
      }
    },
    {
      "cell_type": "code",
      "metadata": {
        "id": "cbv9p-WWh7kD",
        "colab": {
          "base_uri": "https://localhost:8080/"
        },
        "outputId": "27a53b06-416f-4071-b956-e60380c013d3"
      },
      "source": [
        "my_tuple1  = ('physics', 'chemistry', 1997, 2000)\n",
        "my_tuple2 = (1, 2, 3, 4, 5 )\n",
        "my_tuple3 = \"a\", \"b\", \"c\", \"d\"\n",
        "print(my_tuple1)\n",
        "print(my_tuple2)\n",
        "print(my_tuple3)"
      ],
      "execution_count": null,
      "outputs": [
        {
          "output_type": "stream",
          "name": "stdout",
          "text": [
            "('physics', 'chemistry', 1997, 2000)\n",
            "(1, 2, 3, 4, 5)\n",
            "('a', 'b', 'c', 'd')\n"
          ]
        }
      ]
    },
    {
      "cell_type": "code",
      "source": [
        "a = \"a\"\n",
        "b = \"b\",\n",
        "print(type(a))\n",
        "print(type(b))"
      ],
      "metadata": {
        "colab": {
          "base_uri": "https://localhost:8080/"
        },
        "id": "taHPrM83Z895",
        "outputId": "92740d68-3f84-4a97-d069-1c48d2b42321"
      },
      "execution_count": null,
      "outputs": [
        {
          "output_type": "stream",
          "name": "stdout",
          "text": [
            "<class 'str'>\n",
            "<class 'tuple'>\n"
          ]
        }
      ]
    },
    {
      "cell_type": "code",
      "metadata": {
        "colab": {
          "base_uri": "https://localhost:8080/"
        },
        "id": "D_KueKmDiNWz",
        "outputId": "a1c026ff-03d5-48a1-e2df-59891c899bc5"
      },
      "source": [
        "tup1 = ('physics', 'chemistry', 1997, 2000)\n",
        "tup2 = (1, 2, 3, 4, 5, 6, 7 )\n",
        "print(\"tup1[0]: \", tup1[0])\n",
        "print(\"tup2[1:5]: \", tup2[1:5])"
      ],
      "execution_count": null,
      "outputs": [
        {
          "output_type": "stream",
          "name": "stdout",
          "text": [
            "tup1[0]:  physics\n",
            "tup2[1:5]:  (2, 3, 4, 5)\n"
          ]
        }
      ]
    },
    {
      "cell_type": "code",
      "metadata": {
        "colab": {
          "base_uri": "https://localhost:8080/"
        },
        "id": "qeu7CSlLiYNG",
        "outputId": "e298b146-3a5d-47fc-c235-a37e0b62bc88"
      },
      "source": [
        "tup1 = (12, 34.56)\n",
        "tup2 = ('abc', 'xyz')\n",
        "tup3 = tup1 + tup2\n",
        "print(tup3)"
      ],
      "execution_count": null,
      "outputs": [
        {
          "output_type": "stream",
          "name": "stdout",
          "text": [
            "(12, 34.56, 'abc', 'xyz')\n"
          ]
        }
      ]
    },
    {
      "cell_type": "code",
      "metadata": {
        "colab": {
          "base_uri": "https://localhost:8080/",
          "height": 241
        },
        "id": "z7tpK7ZJidkH",
        "outputId": "24af8630-5c35-47bc-b768-3de0009c0119"
      },
      "source": [
        "tup = ('physics', 'chemistry', 1997, 2000)\n",
        "print(tup)\n",
        "del tup\n",
        "print(\"After deleting tup : \")\n",
        "print(tup) #Error"
      ],
      "execution_count": null,
      "outputs": [
        {
          "output_type": "stream",
          "name": "stdout",
          "text": [
            "('physics', 'chemistry', 1997, 2000)\n",
            "After deleting tup : \n"
          ]
        },
        {
          "output_type": "error",
          "ename": "NameError",
          "evalue": "ignored",
          "traceback": [
            "\u001b[0;31m---------------------------------------------------------------------------\u001b[0m",
            "\u001b[0;31mNameError\u001b[0m                                 Traceback (most recent call last)",
            "\u001b[0;32m<ipython-input-14-f278bba9c9e8>\u001b[0m in \u001b[0;36m<cell line: 5>\u001b[0;34m()\u001b[0m\n\u001b[1;32m      3\u001b[0m \u001b[0;32mdel\u001b[0m \u001b[0mtup\u001b[0m\u001b[0;34m\u001b[0m\u001b[0;34m\u001b[0m\u001b[0m\n\u001b[1;32m      4\u001b[0m \u001b[0mprint\u001b[0m\u001b[0;34m(\u001b[0m\u001b[0;34m\"After deleting tup : \"\u001b[0m\u001b[0;34m)\u001b[0m\u001b[0;34m\u001b[0m\u001b[0;34m\u001b[0m\u001b[0m\n\u001b[0;32m----> 5\u001b[0;31m \u001b[0mprint\u001b[0m\u001b[0;34m(\u001b[0m\u001b[0mtup\u001b[0m\u001b[0;34m)\u001b[0m\u001b[0;34m\u001b[0m\u001b[0;34m\u001b[0m\u001b[0m\n\u001b[0m",
            "\u001b[0;31mNameError\u001b[0m: name 'tup' is not defined"
          ]
        }
      ]
    },
    {
      "cell_type": "code",
      "metadata": {
        "colab": {
          "base_uri": "https://localhost:8080/"
        },
        "id": "lYlReaI4io2f",
        "outputId": "0fabacb7-d429-41d1-9456-703f2733defb"
      },
      "source": [
        "#Tuples also support various built-in functions, such as len()\n",
        "my_tuple = (1, 2, 3,(\"Hello\",\"World!\",\"How are You!\"),1,2,3,4)\n",
        "print(len(my_tuple))"
      ],
      "execution_count": null,
      "outputs": [
        {
          "output_type": "stream",
          "name": "stdout",
          "text": [
            "8\n"
          ]
        }
      ]
    },
    {
      "cell_type": "code",
      "metadata": {
        "colab": {
          "base_uri": "https://localhost:8080/"
        },
        "id": "vkSAnCoHir2P",
        "outputId": "d3b7b23c-ed06-4f3d-e014-94b1576a0027"
      },
      "source": [
        "print((1, 2, 3) + (4, 5, 6))"
      ],
      "execution_count": null,
      "outputs": [
        {
          "output_type": "stream",
          "name": "stdout",
          "text": [
            "(1, 2, 3, 4, 5, 6)\n"
          ]
        }
      ]
    },
    {
      "cell_type": "code",
      "metadata": {
        "colab": {
          "base_uri": "https://localhost:8080/"
        },
        "id": "eIkiMpdpiurd",
        "outputId": "4be65579-80d9-4da7-818b-c0585f69238c"
      },
      "source": [
        "print(('Hi!',) * 4)"
      ],
      "execution_count": null,
      "outputs": [
        {
          "output_type": "stream",
          "name": "stdout",
          "text": [
            "('Hi!', 'Hi!', 'Hi!', 'Hi!')\n"
          ]
        }
      ]
    },
    {
      "cell_type": "code",
      "metadata": {
        "colab": {
          "base_uri": "https://localhost:8080/"
        },
        "id": "gt3JxM2SiyJ1",
        "outputId": "08acfade-52e9-42b4-b976-5cb90de75e2c"
      },
      "source": [
        "print(3 in (1, 2, 3))"
      ],
      "execution_count": null,
      "outputs": [
        {
          "output_type": "stream",
          "name": "stdout",
          "text": [
            "True\n"
          ]
        }
      ]
    },
    {
      "cell_type": "code",
      "metadata": {
        "colab": {
          "base_uri": "https://localhost:8080/"
        },
        "id": "7L3tzJ8ei1Xv",
        "outputId": "2ab1fe5f-d66b-475a-aed7-afc00b3c6cb1"
      },
      "source": [
        "for x in (1, 2, 3):\n",
        "     print(x)"
      ],
      "execution_count": null,
      "outputs": [
        {
          "output_type": "stream",
          "name": "stdout",
          "text": [
            "1\n",
            "2\n",
            "3\n"
          ]
        }
      ]
    },
    {
      "cell_type": "code",
      "metadata": {
        "id": "uOZhxn-ei8m1"
      },
      "source": [
        "tuple1, tuple2 = (123, 'xyz', 'zara'), (456, 'abc')\n",
        "print(\"First tuple length : \", len(tuple1))\n",
        "print(\"Second tuple length : \", len(tuple2))"
      ],
      "execution_count": null,
      "outputs": []
    },
    {
      "cell_type": "code",
      "metadata": {
        "colab": {
          "base_uri": "https://localhost:8080/"
        },
        "id": "04vQWDFii_Y1",
        "outputId": "237a7da8-6554-4e89-a6b0-47d059498118"
      },
      "source": [
        "tuple1 = (456, 700, 200)\n",
        "print(\"Max value element : \", max(tuple1))"
      ],
      "execution_count": null,
      "outputs": [
        {
          "output_type": "stream",
          "name": "stdout",
          "text": [
            "Max value element :  700\n"
          ]
        }
      ]
    },
    {
      "cell_type": "code",
      "metadata": {
        "colab": {
          "base_uri": "https://localhost:8080/"
        },
        "id": "Bhzzfdp9jDUM",
        "outputId": "7a2925be-f25d-4400-8309-ac0e017fd972"
      },
      "source": [
        "tuple1=(456, 700, 200)\n",
        "\n",
        "print(\"min value element : \", min(tuple1))"
      ],
      "execution_count": null,
      "outputs": [
        {
          "output_type": "stream",
          "name": "stdout",
          "text": [
            "min value element :  200\n"
          ]
        }
      ]
    },
    {
      "cell_type": "code",
      "metadata": {
        "colab": {
          "base_uri": "https://localhost:8080/"
        },
        "id": "-xJ2mdYkjHWT",
        "outputId": "eab2b5d0-4d3a-4585-8c76-1b772f574e00"
      },
      "source": [
        "aList = [123, 'xyz', 'zara', 'abc']\n",
        "aTuple = tuple(aList)\n",
        "print(aTuple)"
      ],
      "execution_count": null,
      "outputs": [
        {
          "output_type": "stream",
          "name": "stdout",
          "text": [
            "(123, 'xyz', 'zara', 'abc')\n"
          ]
        }
      ]
    },
    {
      "cell_type": "code",
      "metadata": {
        "id": "7nswR5pMjJ3d"
      },
      "source": [
        "my_tuple = ()\n",
        "print(my_tuple)\n",
        "\n",
        "# Tuple having integers\n",
        "my_tuple = (1, 2, 3)\n",
        "print(my_tuple)\n",
        "\n",
        "# tuple with mixed datatypes\n",
        "my_tuple = (1, \"Hello\", 3.4)\n",
        "print(my_tuple)\n",
        "\n",
        "# nested tuple\n",
        "my_tuple = (\"mouse\", [8, 4, 6], (1, 2, 3))\n",
        "print(my_tuple)"
      ],
      "execution_count": null,
      "outputs": []
    },
    {
      "cell_type": "code",
      "metadata": {
        "id": "kDprIkApjNBD"
      },
      "source": [
        "my_tuple = 3, 4.6, \"dog\"\n",
        "print(my_tuple)\n",
        "\n",
        "# tuple unpacking is also possible\n",
        "a, b, c = my_tuple\n",
        "\n",
        "print(a)      # 3\n",
        "print(b)      # 4.6\n",
        "print(c)"
      ],
      "execution_count": null,
      "outputs": []
    },
    {
      "cell_type": "code",
      "metadata": {
        "id": "DFinRzEUjPvw"
      },
      "source": [
        "my_tuple = (\"hello\")\n",
        "print(type(my_tuple))  # <class 'str'>\n",
        "\n",
        "# Creating a tuple having one element\n",
        "my_tuple = (\"hello\",)\n",
        "print(type(my_tuple))  # <class 'tuple'>"
      ],
      "execution_count": null,
      "outputs": []
    },
    {
      "cell_type": "code",
      "metadata": {
        "colab": {
          "base_uri": "https://localhost:8080/"
        },
        "id": "UbN8fXCijTMm",
        "outputId": "14f40b21-6660-4e7b-c137-80b9416e5032"
      },
      "source": [
        "my_tuple = ('p','r','o','g','r','a','m','i','z')\n",
        "\n",
        "# elements 2nd to 4th\n",
        "# Output: ('r', 'o', 'g')\n",
        "print(my_tuple[1:4])\n",
        "\n",
        "# elements 8th to end\n",
        "# Output: ('i', 'z')\n",
        "print(my_tuple[7:])\n",
        "\n",
        "# elements beginning to end\n",
        "# Output: ('p', 'r', 'o', 'g', 'r', 'a', 'm', 'i', 'z')\n",
        "print(my_tuple[:])\n"
      ],
      "execution_count": null,
      "outputs": [
        {
          "output_type": "stream",
          "name": "stdout",
          "text": [
            "('r', 'o', 'g')\n",
            "('i', 'z')\n",
            "('p', 'r', 'o', 'g', 'r', 'a', 'm', 'i', 'z')\n"
          ]
        }
      ]
    },
    {
      "cell_type": "markdown",
      "source": [
        "# <font color = \"Lime\"> Methods for Tuples: </font>\n",
        "1. count(): This method returns the number of occurrences of a specified element in a tuple."
      ],
      "metadata": {
        "id": "8LbWuVcQTCpG"
      }
    },
    {
      "cell_type": "code",
      "source": [
        "my_tuple = (1, 2, 3, 2, 4, 2)\n",
        "print(my_tuple.count(2))  # Output: 3"
      ],
      "metadata": {
        "colab": {
          "base_uri": "https://localhost:8080/"
        },
        "id": "lRwoFZiLS_kl",
        "outputId": "bfd42cb9-adcb-44e3-8960-e7c25d9f0ee6"
      },
      "execution_count": null,
      "outputs": [
        {
          "output_type": "stream",
          "name": "stdout",
          "text": [
            "3\n"
          ]
        }
      ]
    },
    {
      "cell_type": "markdown",
      "source": [
        "2. index(): This method returns the index of the first occurrence of a specified element in a tuple."
      ],
      "metadata": {
        "id": "KzFJl9H4TO1M"
      }
    },
    {
      "cell_type": "code",
      "source": [
        "my_tuple = (1, 2, 3, 2, 4, 2)\n",
        "print(my_tuple.index(2))  # Output: 1"
      ],
      "metadata": {
        "colab": {
          "base_uri": "https://localhost:8080/"
        },
        "id": "MyVCnx_TTR-r",
        "outputId": "56c1c840-8014-40d3-ad26-9fafce0e3882"
      },
      "execution_count": null,
      "outputs": [
        {
          "output_type": "stream",
          "name": "stdout",
          "text": [
            "1\n"
          ]
        }
      ]
    },
    {
      "cell_type": "markdown",
      "source": [
        "# <font color = \"Lime\"> Functions for Tuples: </font>\n",
        "\n",
        "1. len(): This function returns the number of elements in a tuple."
      ],
      "metadata": {
        "id": "NfAQ98AwTTq1"
      }
    },
    {
      "cell_type": "code",
      "source": [
        "my_tuple = (1, 2, 3, 4, 5)\n",
        "print(len(my_tuple))  # Output: 5"
      ],
      "metadata": {
        "colab": {
          "base_uri": "https://localhost:8080/"
        },
        "id": "Yk8cxoELTdgK",
        "outputId": "0084ec13-9fe4-4b75-d8ea-485159371f47"
      },
      "execution_count": null,
      "outputs": [
        {
          "output_type": "stream",
          "name": "stdout",
          "text": [
            "5\n"
          ]
        }
      ]
    },
    {
      "cell_type": "markdown",
      "source": [
        "2. sorted(): This function returns a new sorted list containing all the elements of a tuple."
      ],
      "metadata": {
        "id": "Kiielh9gTgfs"
      }
    },
    {
      "cell_type": "code",
      "source": [
        "my_tuple = (5, 3, 1, 4, 2)\n",
        "sorted_tuple = sorted(my_tuple)\n",
        "print(sorted_tuple)  # Output: [1, 2, 3, 4, 5]"
      ],
      "metadata": {
        "colab": {
          "base_uri": "https://localhost:8080/"
        },
        "id": "nLNkhE9_TjHp",
        "outputId": "c88038eb-1bef-4ad4-a410-7934eb4bb44f"
      },
      "execution_count": null,
      "outputs": [
        {
          "output_type": "stream",
          "name": "stdout",
          "text": [
            "[1, 2, 3, 4, 5]\n"
          ]
        }
      ]
    },
    {
      "cell_type": "markdown",
      "source": [
        "3. max(): This function returns the maximum element from a tuple."
      ],
      "metadata": {
        "id": "6ey0mzX0TnWj"
      }
    },
    {
      "cell_type": "code",
      "source": [
        "my_tuple = (5, 3, 1, 4, 2)\n",
        "print(max(my_tuple))  # Output: 5"
      ],
      "metadata": {
        "colab": {
          "base_uri": "https://localhost:8080/"
        },
        "id": "G00nUa8LTox-",
        "outputId": "3bb4fc94-58ed-4390-f93b-63257dd98814"
      },
      "execution_count": null,
      "outputs": [
        {
          "output_type": "stream",
          "name": "stdout",
          "text": [
            "5\n"
          ]
        }
      ]
    },
    {
      "cell_type": "markdown",
      "source": [
        "4. min(): This function returns the minimum element from a tuple."
      ],
      "metadata": {
        "id": "-zC6JDuvTrk2"
      }
    },
    {
      "cell_type": "code",
      "source": [
        "my_tuple = (5, 3, 1, 4, 2)\n",
        "print(min(my_tuple))  # Output: 1"
      ],
      "metadata": {
        "colab": {
          "base_uri": "https://localhost:8080/"
        },
        "id": "2P1vmd4lTsl9",
        "outputId": "f44a32ef-3d0c-4b0b-8e80-51672feb74b9"
      },
      "execution_count": null,
      "outputs": [
        {
          "output_type": "stream",
          "name": "stdout",
          "text": [
            "1\n"
          ]
        }
      ]
    },
    {
      "cell_type": "code",
      "source": [
        "my_tuple = (5, 3, 1, 4, 2)\n",
        "for i in my_tuple:\n",
        "    print(i)"
      ],
      "metadata": {
        "colab": {
          "base_uri": "https://localhost:8080/"
        },
        "id": "bHbMr8BIchvv",
        "outputId": "a0c12ef5-3d50-47fe-e9d2-6fa641a21ac6"
      },
      "execution_count": null,
      "outputs": [
        {
          "output_type": "stream",
          "name": "stdout",
          "text": [
            "5\n",
            "3\n",
            "1\n",
            "4\n",
            "2\n"
          ]
        }
      ]
    },
    {
      "cell_type": "markdown",
      "source": [
        "#<font color = \"orange\">E</font><font color = \"white\">n</font><font color = \"lime\">d</font><font color = \"gray\"> o</font><font color = \"red\">f <font color = \"purple\">S<font color = \"olive\">e</font><font color = \"navy\">s</font><font color = \"fushsia\">s</font><font color = \"teal\">i</font><font color = \"aqua\">o</font><font color = \"blue\">n</font>\n",
        "🥎⚾🎾⚽🏈"
      ],
      "metadata": {
        "id": "5uysz1VVd4Ja"
      }
    }
  ]
}