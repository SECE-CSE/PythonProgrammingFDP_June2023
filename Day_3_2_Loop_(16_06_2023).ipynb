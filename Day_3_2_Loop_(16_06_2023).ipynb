{
  "nbformat": 4,
  "nbformat_minor": 0,
  "metadata": {
    "colab": {
      "provenance": [],
      "authorship_tag": "ABX9TyMQyBF3+z+Tu6u4dFF5BZzl",
      "include_colab_link": true
    },
    "kernelspec": {
      "name": "python3",
      "display_name": "Python 3"
    },
    "language_info": {
      "name": "python"
    }
  },
  "cells": [
    {
      "cell_type": "markdown",
      "metadata": {
        "id": "view-in-github",
        "colab_type": "text"
      },
      "source": [
        "<a href=\"https://colab.research.google.com/github/thegeeksam/PythonProgrammingFDP_June2023/blob/main/Day_3_2_Loop_(16_06_2023).ipynb\" target=\"_parent\"><img src=\"https://colab.research.google.com/assets/colab-badge.svg\" alt=\"Open In Colab\"/></a>"
      ]
    },
    {
      "cell_type": "markdown",
      "metadata": {
        "id": "WQK2cUm-rqkk"
      },
      "source": [
        "# <font color = \"Lime\"> Looping Statement </font>\n",
        "\n",
        "## A loop can be used to tell a program to execute statements repeatedly.\n",
        "\n",
        "Suppose that you need to print a string (e.g., \"Programming is fun!\") a 100 times. It would be tedious to have to write the following statement a 100 times:\n",
        "\n",
        "print(\"Programming is fun!\")\n",
        "\n",
        "\n"
      ]
    },
    {
      "cell_type": "markdown",
      "metadata": {
        "id": "LKci1rCQsYxU"
      },
      "source": [
        "# <font color = \"Lime\"> **while** Loop </font>\n",
        "while loop executes a set of statements <font color = \"aqua\"> repeatedly </font>  as long as a condition remains <font color = \"aqua\"> true</font>.\n",
        "\n",
        "**Syntax for the\n",
        "while loop:**\n",
        "\n",
        "<font color = \"aqua\">\n",
        "*while condition:*\n",
        "\n",
        "<font color = \"aqua\"> &emsp;&emsp; *#Loop body*\n",
        "\n",
        "<font color = \"aqua\"> &emsp;&emsp; *Statement(s)*\n",
        "\n",
        "A single execution of a loop body is called an <font color = \"yellow\"> **iteration (or repetition)** </font> of the loop.\n",
        "\n",
        "\n",
        "![While Loop.PNG](data:image/png;base64,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)\n"
      ]
    },
    {
      "cell_type": "code",
      "metadata": {
        "id": "MMUM1ZSirHYm"
      },
      "source": [
        "count = 0\n",
        "while count <= 10:\n",
        "    print(\"Programming is fun!\")\n",
        "    count = count + 1"
      ],
      "execution_count": null,
      "outputs": []
    },
    {
      "cell_type": "code",
      "metadata": {
        "id": "zAAVSyZ6CbpQ"
      },
      "source": [
        "#sum of \"n\" numbers\n",
        "iA = eval(input(\"Enter a number: \"))\n",
        "sum = 0\n",
        "i = 1\n",
        "while i <= iA:\n",
        "    sum += i\n",
        "    i += 1\n",
        "print(\"sum is \", sum)"
      ],
      "execution_count": null,
      "outputs": []
    },
    {
      "cell_type": "markdown",
      "metadata": {
        "id": "B-6sEIMhET_c"
      },
      "source": [
        "Make sure that the loop-continuation-condition eventually becomes # <font color = \"Lime\"> false </font> so\n",
        "that the loop will terminate.\n",
        "\n",
        "A common programming error involves infinite loops (i.e.,\n",
        "the loop runs forever)."
      ]
    },
    {
      "cell_type": "code",
      "metadata": {
        "id": "2sREhSZyFZj8"
      },
      "source": [
        "iA = 1\n",
        "sum = 0\n",
        "\n",
        "while iA != 0 : # No guarantee item will be 0\n",
        "    sum += iA\n",
        "    iA -= 0.1\n",
        "\n",
        "print(sum)"
      ],
      "execution_count": null,
      "outputs": []
    },
    {
      "cell_type": "code",
      "metadata": {
        "id": "2mOXbXxgFyMZ"
      },
      "source": [
        "### ---> Guess the Result <--- ###\n",
        "i = 1\n",
        "while i < 10:\n",
        "    if i % 2 == 0:\n",
        "        print(i)\n",
        ""
      ],
      "execution_count": null,
      "outputs": []
    },
    {
      "cell_type": "code",
      "metadata": {
        "id": "EgglyySSGWFh"
      },
      "source": [
        "### ---> Guess the Result <--- ###\n",
        "i = 1\n",
        "while i < 10:\n",
        "    if i % 2 == 0:\n",
        "        print(i)\n",
        "        i += 1"
      ],
      "execution_count": null,
      "outputs": []
    },
    {
      "cell_type": "code",
      "metadata": {
        "id": "gUnHPAITGl2v"
      },
      "source": [
        "### ---> Guess the Result <--- ###\n",
        "i = 1\n",
        "while i <= 10:\n",
        "    if i % 2 == 0:\n",
        "        print(i)\n",
        "    i += 1"
      ],
      "execution_count": null,
      "outputs": []
    },
    {
      "cell_type": "markdown",
      "metadata": {
        "id": "bKraQMTpO2sm"
      },
      "source": [
        "#<font color = \"Lime\">\"else\" statement for while loop</font>\n",
        "\n",
        "A while loop may have an else statement after it.\n",
        "\n",
        "When the condition becomes <font color = \"yellow\">**false**</font>, the block under the else statement is executed.\n",
        "\n",
        "However, it doesn’t execute if you break out of the loop or if an exception is raised."
      ]
    },
    {
      "cell_type": "code",
      "metadata": {
        "id": "apDGxNbRO2Sv"
      },
      "source": [
        "a = 3\n",
        "while(a > 0):\n",
        "    print(a)\n",
        "    a -= 1\n",
        "else:\n",
        "    print(\"Reached 0\")"
      ],
      "execution_count": null,
      "outputs": []
    },
    {
      "cell_type": "markdown",
      "metadata": {
        "id": "reqk4XoeG0t4"
      },
      "source": [
        "#<font color = \"Lime\">for Loop</font>\n",
        "## <font color = \"aqua\"> A Python for loop iterates through each value in a sequence.</font>\n",
        "\n",
        "If you know exactly how many times the loop body needs to be executed, a control\n",
        "variable can be used to count the executions.\n",
        "\n",
        "A loop of this type is called a <font color = \"yellow\">counter-controlled loop</font>.\n",
        "\n",
        "**Syntax:**\n",
        "\n",
        "<font color = \"yellow\">for </font> var <font color = \"yellow\">in</font> range (initialValue, endValue):\n",
        "\n",
        "<font color = \"yellow\"># Loop body"
      ]
    },
    {
      "cell_type": "code",
      "metadata": {
        "id": "NNu52G5IJPjo"
      },
      "source": [
        "for v in range(10):\n",
        "    print(v)"
      ],
      "execution_count": null,
      "outputs": []
    },
    {
      "cell_type": "code",
      "metadata": {
        "id": "Az1VFCmaI8l6"
      },
      "source": [
        "for v in range(4, 8):\n",
        "    print(v)"
      ],
      "execution_count": null,
      "outputs": []
    },
    {
      "cell_type": "code",
      "metadata": {
        "id": "loQHsur3JEql"
      },
      "source": [
        "#step value\n",
        "for v in range(1, 9, 3):\n",
        "    print(v, end = \" \")"
      ],
      "execution_count": null,
      "outputs": []
    },
    {
      "cell_type": "code",
      "metadata": {
        "id": "GjxhiiotJdPn"
      },
      "source": [
        "sum = 0\n",
        "for count in range(5):\n",
        "    number = eval(input(\"Enter an integer: \"))\n",
        "    sum += number #sum = sum + number\n",
        "    print(\"count is:\",count)\n",
        "\n",
        "print(\"sum is\", sum)"
      ],
      "execution_count": null,
      "outputs": []
    },
    {
      "cell_type": "code",
      "source": [
        "a = input()\n",
        "for i in range(len(a)):\n",
        "    if a[i].isupper():\n",
        "        print(a[i].lower(),end = \"\")\n",
        "    else:\n",
        "        print(a[i].upper(),end = \"\")"
      ],
      "metadata": {
        "id": "qaheCOtBUOLk"
      },
      "execution_count": null,
      "outputs": []
    },
    {
      "cell_type": "code",
      "source": [
        "sA = input().split(\" \")\n",
        "iA = -1\n",
        "for iB in range(len(sA)):\n",
        "    print(sA[iA],end = \" \")\n",
        "    iA -= 1"
      ],
      "metadata": {
        "id": "gO3XA_1kUctA"
      },
      "execution_count": null,
      "outputs": []
    },
    {
      "cell_type": "markdown",
      "metadata": {
        "id": "biW15tHsPpc3"
      },
      "source": [
        "#<font color = \"Lime\">\"else\" statement for for-loop</font>\n",
        "\n",
        "Like a while loop, a for-loop may also have an else statement after it.\n",
        "\n",
        "When the loop is exhausted, the block under the else statement executes."
      ]
    },
    {
      "cell_type": "code",
      "metadata": {
        "id": "tFnY17smPpPl"
      },
      "source": [
        "for i in range(5):\n",
        "    print(i)\n",
        "else:\n",
        "    print(\"Reached else\")"
      ],
      "execution_count": null,
      "outputs": []
    },
    {
      "cell_type": "markdown",
      "metadata": {
        "id": "zGSCXX5CJ_JX"
      },
      "source": [
        "#<font color = \"Lime\"> Nested Loops</font>\n",
        "\n",
        "*A loop can be nested inside another loop.*\n",
        "\n",
        "\n",
        "Nested loops consist of an outer loop and one or more inner loops.\n",
        "<font color = \"aqua\">\n",
        "Each time the outer loop is repeated, the inner loops are reentered and started a new.\n",
        "\n"
      ]
    },
    {
      "cell_type": "code",
      "metadata": {
        "id": "pHSxmt9tKlnW"
      },
      "source": [
        "#Nested 'for' loop\n",
        "for i in range(1,6):\n",
        "    for j in range(i):\n",
        "        print(\"*\",end=' ')\n",
        "    print()"
      ],
      "execution_count": null,
      "outputs": []
    },
    {
      "cell_type": "code",
      "metadata": {
        "id": "N8j71DQNQbWS"
      },
      "source": [
        "#Nested 'while' loop\n",
        "i = 6\n",
        "while(i > 0):\n",
        "    j = 6\n",
        "    while(j > i):\n",
        "        print(\"*\",end = ' ')\n",
        "        j -= 1\n",
        "    i -= 1\n",
        "    print()"
      ],
      "execution_count": null,
      "outputs": []
    },
    {
      "cell_type": "markdown",
      "metadata": {
        "id": "PV49m_s3Qshe"
      },
      "source": [
        "#<font color = \"Lime\">Loop Control Statements</font>\n",
        "\n",
        "\n",
        "The <font color = \"aqua\">break</font>, <font color = \"fushsia\">continue</font> and <font color = \"yellow\"> pass</font> keywords provide additional controls to a loop."
      ]
    },
    {
      "cell_type": "markdown",
      "metadata": {
        "id": "v-h64xdwRvbE"
      },
      "source": [
        "## <font color = \"aqua\">\"break\" statement</font>\n",
        "\n",
        "When you put a break statement in the body of a loop, the loop stops executing, and control shifts to the <font color = \"yellow\">first statement</font> outside it."
      ]
    },
    {
      "cell_type": "code",
      "metadata": {
        "id": "lTAfiXzQSMs8",
        "colab": {
          "base_uri": "https://localhost:8080/"
        },
        "outputId": "9cc574bc-de3c-4626-83cf-8a54bbb450e1"
      },
      "source": [
        "for i in 'break':\n",
        "    print(i)\n",
        "    if i == 'a':\n",
        "        break\n",
        "        print(\"Hello Friends!!!\")"
      ],
      "execution_count": 6,
      "outputs": [
        {
          "output_type": "stream",
          "name": "stdout",
          "text": [
            "b\n",
            "r\n",
            "e\n",
            "a\n"
          ]
        }
      ]
    },
    {
      "cell_type": "markdown",
      "metadata": {
        "id": "xYIJL-5lS960"
      },
      "source": [
        "## <font color = \"fushsia\">\"continue\" statement</font>\n",
        "\n",
        "When <font color = \"aqua\">\"continue\" </font> is encountered, it ends the <font color = \"lime\">current\n",
        "iteration</font> and program control goes to the <font color = \"lime\">end of the loop body</font>.\n",
        "\n",
        "In other words,\n",
        "\n",
        "continue keyword <font color = \"lime\">breaks out of an iteration</font>\n",
        "\n",
        "break keyword <font color = \"lime\">breaks out of a loop</font>."
      ]
    },
    {
      "cell_type": "code",
      "metadata": {
        "id": "JsIomUzYS8Qp",
        "colab": {
          "base_uri": "https://localhost:8080/"
        },
        "outputId": "821afe43-fe60-4a35-9d92-dde1407e336c"
      },
      "source": [
        "for i in 'break':\n",
        "    if i == 'e':\n",
        "        continue\n",
        "        print(\"Hello Friends!!!\")\n",
        "    print(i)"
      ],
      "execution_count": 8,
      "outputs": [
        {
          "output_type": "stream",
          "name": "stdout",
          "text": [
            "b\n",
            "r\n",
            "a\n",
            "k\n"
          ]
        }
      ]
    },
    {
      "cell_type": "markdown",
      "metadata": {
        "id": "ffERzDU6U_MO"
      },
      "source": [
        "## <font color = \"yellow\">\"pass\" statement</font>\n",
        "\n",
        "* The pass statement is a null statement.\n",
        "\n",
        "* But the difference between pass and comment is that <font color = \"lime\">**comment**</font> is <font color = \"lime\">ignored</font> by the interpreter whereas <font color = \"lime\">**pass**</font> is <font color = \"lime\">not ignored</font>.\n",
        "\n",
        "* The pass statement is generally used as a placeholder i.e. when the user does not know what code to write.\n",
        "\n",
        "* So user simply places <font color = \"lime\">**pass**</font>  at that line."
      ]
    },
    {
      "cell_type": "code",
      "metadata": {
        "id": "8t5bfKhxVo_E"
      },
      "source": [
        "li =['a', 'b', 'c', 'd']\n",
        "\n",
        "for i in li:\n",
        "    if(i =='a'):\n",
        "        pass\n",
        "    else:\n",
        "        print(i)"
      ],
      "execution_count": null,
      "outputs": []
    },
    {
      "cell_type": "markdown",
      "metadata": {
        "id": "rksxW_ugWxTQ"
      },
      "source": [
        "#<font color = \"orange\">E</font><font color = \"white\">n</font><font color = \"lime\">d</font><font color = \"gray\"> o</font><font color = \"red\">f <font color = \"purple\">S<font color = \"olive\">e</font><font color = \"navy\">s</font><font color = \"fushsia\">s</font><font color = \"teal\">i</font><font color = \"aqua\">o</font><font color = \"blue\">n</font>\n",
        "🥎⚾🎾⚽🏈\n",
        "\n",
        "\n",
        "\n",
        "\n",
        "\n",
        "\n"
      ]
    }
  ]
}