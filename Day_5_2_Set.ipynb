{
  "nbformat": 4,
  "nbformat_minor": 0,
  "metadata": {
    "colab": {
      "provenance": []
    },
    "kernelspec": {
      "name": "python3",
      "display_name": "Python 3"
    },
    "language_info": {
      "name": "python"
    }
  },
  "cells": [
    {
      "cell_type": "markdown",
      "source": [
        "# <font color = \"Lime\"> Python Set  </font>\n",
        "\n",
        "A set is an <font color = magenta>**unordered collection**</font> of unique elements. It is a built-in data structure that allows you to store a collection of items without any duplicate values.\n",
        "\n",
        " Sets are mutable, which means you can add or remove elements from them. Sets are useful when you need to work with unique elements or perform mathematical set operations like union, intersection, and difference"
      ],
      "metadata": {
        "id": "oRQhj_ecV3cg"
      }
    },
    {
      "cell_type": "code",
      "source": [
        "my_set = {1, 2, 3, 4, 5, 1, 3}\n",
        "print(my_set)"
      ],
      "metadata": {
        "colab": {
          "base_uri": "https://localhost:8080/"
        },
        "id": "GrNjA_m2XkAD",
        "outputId": "f11b9d4a-52b2-4bc0-afd0-402dfedf0aee"
      },
      "execution_count": 3,
      "outputs": [
        {
          "output_type": "stream",
          "name": "stdout",
          "text": [
            "{1, 2, 3, 4, 5}\n"
          ]
        }
      ]
    },
    {
      "cell_type": "markdown",
      "source": [
        "You can also create a set using the <font color = magenta>**set()** </font> constructor and passing an iterable (such as a list or tuple) as an argument:"
      ],
      "metadata": {
        "id": "AIyVjgg-XyFe"
      }
    },
    {
      "cell_type": "code",
      "source": [
        "my_list = [1, 1, 2, 2, 3, 3, 4, 5, 5, 4]\n",
        "my_set = set(my_list)\n",
        "print(my_set)"
      ],
      "metadata": {
        "id": "STmEq-SVabki"
      },
      "execution_count": null,
      "outputs": []
    },
    {
      "cell_type": "markdown",
      "source": [
        "Sets automatically remove duplicate elements, so if you have duplicate values in the iterable, they will be reduced to unique elements in the resulting set."
      ],
      "metadata": {
        "id": "_cJDE8ZqbFrv"
      }
    },
    {
      "cell_type": "code",
      "metadata": {
        "id": "HemElhGdEB-D"
      },
      "source": [
        "# Different types of sets in Python\n",
        "# set of integers\n",
        "my_set = {1, 2, 3}\n",
        "print(my_set)\n",
        "\n",
        "# set of \"mixed datatypes\"\n",
        "my_set = {1.0, \"Hello\", (1, 2, 3)} # {float, string, tuple}\n",
        "print(my_set)"
      ],
      "execution_count": null,
      "outputs": []
    },
    {
      "cell_type": "code",
      "source": [
        "# Distinguish set and dictionary while creating empty set\n",
        "# initialize a with {}\n",
        "a = {}\n",
        "\n",
        "# check data type of \"a\"\n",
        "print(type(a))\n",
        "\n",
        "# initialize \"a\" with set()\n",
        "a = set() # \"set()\" is a predefined function\n",
        "\n",
        "# check data type of \"a\"\n",
        "print(type(a))"
      ],
      "metadata": {
        "id": "XR0rewwvcWM9"
      },
      "execution_count": null,
      "outputs": []
    },
    {
      "cell_type": "markdown",
      "source": [
        "## <font color = greem> **Properties and Operations:**</font>\n",
        "1. <font color = magenta>**Unique Elements:**</font> Sets only contain unique elements. If you try to add a duplicate element, it will be ignored:"
      ],
      "metadata": {
        "id": "lR3qrZr9bKrf"
      }
    },
    {
      "cell_type": "code",
      "source": [
        "my_set = {1, 2, 3}\n",
        "my_set.add(4)\n",
        "my_set.add(2)  # Ignored, already present\n",
        "print(my_set)  # Output: {1, 2, 3, 4}"
      ],
      "metadata": {
        "id": "J-RHxRttbgh9"
      },
      "execution_count": null,
      "outputs": []
    },
    {
      "cell_type": "markdown",
      "source": [
        "2. <font color = magenta>**Set Operations:**</font> Sets support various set operations such as union (|), intersection (&), difference (-), and symmetric difference (^):"
      ],
      "metadata": {
        "id": "Kb5hmLAVcGA1"
      }
    },
    {
      "cell_type": "code",
      "source": [
        "set1 = {1, 2, 3, 4}\n",
        "set2 = {3, 4, 5, 6}\n",
        "\n",
        "union_set = set1 | set2             # Union\n",
        "intersection_set = set1 & set2      # Intersection\n",
        "difference_set = set1 - set2        # Difference (elements in set1 but not in set2)\n",
        "symmetric_difference_set = set1 ^ set2   # Symmetric Difference (elements in set1 or set2 but not in both)\n",
        "\n",
        "print(union_set)                    # Output: {1, 2, 3, 4, 5, 6}\n",
        "print(intersection_set)             # Output: {3, 4}\n",
        "print(difference_set)               # Output: {1, 2}\n",
        "print(symmetric_difference_set)     # Output: {1, 2, 5, 6}"
      ],
      "metadata": {
        "colab": {
          "base_uri": "https://localhost:8080/"
        },
        "id": "eALLp5y_cO7E",
        "outputId": "b1556e37-0138-4baa-d4a8-51b2b0e5ec12"
      },
      "execution_count": 19,
      "outputs": [
        {
          "output_type": "stream",
          "name": "stdout",
          "text": [
            "{1, 2, 3, 4, 5, 6}\n",
            "{3, 4}\n",
            "{1, 2}\n",
            "{1, 2, 5, 6}\n"
          ]
        }
      ]
    },
    {
      "cell_type": "markdown",
      "source": [
        "3. <font color = magenta>**Membership Testing:** </font> You can test if an element is present in a set using the in operator:"
      ],
      "metadata": {
        "id": "uTjseCuBccbv"
      }
    },
    {
      "cell_type": "code",
      "source": [
        "my_set = {1, 2, 3, 4, 5}\n",
        "print(3 in my_set)      # Output: True\n",
        "print(6 in my_set)      # Output: False"
      ],
      "metadata": {
        "id": "5UZM3Wjhch_p"
      },
      "execution_count": null,
      "outputs": []
    },
    {
      "cell_type": "markdown",
      "source": [
        "4. <font color = magenta>**Mutable Operations:** </font>  Sets allow adding and removing elements using methods like add(), remove(), discard(), and pop():"
      ],
      "metadata": {
        "id": "V31qab3NcsLl"
      }
    },
    {
      "cell_type": "code",
      "source": [
        "my_set = {0, 1, 2, 3}\n",
        "\n",
        "my_set.add(4)            # Add a single element to set\n",
        "my_set.update([5, 6, 7]) # update values in a set\n",
        "print(my_set)\n",
        "\n",
        "# Remove element an elemet if present else KeyError  is rised\n",
        "my_set.remove(2)\n",
        "my_set.discard(5)        # Discard element (no error if not present)\n",
        "element = my_set.pop()   # Remove and return an arbitrary element\n",
        "\n",
        "print(my_set)\n",
        "print(element)\n"
      ],
      "metadata": {
        "colab": {
          "base_uri": "https://localhost:8080/"
        },
        "id": "jNFaa7WucyN7",
        "outputId": "9e498e5b-f880-4a57-d1d7-ed62c76f5bf8"
      },
      "execution_count": 13,
      "outputs": [
        {
          "output_type": "stream",
          "name": "stdout",
          "text": [
            "{0, 1, 2, 3, 4, 5, 6, 7}\n",
            "{1, 3, 4, 6, 7}\n",
            "0\n"
          ]
        }
      ]
    },
    {
      "cell_type": "code",
      "metadata": {
        "id": "2ZEL51WDGM3y"
      },
      "source": [
        "my_set = set(\"HelloWorld\")\n",
        "print(my_set)"
      ],
      "execution_count": null,
      "outputs": []
    },
    {
      "cell_type": "code",
      "metadata": {
        "id": "yjlwUReLGZeD"
      },
      "source": [
        "print(my_set.pop())#"
      ],
      "execution_count": null,
      "outputs": []
    },
    {
      "cell_type": "code",
      "metadata": {
        "id": "Ws1ke0nHXAX9"
      },
      "source": [
        "print(my_set.pop())"
      ],
      "execution_count": null,
      "outputs": []
    },
    {
      "cell_type": "code",
      "metadata": {
        "id": "R2cl_oO_XCu1"
      },
      "source": [
        "print(my_set.pop())"
      ],
      "execution_count": null,
      "outputs": []
    },
    {
      "cell_type": "code",
      "metadata": {
        "id": "WAIOwHDcGkwT"
      },
      "source": [
        "my_set.clear()\n",
        "print(my_set)"
      ],
      "execution_count": null,
      "outputs": []
    }
  ]
}