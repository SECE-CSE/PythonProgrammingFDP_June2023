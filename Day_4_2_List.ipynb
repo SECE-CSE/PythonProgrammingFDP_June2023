{
  "nbformat": 4,
  "nbformat_minor": 0,
  "metadata": {
    "colab": {
      "provenance": []
    },
    "kernelspec": {
      "name": "python3",
      "display_name": "Python 3"
    },
    "language_info": {
      "name": "python"
    }
  },
  "cells": [
    {
      "cell_type": "markdown",
      "metadata": {
        "id": "pDur9vP1X7JY"
      },
      "source": [
        "# <font color = \"Lime\"> List: </font>\n",
        "\n",
        "It is used to store a list of values of <font color = \"aqua\">**any type**</font>.\n",
        "\n",
        "lists are <font color = \"aqua\">*Mutable* </font>.\n",
        "\n",
        "[&nbsp;]&emsp;&emsp;&emsp;&emsp;&emsp;&emsp;&nbsp;<font color = \"yellow\">List with no member, empty list\n",
        "\n",
        "[1, 2, 3]  &emsp;&emsp;&emsp;&emsp;&nbsp;<font color = \"yellow\"> List of integers\n",
        "\n",
        "[1, 2.5, 3.7, 8]&emsp;&emsp;<font color = \"yellow\"> List of numbers(integer and floating point)\n",
        "\n",
        "['a', 'b', 'c'] &emsp;&emsp;&ensp;&emsp;<font color = \"yellow\">  List of characters\n",
        "\n",
        "\n",
        "['a', 1, 3.5, 'python']  <font color = \"yellow\">List of mixed value types\n",
        "\n",
        "['hai', 'hello']  &emsp;&emsp;&nbsp; <font color = \"yellow\">List of strings"
      ]
    },
    {
      "cell_type": "markdown",
      "metadata": {
        "id": "UfYglFTSZyaR"
      },
      "source": [
        "#<font color = \"Lime\">Creating List\n",
        "\n",
        "To create a list, put a number of expressions in <font color = \"aqua\">square brackets.\n",
        "\n",
        "[&nbsp;] indicates the start and end of the list.\n",
        "\n",
        "seperate the item by comma<font color = \"aqua\"> ( , ).\n",
        "\n"
      ]
    },
    {
      "cell_type": "code",
      "source": [
        "#The empty list:\n",
        "emptyList = list()\n",
        "print(emptyList)"
      ],
      "metadata": {
        "colab": {
          "base_uri": "https://localhost:8080/"
        },
        "id": "Ex0oMDTUyfq1",
        "outputId": "ec522335-74fc-41ca-cf89-64c6b1769466"
      },
      "execution_count": 5,
      "outputs": [
        {
          "output_type": "stream",
          "name": "stdout",
          "text": [
            "[]\n"
          ]
        }
      ]
    },
    {
      "cell_type": "code",
      "source": [
        "# Long list: It contains many elements\n",
        "newList = [0, 1, 2, 3, 4, 5, 6, 7, 8, 9]\n",
        "print (newList)\n",
        "\n",
        "#Nested lists\n",
        "nestedList = [3, 4, [5, 6], 7]\n",
        "print(nestedList)"
      ],
      "metadata": {
        "colab": {
          "base_uri": "https://localhost:8080/"
        },
        "id": "LaotjIbMyjiB",
        "outputId": "63744490-753f-43d9-c17d-c05d08a05025"
      },
      "execution_count": 7,
      "outputs": [
        {
          "output_type": "stream",
          "name": "stdout",
          "text": [
            "[0, 1, 2, 3, 4, 5, 6, 7, 8, 9]\n",
            "[3, 4, [5, 6], 7]\n"
          ]
        }
      ]
    },
    {
      "cell_type": "markdown",
      "metadata": {
        "id": "v5tGaT4CixhQ"
      },
      "source": [
        "## <font color = \"Lime\"> Accessing list\n",
        "\n",
        "* Forward indexing\n",
        "\n",
        "* backward indexing\n",
        "\n",
        "<font color = \"magenta\">**lists are similar to strings in following ways**\n",
        "\n",
        "* length\n",
        "* Indexing and slicing\n",
        "* Membership Operators\n",
        "* Concatenation and replication opeartors + and *"
      ]
    },
    {
      "cell_type": "markdown",
      "metadata": {
        "id": "EdvzQbDpkF1u"
      },
      "source": [
        "#<font color = \"magenta\">List operations\n",
        "\n",
        "* Joining list\n",
        "* Replicating list\n",
        "* Slicing the list\n",
        "\n"
      ]
    },
    {
      "cell_type": "markdown",
      "metadata": {
        "id": "rCXRZvOqo6Yn"
      },
      "source": [
        "# <font color = \"aqua\">List functions and method\n",
        "\n",
        "* index: list.index(item)\n",
        "* Append: list.append(item)\n",
        "* Extend: list.extend(list)\n",
        "* insert: list.insert(pos,item)\n",
        "* pop: list.pop(index)\n",
        "* remove: list.remove(value)\n",
        "* clear: list.clear()\n",
        "* count: list.count(item)\n",
        "* reverse: list.reverse()\n",
        "* sort:list.sort()"
      ]
    },
    {
      "cell_type": "code",
      "source": [
        "#index(item): Returns the index of the first occurrence of item in the list.\n",
        "L = [ 8, 9, 0, 1, 5, 6, 7, 2, 3, 4,]\n",
        "print(L.index(3))"
      ],
      "metadata": {
        "colab": {
          "base_uri": "https://localhost:8080/"
        },
        "id": "a65lIpGmT60o",
        "outputId": "25f70b3f-211c-41ad-de70-3c0d8fe9e2d7"
      },
      "execution_count": 13,
      "outputs": [
        {
          "output_type": "stream",
          "name": "stdout",
          "text": [
            "8\n"
          ]
        }
      ]
    },
    {
      "cell_type": "code",
      "source": [
        "# append(item): Adds item to the end of the list.\n",
        "my_list = ['a', 'b','c']\n",
        "L.append(my_list)\n",
        "print(L)\n",
        "L.append(\"Hello\",)\n",
        "print(L)"
      ],
      "metadata": {
        "id": "rkm75pLOWRuV"
      },
      "execution_count": null,
      "outputs": []
    },
    {
      "cell_type": "code",
      "source": [
        "#extend(list): Appends all elements from list to the end of the original list.\n",
        "L2 = ['x', 'y','z']\n",
        "my_list.extend(L2)\n",
        "print(my_list)"
      ],
      "metadata": {
        "colab": {
          "base_uri": "https://localhost:8080/"
        },
        "id": "Kla4TGf4V92q",
        "outputId": "47419d46-b1f6-4a2c-a9dc-cbab42c6adee"
      },
      "execution_count": 17,
      "outputs": [
        {
          "output_type": "stream",
          "name": "stdout",
          "text": [
            "['a', 'b', 'c', 'x', 'y', 'z']\n"
          ]
        }
      ]
    },
    {
      "cell_type": "code",
      "source": [
        "# insert(pos, item): Inserts item at the specified pos index in the list\n",
        "L = [ 8, 9, 0, 1, 5, 6, 7, 2, 3, 4,10]\n",
        "print(L)\n",
        "L.insert(0, 3.14)\n",
        "print(L)"
      ],
      "metadata": {
        "colab": {
          "base_uri": "https://localhost:8080/"
        },
        "id": "3eIuw2v2W88E",
        "outputId": "d3b957b8-7d96-46ef-d537-21d513d65c5b"
      },
      "execution_count": 20,
      "outputs": [
        {
          "output_type": "stream",
          "name": "stdout",
          "text": [
            "[8, 9, 0, 1, 5, 6, 7, 2, 3, 4, 10]\n",
            "[3.14, 8, 9, 0, 1, 5, 6, 7, 2, 3, 4, 10]\n"
          ]
        }
      ]
    },
    {
      "cell_type": "code",
      "source": [
        "#pop(index): Removes and returns the element at the specified index in the list.\n",
        "L = [ 8, 9, 0, 1, 5, 6, 7, 2, 3, 4, 10]\n",
        "print(L)\n",
        "L.pop(8)\n",
        "print(L)"
      ],
      "metadata": {
        "colab": {
          "base_uri": "https://localhost:8080/"
        },
        "id": "7H1NQeXwYCgx",
        "outputId": "0a3496d5-f833-49cb-f434-ef3c6076effe"
      },
      "execution_count": 23,
      "outputs": [
        {
          "output_type": "stream",
          "name": "stdout",
          "text": [
            "[8, 9, 0, 1, 5, 6, 7, 2, 3, 4, 10]\n",
            "[8, 9, 0, 1, 5, 6, 7, 2, 4, 10]\n"
          ]
        }
      ]
    },
    {
      "cell_type": "code",
      "source": [
        "#remove(value): Removes the first occurrence of value from the list.\n",
        "L = [ 8, 9, 0, 1, 5, 6, 7, 2, 3, 0, 10]\n",
        "print(L)\n",
        "L.remove(0)\n",
        "print(L)"
      ],
      "metadata": {
        "colab": {
          "base_uri": "https://localhost:8080/"
        },
        "id": "aj5QR9KhYawm",
        "outputId": "c46770d6-66b0-4b08-87a0-a2bc1386be2a"
      },
      "execution_count": 25,
      "outputs": [
        {
          "output_type": "stream",
          "name": "stdout",
          "text": [
            "[8, 9, 0, 1, 5, 6, 7, 2, 3, 0, 10]\n",
            "[8, 9, 1, 5, 6, 7, 2, 3, 0, 10]\n"
          ]
        }
      ]
    },
    {
      "cell_type": "code",
      "source": [
        "#count(item): Returns the number of occurrences of item in the list.\n",
        "L = [ 8, 9, 0, 1, 5, 6, 7, 2, 3, 0, 10]\n",
        "print(L)\n",
        "L.count(0)"
      ],
      "metadata": {
        "colab": {
          "base_uri": "https://localhost:8080/"
        },
        "id": "-Ok6mi73YvJG",
        "outputId": "435ede7b-ea9e-40b1-9bb6-dbd6431a79a0"
      },
      "execution_count": 27,
      "outputs": [
        {
          "output_type": "stream",
          "name": "stdout",
          "text": [
            "[8, 9, 0, 1, 5, 6, 7, 2, 3, 0, 10]\n"
          ]
        },
        {
          "output_type": "execute_result",
          "data": {
            "text/plain": [
              "2"
            ]
          },
          "metadata": {},
          "execution_count": 27
        }
      ]
    },
    {
      "cell_type": "code",
      "source": [
        "#reverse(): Reverses the order of elements in the list.\n",
        "L.reverse()\n",
        "print(L)"
      ],
      "metadata": {
        "colab": {
          "base_uri": "https://localhost:8080/"
        },
        "id": "rVEP81yjZlWq",
        "outputId": "50eaa824-254d-4623-fa80-9ba5db7c3673"
      },
      "execution_count": 28,
      "outputs": [
        {
          "output_type": "stream",
          "name": "stdout",
          "text": [
            "[10, 0, 3, 2, 7, 6, 5, 1, 0, 9, 8]\n"
          ]
        }
      ]
    },
    {
      "cell_type": "code",
      "source": [
        "#sort(): Sorts the elements of the list in ascending order.\n",
        "L2 = [10, 25, 3, 45, 5, 9]\n",
        "L2.sort()\n",
        "print(L2)"
      ],
      "metadata": {
        "colab": {
          "base_uri": "https://localhost:8080/"
        },
        "id": "aKYaOtptZ23o",
        "outputId": "351ca016-e8e8-4b89-f10e-426534b0e041"
      },
      "execution_count": 29,
      "outputs": [
        {
          "output_type": "stream",
          "name": "stdout",
          "text": [
            "[3, 5, 9, 10, 25, 45]\n"
          ]
        }
      ]
    },
    {
      "cell_type": "code",
      "source": [
        "L2.reverse()\n",
        "print(L2)"
      ],
      "metadata": {
        "colab": {
          "base_uri": "https://localhost:8080/"
        },
        "id": "IOGmF8q-aqki",
        "outputId": "50bdd0ee-9f9d-47e2-9d29-b7574e36c54c"
      },
      "execution_count": 30,
      "outputs": [
        {
          "output_type": "stream",
          "name": "stdout",
          "text": [
            "[45, 25, 10, 9, 5, 3]\n"
          ]
        }
      ]
    },
    {
      "cell_type": "code",
      "source": [
        "L = [ 8, 9, 0, 1, 5, 6, 7, 2, 3, 0, 10]\n",
        "print(L)\n",
        "print(len(L))\n",
        "L3 = L[:10]\n",
        "print(L3)\n",
        "L4 = L[5:]\n",
        "print(L4)"
      ],
      "metadata": {
        "colab": {
          "base_uri": "https://localhost:8080/"
        },
        "id": "0yerKMg8asqJ",
        "outputId": "57293270-5dc2-4060-bb8d-9e013bb86026"
      },
      "execution_count": 33,
      "outputs": [
        {
          "output_type": "stream",
          "name": "stdout",
          "text": [
            "[8, 9, 0, 1, 5, 6, 7, 2, 3, 0, 10]\n",
            "11\n",
            "[8, 9, 0, 1, 5, 6, 7, 2, 3, 0]\n",
            "[6, 7, 2, 3, 0, 10]\n"
          ]
        }
      ]
    },
    {
      "cell_type": "code",
      "source": [
        "#clear(): Removes all elements from the list, making it empty.\n",
        "L2 = [10, 25, 3, 45, 5, 9]\n",
        "print(L2)\n",
        "L2.clear()\n",
        "print(L2)"
      ],
      "metadata": {
        "colab": {
          "base_uri": "https://localhost:8080/"
        },
        "id": "zAf4T5ubb9H-",
        "outputId": "b69c77d0-0c8e-4c09-d1e3-f28e302cb450"
      },
      "execution_count": 34,
      "outputs": [
        {
          "output_type": "stream",
          "name": "stdout",
          "text": [
            "[10, 25, 3, 45, 5, 9]\n",
            "[]\n"
          ]
        }
      ]
    },
    {
      "cell_type": "code",
      "source": [
        "#Iterating List using \"for\" loop\n",
        "L2 = [10, 25, 3, 45, 5, 9]\n",
        "for i in L2:\n",
        "    print(i, end = \" \")"
      ],
      "metadata": {
        "colab": {
          "base_uri": "https://localhost:8080/"
        },
        "id": "5QuvmBbVYrvr",
        "outputId": "1485ddbe-a924-4385-da43-f5d91bab401b"
      },
      "execution_count": 38,
      "outputs": [
        {
          "output_type": "stream",
          "name": "stdout",
          "text": [
            "10 25 3 45 5 9 "
          ]
        }
      ]
    }
  ]
}